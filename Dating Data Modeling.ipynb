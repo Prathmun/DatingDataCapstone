{
 "cells": [
  {
   "cell_type": "code",
   "execution_count": 2,
   "id": "natural-mortality",
   "metadata": {},
   "outputs": [],
   "source": [
    "import pandas as pd\n",
    "import numpy as np\n",
    "from sklearn.svm import SVC\n",
    "from sklearn.linear_model import SGDClassifier\n",
    "from sklearn.ensemble import BaggingClassifier, RandomForestClassifier, AdaBoostClassifier, GradientBoostingClassifier\n",
    "from sklearn.experimental import enable_hist_gradient_boosting\n",
    "from sklearn.ensemble import HistGradientBoostingClassifier\n",
    "from sklearn.metrics import confusion_matrix, roc_auc_score\n",
    "from sklearn.dummy import DummyClassifier\n",
    "import time"
   ]
  },
  {
   "cell_type": "code",
   "execution_count": 2,
   "id": "suburban-honey",
   "metadata": {},
   "outputs": [],
   "source": [
    "X_train = pd.read_csv('C:/Users/Prathmun/Documents/Springboard Jupyter/Capstone 2/DataDataCapstone/derived_data/X_train_TS25_RS3.csv')\n",
    "X_test = pd.read_csv('C:/Users/Prathmun/Documents/Springboard Jupyter/Capstone 2/DataDataCapstone/derived_data/X_test_TS25_RS3.csv')\n",
    "y_train = pd.read_csv('C:/Users/Prathmun/Documents/Springboard Jupyter/Capstone 2/DataDataCapstone/derived_data/y_train_TS25_RS3.csv')\n",
    "y_test = pd.read_csv('C:/Users/Prathmun/Documents/Springboard Jupyter/Capstone 2/DataDataCapstone/derived_data/y_test_TS25_RS3.csv')"
   ]
  },
  {
   "cell_type": "code",
   "execution_count": 3,
   "id": "threatened-family",
   "metadata": {},
   "outputs": [],
   "source": [
    "Narrow_X_train = pd.read_csv('C:/Users/Prathmun/Documents/Springboard Jupyter/Capstone 2/DataDataCapstone/derived_data/Narrow_X_train_TS25_RS3.csv')\n",
    "Narrow_X_test = pd.read_csv('C:/Users/Prathmun/Documents/Springboard Jupyter/Capstone 2/DataDataCapstone/derived_data/Narrow_X_test_TS25_RS3.csv')\n",
    "Narrow_y_train = pd.read_csv('C:/Users/Prathmun/Documents/Springboard Jupyter/Capstone 2/DataDataCapstone/derived_data/Narrow_y_train_TS25_RS3.csv')\n",
    "Narrow_y_test = pd.read_csv('C:/Users/Prathmun/Documents/Springboard Jupyter/Capstone 2/DataDataCapstone/derived_data/Narrow_y_test_TS25_RS3.csv')"
   ]
  },
  {
   "cell_type": "code",
   "execution_count": 3,
   "id": "sized-lloyd",
   "metadata": {
    "scrolled": true
   },
   "outputs": [
    {
     "name": "stdout",
     "output_type": "stream",
     "text": [
      "problemtype: medical : Catch all isntances of event, false positives are less of a problem. Maximize: Sensitivity, and Precision\n",
      "problemtype: spam: Catch many instances of event, but minimize FP\n",
      "problem type: Artisinal, run time less important than accuracy\n",
      "problem type: Enterprise, run time is a priority\n"
     ]
    }
   ],
   "source": [
    "print('problemtype: medical : Catch all isntances of event, false positives are less of a problem. Maximize: Sensitivity, and Precision')\n",
    "print('problemtype: spam: Catch many instances of event, but minimize FP')\n",
    "print('problem type: Artisinal, run time less important than accuracy')\n",
    "print('problem type: Enterprise, run time is a priority')"
   ]
  },
  {
   "cell_type": "code",
   "execution_count": 4,
   "id": "wicked-arrow",
   "metadata": {
    "scrolled": true
   },
   "outputs": [
    {
     "name": "stdout",
     "output_type": "stream",
     "text": [
      "dummy\n",
      "SVC\n",
      "SGDClassfier\n",
      "BaggingClassifier\n",
      "RandomForestClassifier\n",
      "AdaBoostClassifier\n",
      "GradientBoostingClassifier\n",
      "HistGradientBoostingClassifier\n"
     ]
    }
   ],
   "source": [
    "#Models to explore\n",
    "model_set = ['dummy','SVC', 'SGDClassfier', 'BaggingClassifier', 'RandomForestClassifier', 'AdaBoostClassifier', 'GradientBoostingClassifier', 'HistGradientBoostingClassifier']\n",
    "model_stats = {}\n",
    "for each in model_set:\n",
    "    model_stats[each] ={'confuse' : [], 'training_time' : 0, 'ROC_AUC_Score': 0}\n",
    "    print(each)"
   ]
  },
  {
   "cell_type": "code",
   "execution_count": 18,
   "id": "close-stuart",
   "metadata": {},
   "outputs": [],
   "source": [
    "def timing_buddy(model_to_fit, dictionary_string):\n",
    "    funky_time_start = time.time()\n",
    "    model_to_fit.fit(X_train, np.ravel(y_train))\n",
    "    funky_time_stop = time.time()\n",
    "    funky_train_time = funky_time_stop - funky_time_start\n",
    "    model_stats[dictionary_string]['training_time'] = funky_train_time\n",
    "    "
   ]
  },
  {
   "cell_type": "code",
   "execution_count": 32,
   "id": "standing-entrepreneur",
   "metadata": {},
   "outputs": [],
   "source": [
    "def confused_buddy(model_to_confuse, dictionary_string):\n",
    "    confuse = confusion_matrix(y_test, model_to_confuse.predict(X_test))\n",
    "    print(dictionary_string)\n",
    "    print(confuse)\n",
    "    model_stats[dictionary_string]['confuse'] = confuse"
   ]
  },
  {
   "cell_type": "markdown",
   "id": "improving-cherry",
   "metadata": {},
   "source": [
    "## Dummy"
   ]
  },
  {
   "cell_type": "code",
   "execution_count": null,
   "id": "handmade-detective",
   "metadata": {},
   "outputs": [],
   "source": [
    "def classy_dummy(X_train, y_train, X_test, y_test):\n",
    "    dummy_clf = DummyClassifier(strategy=\"most_frequent\")\n",
    "    timing_buddy(dummy_clf, 'dummy')\n",
    "    "
   ]
  },
  {
   "cell_type": "code",
   "execution_count": 33,
   "id": "premium-irrigation",
   "metadata": {},
   "outputs": [],
   "source": [
    "dummy_clf = DummyClassifier(strategy=\"most_frequent\")"
   ]
  },
  {
   "cell_type": "code",
   "execution_count": 34,
   "id": "cardiovascular-kentucky",
   "metadata": {},
   "outputs": [
    {
     "name": "stdout",
     "output_type": "stream",
     "text": [
      "0.8037328238665589\n",
      "0.047391653060913086\n"
     ]
    }
   ],
   "source": [
    "timing_buddy(dummy_clf, 'dummy')\n",
    "print(dummy_clf.score(X_test, y_test))\n",
    "print(dummy_train_time)"
   ]
  },
  {
   "cell_type": "code",
   "execution_count": 35,
   "id": "metallic-hollywood",
   "metadata": {
    "scrolled": true
   },
   "outputs": [
    {
     "name": "stdout",
     "output_type": "stream",
     "text": [
      "dummy\n",
      "[[10938     0]\n",
      " [ 2671     0]]\n"
     ]
    }
   ],
   "source": [
    "confused_buddy(dummy_clf, 'dummy')"
   ]
  },
  {
   "cell_type": "code",
   "execution_count": 36,
   "id": "chief-simulation",
   "metadata": {},
   "outputs": [],
   "source": [
    "model_stats['dummy']['ROC_AUC_Score'] = roc_auc_score(y_test, dummy_clf.predict_proba(X_test)[:, 1])"
   ]
  },
  {
   "cell_type": "markdown",
   "id": "interior-extension",
   "metadata": {},
   "source": [
    "## SVC"
   ]
  },
  {
   "cell_type": "code",
   "execution_count": 37,
   "id": "disabled-twist",
   "metadata": {},
   "outputs": [],
   "source": [
    "SupportVectorClassifier = SVC()\n",
    "timing_buddy(SupportVectorClassifier, 'SVC')\n"
   ]
  },
  {
   "cell_type": "code",
   "execution_count": 6,
   "id": "tutorial-missile",
   "metadata": {},
   "outputs": [
    {
     "data": {
      "text/plain": [
       "0.8037328238665589"
      ]
     },
     "execution_count": 6,
     "metadata": {},
     "output_type": "execute_result"
    }
   ],
   "source": [
    "SupportVectorClassifier.score(X_test, y_test)"
   ]
  },
  {
   "cell_type": "code",
   "execution_count": 38,
   "id": "manufactured-integration",
   "metadata": {
    "scrolled": true
   },
   "outputs": [
    {
     "name": "stdout",
     "output_type": "stream",
     "text": [
      "SVC\n",
      "[[10938     0]\n",
      " [ 2671     0]]\n"
     ]
    }
   ],
   "source": [
    "confused_buddy(SupportVectorClassifier, 'SVC')"
   ]
  },
  {
   "cell_type": "code",
   "execution_count": 41,
   "id": "french-supply",
   "metadata": {},
   "outputs": [],
   "source": [
    "model_stats['SVC']['ROC_AUC_Score'] = roc_auc_score(y_test, SupportVectorClassifier.decision_function(X_test))"
   ]
  },
  {
   "cell_type": "markdown",
   "id": "wireless-tokyo",
   "metadata": {},
   "source": [
    "## Stochastic Gradiant Descent "
   ]
  },
  {
   "cell_type": "code",
   "execution_count": null,
   "id": "raised-committee",
   "metadata": {
    "scrolled": true
   },
   "outputs": [],
   "source": [
    "SGD_clf = SGDClassifier()\n",
    "timing_buddy(SGD_clf, 'SGDClassfier')"
   ]
  },
  {
   "cell_type": "code",
   "execution_count": 11,
   "id": "blank-harris",
   "metadata": {},
   "outputs": [
    {
     "data": {
      "text/plain": [
       "0.8037328238665589"
      ]
     },
     "execution_count": 11,
     "metadata": {},
     "output_type": "execute_result"
    }
   ],
   "source": [
    "SGD_clf.score(X_test, y_test)"
   ]
  },
  {
   "cell_type": "code",
   "execution_count": 13,
   "id": "described-disabled",
   "metadata": {},
   "outputs": [
    {
     "name": "stdout",
     "output_type": "stream",
     "text": [
      "[[10938     0]\n",
      " [ 2671     0]]\n"
     ]
    }
   ],
   "source": [
    "SGD_predict = SGD_clf.predict(X_test)\n",
    "SGD_Confuse = confusion_matrix(y_test, SGD_predict)\n",
    "model_stats['SGDClassfier']['confuse'] = SGD_Confuse\n",
    "print(SGD_Confuse)"
   ]
  },
  {
   "cell_type": "code",
   "execution_count": 14,
   "id": "latin-thong",
   "metadata": {},
   "outputs": [],
   "source": [
    "model_stats['SGDClassfier']['ROC_AUC_Score'] = roc_auc_score(y_test, SGD_clf.decision_function(X_test))"
   ]
  },
  {
   "cell_type": "markdown",
   "id": "reduced-freeze",
   "metadata": {},
   "source": [
    "## BaggingClassifier"
   ]
  },
  {
   "cell_type": "code",
   "execution_count": 39,
   "id": "afraid-tiger",
   "metadata": {},
   "outputs": [
    {
     "name": "stdout",
     "output_type": "stream",
     "text": [
      "0.7742670291718715\n",
      "BaggingClassifier\n",
      "[[10337   601]\n",
      " [ 2471   200]]\n"
     ]
    }
   ],
   "source": [
    "Classy_Baggins_DT = BaggingClassifier(n_estimators=10)\n",
    "timing_buddy(Classy_Baggins_DT, 'BaggingClassifier')\n",
    "print(Classy_Baggins_DT.score(X_test, y_test))\n",
    "Bag_predict = Classy_Baggins_DT.predict(X_test)\n",
    "confused_buddy(Classy_Baggins_DT, 'BaggingClassifier')"
   ]
  },
  {
   "cell_type": "code",
   "execution_count": 41,
   "id": "affecting-trademark",
   "metadata": {},
   "outputs": [],
   "source": [
    "model_stats['BaggingClassifier']['ROC_AUC_Score'] = roc_auc_score(y_test, Classy_Baggins_DT.predict_proba(X_test)[:, 1])"
   ]
  },
  {
   "cell_type": "markdown",
   "id": "sticky-adelaide",
   "metadata": {},
   "source": [
    "## RandomForestClassifier"
   ]
  },
  {
   "cell_type": "code",
   "execution_count": 42,
   "id": "empty-sheriff",
   "metadata": {},
   "outputs": [
    {
     "name": "stdout",
     "output_type": "stream",
     "text": [
      "RandomForestClassifier\n",
      "[[10938     0]\n",
      " [ 2671     0]]\n"
     ]
    }
   ],
   "source": [
    "RandoForest = RandomForestClassifier(max_depth=2)\n",
    "timing_buddy(RandoForest, 'RandomForestClassifier')\n",
    "confused_buddy(RandoForest, 'RandomForestClassifier')"
   ]
  },
  {
   "cell_type": "code",
   "execution_count": 43,
   "id": "flexible-panel",
   "metadata": {},
   "outputs": [],
   "source": [
    "model_stats['RandomForestClassifier']['ROC_AUC_Score'] = roc_auc_score(y_test, RandoForest.predict_proba(X_test)[:, 1])"
   ]
  },
  {
   "cell_type": "markdown",
   "id": "undefined-bryan",
   "metadata": {},
   "source": [
    "## AdaBoostClassifier"
   ]
  },
  {
   "cell_type": "code",
   "execution_count": 44,
   "id": "dental-softball",
   "metadata": {},
   "outputs": [
    {
     "name": "stdout",
     "output_type": "stream",
     "text": [
      "AdaBoostClassifier\n",
      "[[10933     5]\n",
      " [ 2666     5]]\n"
     ]
    }
   ],
   "source": [
    "adaira_the_classifier = AdaBoostClassifier(n_estimators=100)\n",
    "timing_buddy(adaira_the_classifier, 'AdaBoostClassifier')\n",
    "confused_buddy(adaira_the_classifier, 'AdaBoostClassifier')"
   ]
  },
  {
   "cell_type": "code",
   "execution_count": 45,
   "id": "arbitrary-symbol",
   "metadata": {},
   "outputs": [],
   "source": [
    "model_stats['AdaBoostClassifier']['ROC_AUC_Score'] = roc_auc_score(y_test, adaira_the_classifier.predict_proba(X_test)[:, 1])"
   ]
  },
  {
   "cell_type": "markdown",
   "id": "abandoned-performer",
   "metadata": {},
   "source": [
    "## GradientBoostingClassifier"
   ]
  },
  {
   "cell_type": "code",
   "execution_count": 50,
   "id": "incident-penny",
   "metadata": {},
   "outputs": [
    {
     "name": "stdout",
     "output_type": "stream",
     "text": [
      "GradientBoostingClassifier\n",
      "[[10932     6]\n",
      " [ 2667     4]]\n"
     ]
    }
   ],
   "source": [
    "grady_the_boosted = GradientBoostingClassifier(n_estimators=100)\n",
    "timing_buddy(grady_the_boosted, 'GradientBoostingClassifier')\n",
    "confused_buddy(grady_the_boosted, 'GradientBoostingClassifier')"
   ]
  },
  {
   "cell_type": "code",
   "execution_count": 51,
   "id": "fourth-progress",
   "metadata": {},
   "outputs": [],
   "source": [
    "model_stats['GradientBoostingClassifier']['ROC_AUC_Score'] = roc_auc_score(y_test, grady_the_boosted.predict_proba(X_test)[:, 1])"
   ]
  },
  {
   "cell_type": "markdown",
   "id": "broken-ridge",
   "metadata": {},
   "source": [
    "## HistGradientBoostingClassifier\n"
   ]
  },
  {
   "cell_type": "code",
   "execution_count": 59,
   "id": "marine-forestry",
   "metadata": {},
   "outputs": [
    {
     "name": "stdout",
     "output_type": "stream",
     "text": [
      "histamine_reaction\n",
      "[[10937     1]\n",
      " [ 2671     0]]\n"
     ]
    }
   ],
   "source": [
    "#for some reason this model didn't like my functions. So long form it is!\n",
    "histamine_reaction = HistGradientBoostingClassifier()\n",
    "    \n",
    "hist_time_start = time.time()\n",
    "histamine_reaction.fit(X_train, np.ravel(y_train))\n",
    "hist_time_stop = time.time()\n",
    "hist_train_time = hist_time_stop - hist_time_start\n",
    "model_stats['HistGradientBoostingClassifier']['training_time'] = hist_train_time\n",
    "\n",
    "confuse = confusion_matrix(y_test, histamine_reaction.predict(X_test))\n",
    "print('histamine_reaction')\n",
    "print(confuse)\n",
    "model_stats['HistGradientBoostingClassifier']['confuse'] = confuse\n",
    "    \n"
   ]
  },
  {
   "cell_type": "code",
   "execution_count": 60,
   "id": "square-college",
   "metadata": {},
   "outputs": [],
   "source": [
    "model_stats['HistGradientBoostingClassifier']['ROC_AUC_Score'] = roc_auc_score(y_test, histamine_reaction.predict_proba(X_test)[:, 1])"
   ]
  },
  {
   "cell_type": "markdown",
   "id": "reported-nashville",
   "metadata": {},
   "source": [
    "## Model Evaluation"
   ]
  },
  {
   "cell_type": "code",
   "execution_count": 64,
   "id": "numeric-punishment",
   "metadata": {
    "scrolled": true
   },
   "outputs": [
    {
     "name": "stdout",
     "output_type": "stream",
     "text": [
      "dummy\n",
      "confuse\n",
      "[[10938     0]\n",
      " [ 2671     0]]\n",
      "training_time\n",
      "0.017272472381591797\n",
      "ROC_AUC_Score\n",
      "0.5\n",
      "SVC\n",
      "confuse\n",
      "[[10938     0]\n",
      " [ 2671     0]]\n",
      "training_time\n",
      "72.97322130203247\n",
      "ROC_AUC_Score\n",
      "0\n",
      "SGDClassfier\n",
      "confuse\n",
      "[[10938     0]\n",
      " [ 2671     0]]\n",
      "training_time\n",
      "0\n",
      "ROC_AUC_Score\n",
      "0.4379346808830056\n",
      "BaggingClassifier\n",
      "confuse\n",
      "[[10337   601]\n",
      " [ 2471   200]]\n",
      "training_time\n",
      "0.5935509204864502\n",
      "ROC_AUC_Score\n",
      "0.5660016509102495\n",
      "RandomForestClassifier\n",
      "confuse\n",
      "[[10938     0]\n",
      " [ 2671     0]]\n",
      "training_time\n",
      "0.8402276039123535\n",
      "ROC_AUC_Score\n",
      "0.620886783743285\n",
      "AdaBoostClassifier\n",
      "confuse\n",
      "[[10933     5]\n",
      " [ 2666     5]]\n",
      "training_time\n",
      "5.037803888320923\n",
      "ROC_AUC_Score\n",
      "0.6238947181209032\n",
      "GradientBoostingClassifier\n",
      "confuse\n",
      "[[10932     6]\n",
      " [ 2667     4]]\n",
      "training_time\n",
      "1.8453543186187744\n",
      "ROC_AUC_Score\n",
      "0.6250329535130755\n",
      "HistGradientBoostingClassifier\n",
      "confuse\n",
      "[[10937     1]\n",
      " [ 2671     0]]\n",
      "training_time\n",
      "0.32375645637512207\n",
      "ROC_AUC_Score\n",
      "0.622746025914143\n"
     ]
    }
   ],
   "source": [
    "for key, value in model_stats.items():\n",
    "    print(key)\n",
    "    for underkey, under_value in value.items():\n",
    "        print(underkey)\n",
    "        print(under_value)"
   ]
  },
  {
   "cell_type": "markdown",
   "id": "norwegian-procurement",
   "metadata": {},
   "source": [
    "#precision = tp/(tp+fp)\n",
    "Maximize this for medical or security scenarios, don't wanna miss actual sicknesses\n",
    "\n",
    "#recall= tp/(tp+fn) \n",
    "maximize this for spam, don't wanna be hiding real emails\n",
    "\n",
    "specificity(tn/(tn+fp)"
   ]
  },
  {
   "cell_type": "markdown",
   "id": "overhead-universe",
   "metadata": {},
   "source": [
    "Confusion matrix format\n",
    "\n",
    "[[tp, fn]\n",
    "[fp, tn]]"
   ]
  },
  {
   "cell_type": "code",
   "execution_count": 72,
   "id": "compact-given",
   "metadata": {
    "scrolled": true
   },
   "outputs": [],
   "source": [
    "def medical_model(dicto):\n",
    "    bestmodel = \"\"\n",
    "    training_time= 0\n",
    "    precision = 0\n",
    "    for key, value in model_stats.items():\n",
    "        for underkey, under_value in value.items():\n",
    "            tp = dicto[key]['confuse'][0][0]\n",
    "            fp = dicto[key]['confuse'][1][0]\n",
    "            temp_precision = tp/(tp + fp)\n",
    "            if temp_precision > precision:\n",
    "                precision = temp_precision\n",
    "                bestmodel = key\n",
    "                training_time = dicto[key]['training_time']\n",
    "        return bestmodel, precision, training_time\n",
    "            \n",
    "            "
   ]
  },
  {
   "cell_type": "code",
   "execution_count": 74,
   "id": "obvious-contamination",
   "metadata": {},
   "outputs": [
    {
     "name": "stdout",
     "output_type": "stream",
     "text": [
      "dummy 0.8037328238665589 0.017272472381591797\n"
     ]
    }
   ],
   "source": [
    "med_model, med_precision, med_time = medical_model(model_stats)\n",
    "print(med_model, med_precision, med_time)"
   ]
  },
  {
   "cell_type": "code",
   "execution_count": 75,
   "id": "expired-danger",
   "metadata": {
    "scrolled": true
   },
   "outputs": [],
   "source": [
    "def spam_model(dicto):\n",
    "    bestmodel = \"\"\n",
    "    training_time= 0\n",
    "    recall = 0\n",
    "    for key, value in model_stats.items():\n",
    "        for underkey, under_value in value.items():\n",
    "            tp = dicto[key]['confuse'][0][0]\n",
    "            fn = dicto[key]['confuse'][0][1]\n",
    "            temp_recall = tp/(tp + fn)\n",
    "            if temp_recall > recall:\n",
    "                recall = temp_recall\n",
    "                bestmodel = key\n",
    "                training_time = dicto[key]['training_time']\n",
    "        return bestmodel, recall, training_time"
   ]
  },
  {
   "cell_type": "code",
   "execution_count": 76,
   "id": "equal-publicity",
   "metadata": {},
   "outputs": [
    {
     "name": "stdout",
     "output_type": "stream",
     "text": [
      "dummy 1.0 0.017272472381591797\n"
     ]
    }
   ],
   "source": [
    "spam_model, spam_precision, spam_time = spam_model(model_stats)\n",
    "print(spam_model, spam_precision, spam_time)"
   ]
  }
 ],
 "metadata": {
  "kernelspec": {
   "display_name": "Python 3",
   "language": "python",
   "name": "python3"
  },
  "language_info": {
   "codemirror_mode": {
    "name": "ipython",
    "version": 3
   },
   "file_extension": ".py",
   "mimetype": "text/x-python",
   "name": "python",
   "nbconvert_exporter": "python",
   "pygments_lexer": "ipython3",
   "version": "3.9.1"
  }
 },
 "nbformat": 4,
 "nbformat_minor": 5
}
