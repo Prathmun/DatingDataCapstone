{
 "cells": [
  {
   "cell_type": "markdown",
   "id": "occupational-beauty",
   "metadata": {},
   "source": [
    "### Module and Data Importation"
   ]
  },
  {
   "cell_type": "code",
   "execution_count": 109,
   "id": "natural-mortality",
   "metadata": {},
   "outputs": [],
   "source": [
    "import pandas as pd\n",
    "import numpy as np\n",
    "from sklearn.svm import SVC\n",
    "from sklearn.linear_model import SGDClassifier\n",
    "from sklearn.ensemble import BaggingClassifier, RandomForestClassifier, AdaBoostClassifier, GradientBoostingClassifier\n",
    "from sklearn.experimental import enable_hist_gradient_boosting\n",
    "from sklearn.ensemble import HistGradientBoostingClassifier\n",
    "from sklearn.metrics import confusion_matrix, roc_auc_score\n",
    "from sklearn.dummy import DummyClassifier\n",
    "from sklearn.utils import resample\n",
    "from bayes_opt import BayesianOptimization\n",
    "import time\n",
    "import matplotlib.pyplot as plt\n"
   ]
  },
  {
   "cell_type": "code",
   "execution_count": 70,
   "id": "suburban-honey",
   "metadata": {},
   "outputs": [],
   "source": [
    "X_train = pd.read_csv('C:/Users/Prathmun/Documents/Springboard Jupyter/Capstone 2/DataDataCapstone/derived_data/X_train_TS25_RS3.csv')\n",
    "X_test = pd.read_csv('C:/Users/Prathmun/Documents/Springboard Jupyter/Capstone 2/DataDataCapstone/derived_data/X_test_TS25_RS3.csv')\n",
    "y_train = pd.read_csv('C:/Users/Prathmun/Documents/Springboard Jupyter/Capstone 2/DataDataCapstone/derived_data/y_train_TS25_RS3.csv')\n",
    "y_test = pd.read_csv('C:/Users/Prathmun/Documents/Springboard Jupyter/Capstone 2/DataDataCapstone/derived_data/y_test_TS25_RS3.csv')"
   ]
  },
  {
   "cell_type": "markdown",
   "id": "higher-wayne",
   "metadata": {},
   "source": [
    "# Problem Statements"
   ]
  },
  {
   "cell_type": "code",
   "execution_count": 72,
   "id": "sized-lloyd",
   "metadata": {
    "scrolled": false
   },
   "outputs": [
    {
     "name": "stdout",
     "output_type": "stream",
     "text": [
      "problemtype: Medical : Catch all instances of event, false positives are less of a problem. Maximize: Recall\n",
      "problemtype: Spam: Catch most instances of event, minimize false positives. Deflect spam, without hiding real mail. Maximize Precision.\n"
     ]
    }
   ],
   "source": [
    "print('problemtype: Medical : Catch all instances of event, false positives are less of a problem. Maximize: Recall')\n",
    "print(\"problemtype: Spam: Catch most instances of event, minimize false positives. Deflect spam, without hiding real mail. Maximize Precision.\")"
   ]
  },
  {
   "cell_type": "markdown",
   "id": "infinite-accommodation",
   "metadata": {},
   "source": [
    "### Helper Funcitons"
   ]
  },
  {
   "cell_type": "code",
   "execution_count": 73,
   "id": "close-stuart",
   "metadata": {},
   "outputs": [],
   "source": [
    "def timing_buddy(model_to_fit, dictionary_string, dicto):\n",
    "    funky_time_start = time.time()\n",
    "    model_to_fit.fit(X_train, np.ravel(y_train))\n",
    "    funky_time_stop = time.time()\n",
    "    funky_train_time = funky_time_stop - funky_time_start\n",
    "    dicto[dictionary_string]['training_time'] = funky_train_time\n",
    "    "
   ]
  },
  {
   "cell_type": "code",
   "execution_count": 74,
   "id": "standing-entrepreneur",
   "metadata": {},
   "outputs": [],
   "source": [
    "def confused_buddy(model_to_confuse, dictionary_string,dicto):\n",
    "    confuse = confusion_matrix(y_test, model_to_confuse.predict(X_test))\n",
    "    dicto[dictionary_string]['confuse'] = confuse"
   ]
  },
  {
   "cell_type": "code",
   "execution_count": 75,
   "id": "preceding-queensland",
   "metadata": {},
   "outputs": [],
   "source": [
    "def recall_calculator(confuse):\n",
    "    recall = 0\n",
    "    tp = confuse[1][1]\n",
    "    fn = confuse[1][0]\n",
    "    if tp > 0 or tp ==1:\n",
    "        recall = tp / (tp+fn)\n",
    "    return recall"
   ]
  },
  {
   "cell_type": "code",
   "execution_count": 76,
   "id": "vocational-stupid",
   "metadata": {},
   "outputs": [],
   "source": [
    "def precision_calculator(confuse):\n",
    "    precision = 0\n",
    "    tp = confuse[1][1]\n",
    "    fp = confuse[0][1]\n",
    "    if tp > 0 or tp ==1:\n",
    "        precision = tp / (tp+fp)\n",
    "    return precision"
   ]
  },
  {
   "cell_type": "markdown",
   "id": "improving-cherry",
   "metadata": {},
   "source": [
    "## Dummy"
   ]
  },
  {
   "cell_type": "code",
   "execution_count": 77,
   "id": "harmful-samuel",
   "metadata": {},
   "outputs": [],
   "source": [
    "def classy_dummy(dicto, X_train, y_train, X_test, y_test):\n",
    "    print('dumbo')\n",
    "    dummy_clf = DummyClassifier(strategy=\"most_frequent\")\n",
    "    timing_buddy(dummy_clf, 'dummy', dicto)\n",
    "    confused_buddy(dummy_clf, 'dummy', dicto)\n",
    "    confused_buddy(dummy_clf, 'dummy', dicto)\n",
    "    dicto['dummy']['ROC_AUC_Score'] = roc_auc_score(y_test, dummy_clf.predict_proba(X_test)[:, 1])\n",
    "    "
   ]
  },
  {
   "cell_type": "markdown",
   "id": "interior-extension",
   "metadata": {},
   "source": [
    "## SVC"
   ]
  },
  {
   "cell_type": "code",
   "execution_count": 78,
   "id": "opposed-celtic",
   "metadata": {},
   "outputs": [],
   "source": [
    "def SVCmodeler(dicto, X_train, y_train, X_test, y_test):\n",
    "    print('Support Vector Classification')\n",
    "    SupportVectorClassifier = SVC()\n",
    "    timing_buddy(SupportVectorClassifier, 'SVC', dicto)\n",
    "    confused_buddy(SupportVectorClassifier, 'SVC', dicto)\n",
    "    dicto['SVC']['ROC_AUC_Score'] = roc_auc_score(y_test, SupportVectorClassifier.decision_function(X_test))\n"
   ]
  },
  {
   "cell_type": "markdown",
   "id": "reduced-freeze",
   "metadata": {},
   "source": [
    "## Stochastic Gradiant Descent "
   ]
  },
  {
   "cell_type": "code",
   "execution_count": 79,
   "id": "matched-accused",
   "metadata": {},
   "outputs": [],
   "source": [
    "def grid_sgd_model(dicto, X_train, y_train, X_test, y_test):\n",
    "    \n",
    "    def SGDHyperParameterer(loss_penalty_list):\n",
    "        SGD_clf = SGDClassifier(loss = loss_penalty_list[0], penalty=loss_penalty_list[1])\n",
    "        SGD_clf.fit(X_train, np.ravel(y_train))\n",
    "        confuse = confusion_matrix(y_test, SGD_clf.predict(X_test))\n",
    "        recall = recall_calculator(confuse)\n",
    "        return recall\n",
    "    \n",
    "    \n",
    "    losses= ['modified_huber', 'log']\n",
    "    penalties = ['l2', 'l1', 'elasticnet']\n",
    "    param_grid = {}\n",
    "    count = 0\n",
    "    for each_loss in losses:\n",
    "        for each_penalty in penalties:\n",
    "            param_grid[str(each_loss) + '-' + str(each_penalty)] = [each_loss, each_penalty]\n",
    "            count+=1\n",
    "\n",
    "    \n",
    "    ###\n",
    "    SGD_Hyper_param_recall_scores = {}\n",
    "    for key, value in param_grid.items():\n",
    "        SGD_Hyper_param_recall_scores[key] = SGDHyperParameterer(value)\n",
    "\n",
    "    ###\n",
    "    \n",
    "    print('Stochastic Gradiant Descent')\n",
    "    best_recall = 0\n",
    "    penalty = ''\n",
    "    loss = ''\n",
    "    for key, value in SGD_Hyper_param_recall_scores.items():\n",
    "        if value > best_recall:\n",
    "            best_recall = value\n",
    "            loss, penalty = key.split('-')\n",
    "            \n",
    "        \n",
    "                                                                 \n",
    "    \n",
    "    ###\n",
    "    SGD_clf = SGDClassifier(loss = loss, penalty= penalty)\n",
    "    timing_buddy(SGD_clf, 'SGDClassfier', dicto)\n",
    "    confused_buddy(SGD_clf, 'SGDClassfier', dicto)\n",
    "    dicto['SGDClassfier']['ROC_AUC_Score'] = roc_auc_score(y_test, SGD_clf.decision_function(X_test))\n",
    "    dicto['SGDClassfier']['Hyper_Params'] = {'Loss': loss, 'penalty':penalty}"
   ]
  },
  {
   "cell_type": "markdown",
   "id": "sticky-adelaide",
   "metadata": {},
   "source": [
    "## BaggingClassifier"
   ]
  },
  {
   "cell_type": "code",
   "execution_count": 80,
   "id": "ready-hawaiian",
   "metadata": {},
   "outputs": [],
   "source": [
    "def bayes_bagging_model(dicto, X_train, y_train, X_test, y_test):\n",
    "    \n",
    "    def bagginses_hyper(max_samples,max_features,n_estimators):\n",
    "        Classy_Baggins_DT = BaggingClassifier(max_samples= max_samples,max_features = max_features, n_estimators=int(n_estimators))\n",
    "        Classy_Baggins_DT.fit(X_train, np.ravel(y_train))\n",
    "        confuse = confusion_matrix(y_test, Classy_Baggins_DT.predict(X_test))\n",
    "        recall = recall_calculator(confuse)\n",
    "        return recall\n",
    "\n",
    "\n",
    "    \n",
    "    ###\n",
    "    pparams ={ 'max_samples': (.1,.9),\n",
    "       'max_features' : (.1,.9),\n",
    "       'n_estimators': (10,500)}\n",
    "\n",
    "    ###\n",
    "    \n",
    "    optimizer = BayesianOptimization(\n",
    "    bagginses_hyper,\n",
    "    pbounds=pparams)\n",
    "    \n",
    "    ######\n",
    "    \n",
    "    print('Bagging Classifier')\n",
    "    optimizer.maximize(init_points=15, n_iter=10)\n",
    "    bagginses_params= optimizer.max\n",
    "    bagginses_params = bagginses_params['params']\n",
    "    \n",
    "    ###\n",
    "    Classy_Baggins_DT = BaggingClassifier(n_estimators=int(bagginses_params['n_estimators']), \n",
    "                                          max_features=bagginses_params['max_features'],\n",
    "                                          max_samples =bagginses_params['max_samples'] )\n",
    "    timing_buddy(Classy_Baggins_DT, 'BaggingClassifier', dicto)\n",
    "    confused_buddy(Classy_Baggins_DT, 'BaggingClassifier', dicto)\n",
    "    dicto['BaggingClassifier']['ROC_AUC_Score'] = roc_auc_score(y_test, Classy_Baggins_DT.predict_proba(X_test)[:, 1])\n",
    "    dicto['BaggingClassifier']['Hyper_Params'] = bagginses_params"
   ]
  },
  {
   "cell_type": "markdown",
   "id": "regional-vampire",
   "metadata": {},
   "source": [
    "## Random Forest Model"
   ]
  },
  {
   "cell_type": "code",
   "execution_count": 81,
   "id": "virgin-tokyo",
   "metadata": {},
   "outputs": [],
   "source": [
    "def bayes_rf_model(dicto, X_train, y_train, X_test, y_test):\n",
    "    \n",
    "    def bayes_RFModeler_sqrt(n_estimators, \n",
    "                             max_depth,\n",
    "                             min_samples_split,\n",
    "                             min_samples_leaf):\n",
    "        RandoForest = RandomForestClassifier(n_estimators=int(n_estimators), max_features='sqrt', max_depth=int(max_depth),\n",
    "                                             min_samples_split=int(min_samples_split), min_samples_leaf=int(min_samples_leaf))\n",
    "        RandoForest.fit(X_train, np.ravel(y_train))\n",
    "        confuse = confusion_matrix(y_test, RandoForest.predict(X_test))\n",
    "        recall = recall_calculator(confuse)\n",
    "        return recall\n",
    "\n",
    "    \n",
    "    ###\n",
    "    param_dicts = { 'n_estimators' : (100, 2000),\n",
    "              'max_depth' : (10,60),\n",
    "              'min_samples_split': (2,10),\n",
    "              'min_samples_leaf' : (1,5),\n",
    "              }\n",
    "    ###\n",
    "    \n",
    "    optimizer = BayesianOptimization(\n",
    "    bayes_RFModeler_sqrt,\n",
    "    pbounds=param_dicts)\n",
    "    \n",
    "    ######\n",
    "    \n",
    "    print('Random Forest')\n",
    "    optimizer.maximize(init_points=15, n_iter=10)\n",
    "    rf_params= optimizer.max\n",
    "    rf_params = rf_params['params']\n",
    "    \n",
    "    ###\n",
    "    RandoForest = RandomForestClassifier(n_estimators=int(rf_params['n_estimators']), \n",
    "                                         max_features='sqrt',\n",
    "                                         max_depth=int(rf_params['max_depth']),\n",
    "                                         min_samples_split=int(rf_params['min_samples_split']),\n",
    "                                         min_samples_leaf=int(rf_params['min_samples_leaf']))\n",
    "    \n",
    "    timing_buddy(RandoForest, 'RandomForestClassifier', dicto)\n",
    "    confused_buddy(RandoForest, 'RandomForestClassifier', dicto)\n",
    "    dicto['RandomForestClassifier']['ROC_AUC_Score'] = roc_auc_score(y_test, RandoForest.predict_proba(X_test)[:, 1])\n",
    "    dicto['RandomForestClassifier']['Hyper_Params'] = rf_params"
   ]
  },
  {
   "cell_type": "markdown",
   "id": "abandoned-performer",
   "metadata": {},
   "source": [
    "## AdaBooast Classifier"
   ]
  },
  {
   "cell_type": "code",
   "execution_count": 82,
   "id": "based-hormone",
   "metadata": {},
   "outputs": [],
   "source": [
    "def bayes_hyper_ada_boost_model(dicto, X_train, y_train, X_test, y_test):\n",
    "    \n",
    "    def AdaBoost_hyper(n_estimators, learning_rate):\n",
    "        adaira_the_classifier = AdaBoostClassifier(learning_rate=learning_rate,  n_estimators=int(n_estimators))\n",
    "        adaira_the_classifier.fit(X_train, np.ravel(y_train))\n",
    "        confuse = confusion_matrix(y_test, adaira_the_classifier.predict(X_test))\n",
    "        recall = recall_calculator(confuse)\n",
    "        return recall\n",
    "\n",
    "    \n",
    "    ###\n",
    "    ada_params = {'learning_rate' : (.1,2),\n",
    "              'n_estimators':(10,500),}\n",
    "    ###\n",
    "    \n",
    "    optimizer = BayesianOptimization(\n",
    "    AdaBoost_hyper,\n",
    "    pbounds=ada_params)\n",
    "    \n",
    "    ######\n",
    "    \n",
    "    print('AdaBoost')\n",
    "    optimizer.maximize(init_points=15, n_iter=10)\n",
    "    ada_boost_params= optimizer.max\n",
    "    ada_boost_params = ada_boost_params['params']\n",
    "    \n",
    "    ###\n",
    "    adaira_the_classifier = AdaBoostClassifier(learning_rate=ada_boost_params['learning_rate'],  n_estimators=int(ada_boost_params['n_estimators']))\n",
    "    timing_buddy(adaira_the_classifier, 'AdaBoostClassifier', dicto)\n",
    "    confused_buddy(adaira_the_classifier, 'AdaBoostClassifier', dicto)\n",
    "    dicto['AdaBoostClassifier']['ROC_AUC_Score'] = roc_auc_score(y_test, adaira_the_classifier.predict_proba(X_test)[:, 1])\n",
    "    dicto['AdaBoostClassifier']['Hyper_Params'] = ada_boost_params"
   ]
  },
  {
   "cell_type": "markdown",
   "id": "annual-short",
   "metadata": {},
   "source": [
    "## Gradiant Boosting Model"
   ]
  },
  {
   "cell_type": "code",
   "execution_count": 83,
   "id": "cheap-forwarding",
   "metadata": {},
   "outputs": [],
   "source": [
    "def bayes_hyper_grad_boosting_model(dicto, X_train, y_train, X_test, y_test):\n",
    "    \n",
    "    def GradBoost_hyper(n_estimators, learning_rate, max_leaf_nodes):\n",
    "        grady_the_boosted = GradientBoostingClassifier(learning_rate=learning_rate,  n_estimators=int(n_estimators),\n",
    "                                                      max_leaf_nodes=int(max_leaf_nodes))\n",
    "        grady_the_boosted.fit(X_train, np.ravel(y_train))\n",
    "        confuse = confusion_matrix(y_test, grady_the_boosted.predict(X_test))\n",
    "        recall = recall_calculator(confuse)\n",
    "        return recall\n",
    "    \n",
    "    ###\n",
    "    GradBoost_params = {'learning_rate' : (.1,2),\n",
    "                    'n_estimators':(10,500),\n",
    "                    'max_leaf_nodes':(3,50)}\n",
    "    ###\n",
    "    \n",
    "    optimizer = BayesianOptimization(\n",
    "    GradBoost_hyper,\n",
    "    pbounds=GradBoost_params)\n",
    "    \n",
    "    ######\n",
    "    \n",
    "    print('Gradient Boosting')\n",
    "    optimizer.maximize(init_points=15, n_iter=10)\n",
    "    grad_boost_params= optimizer.max\n",
    "    grad_boost_params = grad_boost_params['params']\n",
    "    \n",
    "    ###\n",
    "    grady_the_boosted = GradientBoostingClassifier(learning_rate=grad_boost_params['learning_rate'],\n",
    "                                                   n_estimators=int(grad_boost_params['n_estimators']),\n",
    "                                                   max_leaf_nodes=int(grad_boost_params['max_leaf_nodes']))\n",
    "    timing_buddy(grady_the_boosted, 'GradientBoostingClassifier', dicto)\n",
    "    confused_buddy(grady_the_boosted, 'GradientBoostingClassifier', dicto)\n",
    "    dicto['GradientBoostingClassifier']['ROC_AUC_Score'] = roc_auc_score(y_test, grady_the_boosted.predict_proba(X_test)[:, 1])\n",
    "    dicto['GradientBoostingClassifier']['Hyper_Params'] = grad_boost_params\n",
    "    "
   ]
  },
  {
   "cell_type": "markdown",
   "id": "industrial-cooperation",
   "metadata": {},
   "source": [
    "## HistGradientBoostingClassifier\n"
   ]
  },
  {
   "cell_type": "code",
   "execution_count": 84,
   "id": "assisted-chicago",
   "metadata": {},
   "outputs": [],
   "source": [
    "def bayes_hyper_hist_grad_model(dicto, X_train, y_train, X_test, y_test):\n",
    "    \n",
    "    def histBoost_hyper(learning_rate, max_leaf_nodes):\n",
    "        histamine_reaction = HistGradientBoostingClassifier(learning_rate=learning_rate,\n",
    "                                                      max_leaf_nodes=int(max_leaf_nodes))\n",
    "        histamine_reaction.fit(X_train, np.ravel(y_train))\n",
    "        confuse = confusion_matrix(y_test, histamine_reaction.predict(X_test))\n",
    "        recall = recall_calculator(confuse)\n",
    "        return recall\n",
    "    ###\n",
    "    HistBoost_params = {'learning_rate' : (.1,2),\n",
    "                    'max_leaf_nodes':(3,50)}\n",
    "    ###\n",
    "    optimizer = BayesianOptimization(\n",
    "    histBoost_hyper,\n",
    "    pbounds=HistBoost_params)\n",
    "    \n",
    "    ######\n",
    "    \n",
    "    print('HistGradient')\n",
    "    optimizer.maximize(init_points=15, n_iter=10)\n",
    "    hist_grad_params= optimizer.max\n",
    "    print(hist_grad_params)\n",
    "    hist_grad_params = hist_grad_params['params']\n",
    "    ###\n",
    "    histamine_reaction = HistGradientBoostingClassifier(learning_rate =hist_grad_params['learning_rate'],\n",
    "                                                        max_leaf_nodes= int(hist_grad_params['max_leaf_nodes']))\n",
    "    hist_time_start = time.time()\n",
    "    histamine_reaction.fit(X_train, np.ravel(y_train))\n",
    "    hist_time_stop = time.time()\n",
    "    hist_train_time = hist_time_stop - hist_time_start\n",
    "    ###\n",
    "    dicto['HistGradientBoostingClassifier']['training_time'] = hist_train_time\n",
    "    confuse = confusion_matrix(y_test, histamine_reaction.predict(X_test))\n",
    "    dicto['HistGradientBoostingClassifier']['confuse'] = confuse\n",
    "    dicto['HistGradientBoostingClassifier']['ROC_AUC_Score'] = roc_auc_score(y_test, histamine_reaction.predict_proba(X_test)[:, 1])    \n",
    "    dicto['HistGradientBoostingClassifier']['Hyper_Params'] = hist_grad_params"
   ]
  },
  {
   "cell_type": "markdown",
   "id": "reported-nashville",
   "metadata": {},
   "source": [
    "## Model Evaluation"
   ]
  },
  {
   "cell_type": "markdown",
   "id": "norwegian-procurement",
   "metadata": {},
   "source": [
    "#precision = tp/(tp+fp)\n",
    "maximize this for spam, don't wanna be hiding real emails\n",
    "\n",
    "#recall= tp/(tp+fn) \n",
    "Maximize this for medical or security scenarios, don't wanna miss actual sicknesses"
   ]
  },
  {
   "cell_type": "code",
   "execution_count": 98,
   "id": "compact-given",
   "metadata": {
    "scrolled": true
   },
   "outputs": [],
   "source": [
    "def medical_evaluator(dicto):\n",
    "    bestmodel = \"\"\n",
    "    training_time= 0\n",
    "    recall = 0\n",
    "    temp_recall = 0\n",
    "    for key, value in dicto.items():\n",
    "        \n",
    "        confuse = dicto[key]['confuse']\n",
    "        if type(confuse) != list:\n",
    "            temp_recall = recall_calculator(confuse)\n",
    "\n",
    "            if temp_recall > recall:\n",
    "\n",
    "                recall = temp_recall\n",
    "                bestmodel = key\n",
    "                training_time = dicto[key]['training_time']\n",
    "    return bestmodel, recall, training_time"
   ]
  },
  {
   "cell_type": "code",
   "execution_count": 99,
   "id": "expired-danger",
   "metadata": {
    "scrolled": true
   },
   "outputs": [],
   "source": [
    "def spam_evaluator(dicto):\n",
    "    bestmodel = \"\"\n",
    "    training_time= 0\n",
    "    precision = 0\n",
    "    temp_precision = 0.00000001\n",
    "    for key, value in dicto.items():\n",
    "        confuse = dicto[key]['confuse']\n",
    "        if type(confuse) != list:\n",
    "            temp_precision = precision_calculator(confuse)\n",
    "\n",
    "            if temp_precision > precision:\n",
    "\n",
    "                precision = temp_precision\n",
    "                bestmodel = key\n",
    "                training_time = dicto[key]['training_time']\n",
    "    return bestmodel, precision, training_time"
   ]
  },
  {
   "cell_type": "markdown",
   "id": "provincial-cambridge",
   "metadata": {},
   "source": [
    "# Model Execution"
   ]
  },
  {
   "cell_type": "markdown",
   "id": "unlike-banks",
   "metadata": {},
   "source": [
    "### Aggregate Function"
   ]
  },
  {
   "cell_type": "code",
   "execution_count": 87,
   "id": "inside-tuning",
   "metadata": {},
   "outputs": [],
   "source": [
    "def chonky_model_aggregator(X_train, y_train, X_test, y_test):\n",
    "    \n",
    "    #Models to explore\n",
    "    model_set = ['dummy','SVC', 'SGDClassfier', 'BaggingClassifier', 'RandomForestClassifier', 'AdaBoostClassifier', 'GradientBoostingClassifier', 'HistGradientBoostingClassifier']\n",
    "    model_stats = {}\n",
    "    for each in model_set:\n",
    "        model_stats[each] ={'confuse' : [], 'training_time' : 0, 'ROC_AUC_Score': 0, 'Hyper_Params': {}}\n",
    "    #model running\n",
    "    classy_dummy(model_stats, X_train, y_train, X_test, y_test)\n",
    "    #SVC was taking a long time to train and doing very little for us\n",
    "    #SVCmodeler(model_stats, X_train, y_train, X_test, y_test)\n",
    "    grid_sgd_model(model_stats, X_train, y_train, X_test, y_test)\n",
    "    #bagging hasn't been particularly impressive either\n",
    "    \n",
    "    #bayes_bagging_model(model_stats, X_train, y_train, X_test, y_test)\n",
    "    #RF Takes a while to train, but's been leading the precision score\n",
    "    bayes_rf_model(model_stats, X_train, y_train, X_test, y_test)\n",
    "    #Previous trials showed that the ada boost is taking a while to train, and not leading the pack on any of the relevant scores.\n",
    "    #bayes_hyper_ada_boost_model(model_stats, X_train, y_train, X_test, y_test)\n",
    "    bayes_hyper_grad_boosting_model(model_stats, X_train, y_train, X_test, y_test)\n",
    "    bayes_hyper_hist_grad_model(model_stats, X_train, y_train, X_test, y_test)\n",
    "\n",
    "\n",
    "    #best_med_model, med_precision, med_time = medical_evaluator(model_stats)\n",
    "    #best_spam_model, spam_recall, spam_time = spam_evaluator(model_stats)\n",
    "    #print(\"The best medical model (Optimizing for precision) is \" + best_med_model + \" It's precision score was\" + str(round(med_precision,3)) + \" and it took \" + str(round(med_time,2)) +\" seconds to run.\")\n",
    "    #print(\"\")\n",
    "    #print(\"The best spam model (Optimizing for recall) is \" + best_spam_model + \" It's recall score was\" +str(round(spam_recall, 3)) +\" and it took \" + str(round(spam_time, 2) +\" seconds to run.\")\n",
    "    return model_stats\n",
    "\n"
   ]
  },
  {
   "cell_type": "markdown",
   "id": "greek-compact",
   "metadata": {},
   "source": [
    "#Wide Data"
   ]
  },
  {
   "cell_type": "markdown",
   "id": "authorized-singing",
   "metadata": {},
   "source": [
    "### Stats Creation"
   ]
  },
  {
   "cell_type": "markdown",
   "id": "regional-smart",
   "metadata": {},
   "source": [
    "#### Wide Stats"
   ]
  },
  {
   "cell_type": "code",
   "execution_count": 88,
   "id": "level-clerk",
   "metadata": {
    "scrolled": true
   },
   "outputs": [
    {
     "name": "stdout",
     "output_type": "stream",
     "text": [
      "dumbo\n",
      "Stochastic Gradiant Descent\n",
      "Random Forest\n",
      "|   iter    |  target   | max_depth | min_sa... | min_sa... | n_esti... |\n",
      "-------------------------------------------------------------------------\n",
      "| \u001b[0m 1       \u001b[0m | \u001b[0m 0.08012 \u001b[0m | \u001b[0m 12.63   \u001b[0m | \u001b[0m 3.807   \u001b[0m | \u001b[0m 3.094   \u001b[0m | \u001b[0m 269.8   \u001b[0m |\n",
      "| \u001b[95m 2       \u001b[0m | \u001b[95m 0.179   \u001b[0m | \u001b[95m 28.21   \u001b[0m | \u001b[95m 2.259   \u001b[0m | \u001b[95m 4.941   \u001b[0m | \u001b[95m 1.076e+0\u001b[0m |\n",
      "| \u001b[95m 3       \u001b[0m | \u001b[95m 0.1857  \u001b[0m | \u001b[95m 54.14   \u001b[0m | \u001b[95m 2.191   \u001b[0m | \u001b[95m 2.066   \u001b[0m | \u001b[95m 1.619e+0\u001b[0m |\n",
      "| \u001b[0m 4       \u001b[0m | \u001b[0m 0.04979 \u001b[0m | \u001b[0m 11.77   \u001b[0m | \u001b[0m 3.295   \u001b[0m | \u001b[0m 3.919   \u001b[0m | \u001b[0m 914.5   \u001b[0m |\n",
      "| \u001b[0m 5       \u001b[0m | \u001b[0m 0.1441  \u001b[0m | \u001b[0m 18.07   \u001b[0m | \u001b[0m 4.507   \u001b[0m | \u001b[0m 8.336   \u001b[0m | \u001b[0m 818.9   \u001b[0m |\n",
      "| \u001b[0m 6       \u001b[0m | \u001b[0m 0.1775  \u001b[0m | \u001b[0m 59.27   \u001b[0m | \u001b[0m 3.311   \u001b[0m | \u001b[0m 5.027   \u001b[0m | \u001b[0m 1.983e+0\u001b[0m |\n",
      "| \u001b[0m 7       \u001b[0m | \u001b[0m 0.1284  \u001b[0m | \u001b[0m 16.97   \u001b[0m | \u001b[0m 2.817   \u001b[0m | \u001b[0m 8.151   \u001b[0m | \u001b[0m 307.6   \u001b[0m |\n",
      "| \u001b[95m 8       \u001b[0m | \u001b[95m 0.2007  \u001b[0m | \u001b[95m 49.67   \u001b[0m | \u001b[95m 1.473   \u001b[0m | \u001b[95m 3.083   \u001b[0m | \u001b[95m 1.159e+0\u001b[0m |\n",
      "| \u001b[0m 9       \u001b[0m | \u001b[0m 0.182   \u001b[0m | \u001b[0m 30.82   \u001b[0m | \u001b[0m 2.655   \u001b[0m | \u001b[0m 7.478   \u001b[0m | \u001b[0m 294.0   \u001b[0m |\n",
      "| \u001b[0m 10      \u001b[0m | \u001b[0m 0.1689  \u001b[0m | \u001b[0m 24.69   \u001b[0m | \u001b[0m 3.5     \u001b[0m | \u001b[0m 8.219   \u001b[0m | \u001b[0m 628.0   \u001b[0m |\n",
      "| \u001b[0m 11      \u001b[0m | \u001b[0m 0.1909  \u001b[0m | \u001b[0m 45.26   \u001b[0m | \u001b[0m 2.325   \u001b[0m | \u001b[0m 5.829   \u001b[0m | \u001b[0m 1.253e+0\u001b[0m |\n",
      "| \u001b[0m 12      \u001b[0m | \u001b[0m 0.1883  \u001b[0m | \u001b[0m 30.38   \u001b[0m | \u001b[0m 1.579   \u001b[0m | \u001b[0m 5.186   \u001b[0m | \u001b[0m 1.274e+0\u001b[0m |\n",
      "| \u001b[0m 13      \u001b[0m | \u001b[0m 0.1602  \u001b[0m | \u001b[0m 22.58   \u001b[0m | \u001b[0m 4.298   \u001b[0m | \u001b[0m 3.186   \u001b[0m | \u001b[0m 1.77e+03\u001b[0m |\n",
      "| \u001b[0m 14      \u001b[0m | \u001b[0m 0.1041  \u001b[0m | \u001b[0m 14.19   \u001b[0m | \u001b[0m 1.994   \u001b[0m | \u001b[0m 7.204   \u001b[0m | \u001b[0m 240.7   \u001b[0m |\n",
      "| \u001b[0m 15      \u001b[0m | \u001b[0m 0.06889 \u001b[0m | \u001b[0m 12.92   \u001b[0m | \u001b[0m 3.384   \u001b[0m | \u001b[0m 9.954   \u001b[0m | \u001b[0m 1.461e+0\u001b[0m |\n",
      "| \u001b[0m 16      \u001b[0m | \u001b[0m 0.1894  \u001b[0m | \u001b[0m 29.39   \u001b[0m | \u001b[0m 1.413   \u001b[0m | \u001b[0m 6.085   \u001b[0m | \u001b[0m 1.274e+0\u001b[0m |\n",
      "| \u001b[0m 17      \u001b[0m | \u001b[0m 0.1999  \u001b[0m | \u001b[0m 59.57   \u001b[0m | \u001b[0m 1.317   \u001b[0m | \u001b[0m 5.177   \u001b[0m | \u001b[0m 296.5   \u001b[0m |\n",
      "| \u001b[0m 18      \u001b[0m | \u001b[0m 0.1786  \u001b[0m | \u001b[0m 44.98   \u001b[0m | \u001b[0m 3.415   \u001b[0m | \u001b[0m 6.021   \u001b[0m | \u001b[0m 1.199e+0\u001b[0m |\n",
      "| \u001b[0m 19      \u001b[0m | \u001b[0m 0.1681  \u001b[0m | \u001b[0m 23.36   \u001b[0m | \u001b[0m 2.216   \u001b[0m | \u001b[0m 4.403   \u001b[0m | \u001b[0m 1.129e+0\u001b[0m |\n",
      "| \u001b[0m 20      \u001b[0m | \u001b[0m 0.03969 \u001b[0m | \u001b[0m 10.0    \u001b[0m | \u001b[0m 1.0     \u001b[0m | \u001b[0m 10.0    \u001b[0m | \u001b[0m 1.239e+0\u001b[0m |\n",
      "| \u001b[0m 21      \u001b[0m | \u001b[0m 0.1864  \u001b[0m | \u001b[0m 58.11   \u001b[0m | \u001b[0m 2.868   \u001b[0m | \u001b[0m 9.763   \u001b[0m | \u001b[0m 1.273e+0\u001b[0m |\n",
      "| \u001b[0m 22      \u001b[0m | \u001b[0m 0.1902  \u001b[0m | \u001b[0m 33.74   \u001b[0m | \u001b[0m 1.0     \u001b[0m | \u001b[0m 10.0    \u001b[0m | \u001b[0m 1.306e+0\u001b[0m |\n",
      "| \u001b[0m 23      \u001b[0m | \u001b[0m 0.1996  \u001b[0m | \u001b[0m 59.94   \u001b[0m | \u001b[0m 1.295   \u001b[0m | \u001b[0m 5.88    \u001b[0m | \u001b[0m 1.128e+0\u001b[0m |\n",
      "| \u001b[0m 24      \u001b[0m | \u001b[0m 0.1797  \u001b[0m | \u001b[0m 59.54   \u001b[0m | \u001b[0m 3.766   \u001b[0m | \u001b[0m 7.878   \u001b[0m | \u001b[0m 1.094e+0\u001b[0m |\n",
      "| \u001b[0m 25      \u001b[0m | \u001b[0m 0.1939  \u001b[0m | \u001b[0m 43.78   \u001b[0m | \u001b[0m 1.412   \u001b[0m | \u001b[0m 6.978   \u001b[0m | \u001b[0m 1.659e+0\u001b[0m |\n",
      "=========================================================================\n",
      "Gradient Boosting\n",
      "|   iter    |  target   | learni... | max_le... | n_esti... |\n",
      "-------------------------------------------------------------\n",
      "| \u001b[0m 1       \u001b[0m | \u001b[0m 0.2684  \u001b[0m | \u001b[0m 0.9551  \u001b[0m | \u001b[0m 41.05   \u001b[0m | \u001b[0m 56.31   \u001b[0m |\n",
      "| \u001b[95m 2       \u001b[0m | \u001b[95m 0.2894  \u001b[0m | \u001b[95m 0.911   \u001b[0m | \u001b[95m 6.403   \u001b[0m | \u001b[95m 303.4   \u001b[0m |\n",
      "| \u001b[0m 3       \u001b[0m | \u001b[0m 0.2883  \u001b[0m | \u001b[0m 0.4362  \u001b[0m | \u001b[0m 45.25   \u001b[0m | \u001b[0m 483.1   \u001b[0m |\n",
      "| \u001b[0m 4       \u001b[0m | \u001b[0m 0.2658  \u001b[0m | \u001b[0m 0.5941  \u001b[0m | \u001b[0m 49.87   \u001b[0m | \u001b[0m 50.43   \u001b[0m |\n",
      "| \u001b[95m 5       \u001b[0m | \u001b[95m 0.2969  \u001b[0m | \u001b[95m 0.5872  \u001b[0m | \u001b[95m 14.19   \u001b[0m | \u001b[95m 333.4   \u001b[0m |\n",
      "| \u001b[0m 6       \u001b[0m | \u001b[0m 0.2722  \u001b[0m | \u001b[0m 1.298   \u001b[0m | \u001b[0m 43.08   \u001b[0m | \u001b[0m 453.8   \u001b[0m |\n",
      "| \u001b[0m 7       \u001b[0m | \u001b[0m 0.28    \u001b[0m | \u001b[0m 1.458   \u001b[0m | \u001b[0m 9.572   \u001b[0m | \u001b[0m 84.1    \u001b[0m |\n",
      "| \u001b[0m 8       \u001b[0m | \u001b[0m 0.2875  \u001b[0m | \u001b[0m 1.257   \u001b[0m | \u001b[0m 6.032   \u001b[0m | \u001b[0m 423.0   \u001b[0m |\n",
      "| \u001b[0m 9       \u001b[0m | \u001b[0m 0.2737  \u001b[0m | \u001b[0m 1.89    \u001b[0m | \u001b[0m 19.12   \u001b[0m | \u001b[0m 456.9   \u001b[0m |\n",
      "| \u001b[95m 10      \u001b[0m | \u001b[95m 0.3545  \u001b[0m | \u001b[95m 1.621   \u001b[0m | \u001b[95m 32.59   \u001b[0m | \u001b[95m 156.9   \u001b[0m |\n",
      "| \u001b[0m 11      \u001b[0m | \u001b[0m 0.2778  \u001b[0m | \u001b[0m 1.16    \u001b[0m | \u001b[0m 33.44   \u001b[0m | \u001b[0m 62.87   \u001b[0m |\n",
      "| \u001b[0m 12      \u001b[0m | \u001b[0m 0.2505  \u001b[0m | \u001b[0m 1.351   \u001b[0m | \u001b[0m 48.1    \u001b[0m | \u001b[0m 61.23   \u001b[0m |\n",
      "| \u001b[0m 13      \u001b[0m | \u001b[0m 0.2845  \u001b[0m | \u001b[0m 1.486   \u001b[0m | \u001b[0m 35.34   \u001b[0m | \u001b[0m 141.6   \u001b[0m |\n",
      "| \u001b[0m 14      \u001b[0m | \u001b[0m 0.2909  \u001b[0m | \u001b[0m 1.463   \u001b[0m | \u001b[0m 12.44   \u001b[0m | \u001b[0m 471.3   \u001b[0m |\n",
      "| \u001b[0m 15      \u001b[0m | \u001b[0m 0.2883  \u001b[0m | \u001b[0m 1.394   \u001b[0m | \u001b[0m 24.71   \u001b[0m | \u001b[0m 137.2   \u001b[0m |\n",
      "| \u001b[0m 16      \u001b[0m | \u001b[0m 0.05616 \u001b[0m | \u001b[0m 1.667   \u001b[0m | \u001b[0m 30.86   \u001b[0m | \u001b[0m 162.7   \u001b[0m |\n",
      "| \u001b[0m 17      \u001b[0m | \u001b[0m 0.2756  \u001b[0m | \u001b[0m 0.3419  \u001b[0m | \u001b[0m 48.05   \u001b[0m | \u001b[0m 246.1   \u001b[0m |\n",
      "| \u001b[0m 18      \u001b[0m | \u001b[0m 0.2969  \u001b[0m | \u001b[0m 1.825   \u001b[0m | \u001b[0m 48.83   \u001b[0m | \u001b[0m 138.9   \u001b[0m |\n",
      "| \u001b[0m 19      \u001b[0m | \u001b[0m 0.2684  \u001b[0m | \u001b[0m 1.353   \u001b[0m | \u001b[0m 35.4    \u001b[0m | \u001b[0m 141.6   \u001b[0m |\n",
      "| \u001b[0m 20      \u001b[0m | \u001b[0m 0.2928  \u001b[0m | \u001b[0m 1.077   \u001b[0m | \u001b[0m 32.81   \u001b[0m | \u001b[0m 157.2   \u001b[0m |\n",
      "| \u001b[0m 21      \u001b[0m | \u001b[0m 0.09584 \u001b[0m | \u001b[0m 1.539   \u001b[0m | \u001b[0m 32.14   \u001b[0m | \u001b[0m 157.1   \u001b[0m |\n",
      "| \u001b[95m 22      \u001b[0m | \u001b[95m 0.3594  \u001b[0m | \u001b[95m 1.593   \u001b[0m | \u001b[95m 38.82   \u001b[0m | \u001b[95m 174.2   \u001b[0m |\n",
      "| \u001b[0m 23      \u001b[0m | \u001b[0m 0.2074  \u001b[0m | \u001b[0m 1.652   \u001b[0m | \u001b[0m 17.44   \u001b[0m | \u001b[0m 86.48   \u001b[0m |\n",
      "| \u001b[0m 24      \u001b[0m | \u001b[0m 0.2804  \u001b[0m | \u001b[0m 0.9787  \u001b[0m | \u001b[0m 40.83   \u001b[0m | \u001b[0m 83.43   \u001b[0m |\n",
      "| \u001b[0m 25      \u001b[0m | \u001b[0m 0.2778  \u001b[0m | \u001b[0m 0.2169  \u001b[0m | \u001b[0m 45.25   \u001b[0m | \u001b[0m 483.6   \u001b[0m |\n",
      "=============================================================\n",
      "HistGradient\n",
      "|   iter    |  target   | learni... | max_le... |\n",
      "-------------------------------------------------\n",
      "| \u001b[0m 1       \u001b[0m | \u001b[0m 0.2347  \u001b[0m | \u001b[0m 1.607   \u001b[0m | \u001b[0m 18.06   \u001b[0m |\n",
      "| \u001b[95m 2       \u001b[0m | \u001b[95m 0.2606  \u001b[0m | \u001b[95m 1.507   \u001b[0m | \u001b[95m 8.54    \u001b[0m |\n",
      "| \u001b[95m 3       \u001b[0m | \u001b[95m 0.3594  \u001b[0m | \u001b[95m 1.671   \u001b[0m | \u001b[95m 36.79   \u001b[0m |\n",
      "| \u001b[0m 4       \u001b[0m | \u001b[0m 0.2707  \u001b[0m | \u001b[0m 0.658   \u001b[0m | \u001b[0m 19.92   \u001b[0m |\n",
      "| \u001b[0m 5       \u001b[0m | \u001b[0m 0.2437  \u001b[0m | \u001b[0m 0.4546  \u001b[0m | \u001b[0m 5.226   \u001b[0m |\n",
      "| \u001b[0m 6       \u001b[0m | \u001b[0m 0.2149  \u001b[0m | \u001b[0m 1.63    \u001b[0m | \u001b[0m 24.59   \u001b[0m |\n",
      "| \u001b[0m 7       \u001b[0m | \u001b[0m 0.2767  \u001b[0m | \u001b[0m 0.8837  \u001b[0m | \u001b[0m 29.87   \u001b[0m |\n",
      "| \u001b[0m 8       \u001b[0m | \u001b[0m 0.2872  \u001b[0m | \u001b[0m 1.115   \u001b[0m | \u001b[0m 37.93   \u001b[0m |\n",
      "| \u001b[0m 9       \u001b[0m | \u001b[0m 0.2377  \u001b[0m | \u001b[0m 0.684   \u001b[0m | \u001b[0m 3.391   \u001b[0m |\n",
      "| \u001b[0m 10      \u001b[0m | \u001b[0m 0.2377  \u001b[0m | \u001b[0m 0.6916  \u001b[0m | \u001b[0m 3.29    \u001b[0m |\n",
      "| \u001b[0m 11      \u001b[0m | \u001b[0m 0.1812  \u001b[0m | \u001b[0m 1.711   \u001b[0m | \u001b[0m 31.45   \u001b[0m |\n",
      "| \u001b[95m 12      \u001b[0m | \u001b[95m 0.4302  \u001b[0m | \u001b[95m 1.859   \u001b[0m | \u001b[95m 31.7    \u001b[0m |\n",
      "| \u001b[0m 13      \u001b[0m | \u001b[0m 0.3864  \u001b[0m | \u001b[0m 1.858   \u001b[0m | \u001b[0m 38.24   \u001b[0m |\n",
      "| \u001b[0m 14      \u001b[0m | \u001b[0m 0.2052  \u001b[0m | \u001b[0m 1.834   \u001b[0m | \u001b[0m 16.79   \u001b[0m |\n",
      "| \u001b[0m 15      \u001b[0m | \u001b[0m 0.2654  \u001b[0m | \u001b[0m 0.9529  \u001b[0m | \u001b[0m 18.96   \u001b[0m |\n",
      "| \u001b[0m 16      \u001b[0m | \u001b[0m 0.2598  \u001b[0m | \u001b[0m 0.3414  \u001b[0m | \u001b[0m 44.63   \u001b[0m |\n",
      "| \u001b[0m 17      \u001b[0m | \u001b[0m 0.3328  \u001b[0m | \u001b[0m 1.885   \u001b[0m | \u001b[0m 31.75   \u001b[0m |\n",
      "| \u001b[95m 18      \u001b[0m | \u001b[95m 0.5002  \u001b[0m | \u001b[95m 1.871   \u001b[0m | \u001b[95m 31.67   \u001b[0m |\n",
      "| \u001b[0m 19      \u001b[0m | \u001b[0m 0.09734 \u001b[0m | \u001b[0m 1.868   \u001b[0m | \u001b[0m 31.65   \u001b[0m |\n",
      "| \u001b[0m 20      \u001b[0m | \u001b[0m 0.2756  \u001b[0m | \u001b[0m 0.8016  \u001b[0m | \u001b[0m 36.0    \u001b[0m |\n",
      "| \u001b[0m 21      \u001b[0m | \u001b[0m 0.1602  \u001b[0m | \u001b[0m 1.572   \u001b[0m | \u001b[0m 15.92   \u001b[0m |\n",
      "| \u001b[0m 22      \u001b[0m | \u001b[0m 0.2669  \u001b[0m | \u001b[0m 0.4521  \u001b[0m | \u001b[0m 42.11   \u001b[0m |\n",
      "| \u001b[0m 23      \u001b[0m | \u001b[0m 0.298   \u001b[0m | \u001b[0m 0.9557  \u001b[0m | \u001b[0m 43.68   \u001b[0m |\n",
      "| \u001b[0m 24      \u001b[0m | \u001b[0m 0.2538  \u001b[0m | \u001b[0m 0.325   \u001b[0m | \u001b[0m 7.486   \u001b[0m |\n"
     ]
    },
    {
     "name": "stdout",
     "output_type": "stream",
     "text": [
      "| \u001b[0m 25      \u001b[0m | \u001b[0m 0.3003  \u001b[0m | \u001b[0m 1.103   \u001b[0m | \u001b[0m 48.34   \u001b[0m |\n",
      "=================================================\n",
      "{'target': 0.5001871958068139, 'params': {'learning_rate': 1.8714806005065374, 'max_leaf_nodes': 31.673856941244495}}\n"
     ]
    }
   ],
   "source": [
    "wide_data_model_stats = chonky_model_aggregator(X_train, y_train, X_test, y_test)"
   ]
  },
  {
   "cell_type": "markdown",
   "id": "martial-picture",
   "metadata": {},
   "source": [
    "### Stats Examination"
   ]
  },
  {
   "cell_type": "code",
   "execution_count": 96,
   "id": "reasonable-enough",
   "metadata": {
    "scrolled": true
   },
   "outputs": [
    {
     "name": "stdout",
     "output_type": "stream",
     "text": [
      "('GradientBoostingClassifier', 0.35941594908274055, 33.10850119590759)\n"
     ]
    }
   ],
   "source": [
    "print(medical_evaluator(wide_data_model_stats))"
   ]
  },
  {
   "cell_type": "code",
   "execution_count": 100,
   "id": "respective-dancing",
   "metadata": {
    "scrolled": true
   },
   "outputs": [
    {
     "name": "stdout",
     "output_type": "stream",
     "text": [
      "The best medical model (Optimizing for recall) is GradientBoostingClassifier It's recall score was0.359 and it took 33.11 seconds to run.\n",
      "\n",
      "The best spam model (Optimizing for precision) is RandomForestClassifier It's precision score was0.634 and it took 194.66 seconds to run.\n"
     ]
    }
   ],
   "source": [
    "best_med_model, med_recall, med_time = medical_evaluator(wide_data_model_stats)\n",
    "best_spam_model, spam_precision, spam_time = spam_evaluator(wide_data_model_stats)\n",
    "print(\"The best medical model (Optimizing for recall) is \" + best_med_model + \" It's recall score was\" + str(round(med_recall,3)) + \" and it took \" + str(round(med_time,2)) +\" seconds to run.\")\n",
    "print(\"\")\n",
    "print(\"The best spam model (Optimizing for precision) is \" + best_spam_model +\n",
    "      \" It's precision score was\" +str(round(spam_precision, 3)) +\" and it took \" + str(round(spam_time, 2) ) +\" seconds to run.\")"
   ]
  },
  {
   "cell_type": "code",
   "execution_count": 117,
   "id": "artificial-channels",
   "metadata": {
    "scrolled": false
   },
   "outputs": [
    {
     "name": "stdout",
     "output_type": "stream",
     "text": [
      "dummy\n",
      "\n",
      "confuse\n",
      "recall: 0\n",
      "precision: 0\n",
      "[[10938     0]\n",
      " [ 2671     0]]\n",
      "\n",
      "training_time\n",
      "0.017004013061523438\n",
      "\n",
      "ROC_AUC_Score\n",
      "0.5\n",
      "\n",
      "Hyper_Params\n",
      "{}\n",
      "\n",
      "\n",
      "\n",
      "SGDClassfier\n",
      "\n",
      "confuse\n",
      "recall: 0.34\n",
      "precision: 0.53\n",
      "[[10153   785]\n",
      " [ 1776   895]]\n",
      "\n",
      "training_time\n",
      "3.51579213142395\n",
      "\n",
      "ROC_AUC_Score\n",
      "0.7599344872864645\n",
      "\n",
      "Hyper_Params\n",
      "{'Loss': 'modified_huber', 'penalty': 'elasticnet'}\n",
      "\n",
      "\n",
      "\n",
      "RandomForestClassifier\n",
      "\n",
      "confuse\n",
      "recall: 0.2\n",
      "precision: 0.63\n",
      "[[10634   304]\n",
      " [ 2145   526]]\n",
      "\n",
      "training_time\n",
      "194.65852546691895\n",
      "\n",
      "ROC_AUC_Score\n",
      "0.7740808802262423\n",
      "\n",
      "Hyper_Params\n",
      "{'max_depth': 49.67439573601397, 'min_samples_leaf': 1.4729797299636367, 'min_samples_split': 3.083254181658721, 'n_estimators': 1159.2621958539908}\n",
      "\n",
      "\n",
      "\n",
      "GradientBoostingClassifier\n",
      "\n",
      "confuse\n",
      "recall: 0.36\n",
      "precision: 0.47\n",
      "[[9872 1066]\n",
      " [1711  960]]\n",
      "\n",
      "training_time\n",
      "33.10850119590759\n",
      "\n",
      "ROC_AUC_Score\n",
      "0.7494678319973598\n",
      "\n",
      "Hyper_Params\n",
      "{'learning_rate': 1.5933283538751961, 'max_leaf_nodes': 38.81617495990627, 'n_estimators': 174.24885414610273}\n",
      "\n",
      "\n",
      "\n",
      "HistGradientBoostingClassifier\n",
      "\n",
      "confuse\n",
      "recall: 0.3\n",
      "precision: 0.3\n",
      "[[9087 1851]\n",
      " [1873  798]]\n",
      "\n",
      "training_time\n",
      "1.195270299911499\n",
      "\n",
      "ROC_AUC_Score\n",
      "0.5264671047781037\n",
      "\n",
      "Hyper_Params\n",
      "{'learning_rate': 1.8714806005065374, 'max_leaf_nodes': 31.673856941244495}\n",
      "\n",
      "\n",
      "\n"
     ]
    }
   ],
   "source": [
    "for key, value in wide_data_model_stats.items():\n",
    "    if value['training_time'] !=0:\n",
    "        print(key)\n",
    "        print('')\n",
    "        for key2, value2 in value.items():\n",
    "            print(key2)\n",
    "            if key2 == 'confuse':\n",
    "                if type(value2) != list:\n",
    "                    print('recall: ' + str(round(recall_calculator(value2),2)))\n",
    "                    print('precision: ' +str(round(precision_calculator(value2),2)))\n",
    "            print(value2)\n",
    "            print('')\n",
    "        print('')\n",
    "        print('')\n"
   ]
  },
  {
   "cell_type": "code",
   "execution_count": 103,
   "id": "altered-samba",
   "metadata": {},
   "outputs": [],
   "source": [
    "grad_boost_params= {'learning_rate': 1.5933283538751961, 'max_leaf_nodes': 38.81617495990627, 'n_estimators': 174.24885414610273}"
   ]
  },
  {
   "cell_type": "code",
   "execution_count": 105,
   "id": "persistent-regression",
   "metadata": {},
   "outputs": [
    {
     "data": {
      "text/plain": [
       "GradientBoostingClassifier(learning_rate=1.5933283538751961, max_leaf_nodes=38,\n",
       "                           n_estimators=174)"
      ]
     },
     "execution_count": 105,
     "metadata": {},
     "output_type": "execute_result"
    }
   ],
   "source": [
    "grady_the_boosted = GradientBoostingClassifier(learning_rate=grad_boost_params['learning_rate'],\n",
    "                                               n_estimators=int(grad_boost_params['n_estimators']),\n",
    "                                               max_leaf_nodes=int(grad_boost_params['max_leaf_nodes']))\n",
    "grady_the_boosted.fit(X_train, np.ravel(y_train))"
   ]
  },
  {
   "cell_type": "code",
   "execution_count": 112,
   "id": "isolated-welding",
   "metadata": {},
   "outputs": [
    {
     "name": "stdout",
     "output_type": "stream",
     "text": [
      "drugs_sometimes                                0.810368\n",
      "age                                            0.156517\n",
      "drinks_very often                              0.017674\n",
      "drugs_often                                    0.006474\n",
      "religion_islam but not too serious about it    0.004097\n",
      "hebrew                                         0.001680\n",
      "drugs_never                                    0.000561\n",
      "education_graduated from college/university    0.000546\n",
      "drinks_often                                   0.000234\n",
      "education_graduated from masters program       0.000210\n",
      "dtype: float64\n"
     ]
    },
    {
     "data": {
      "image/png": "[encoded data removed]",
      "text/plain": [
       "<Figure size 720x360 with 1 Axes>"
      ]
     },
     "metadata": {
      "needs_background": "light"
     },
     "output_type": "display_data"
    }
   ],
   "source": [
    "plt.subplots(figsize=(10, 5))\n",
    "imps =grady_the_boosted.feature_importances_\n",
    "rf_feat_imps = pd.Series(imps, index=X_train.columns).sort_values(ascending=False)\n",
    "rf_feat_imps.head(10).plot(kind='bar')\n",
    "plt.xlabel('features')\n",
    "plt.ylabel('importance')\n",
    "plt.title('Best random forest regressor feature importances');\n",
    "print(rf_feat_imps.head(10))"
   ]
  },
  {
   "cell_type": "code",
   "execution_count": 114,
   "id": "known-commodity",
   "metadata": {},
   "outputs": [],
   "source": [
    "rf_params = {'max_depth': 49.67439573601397, 'min_samples_leaf': 1.4729797299636367, 'min_samples_split': 3.083254181658721, 'n_estimators': 1159.2621958539908}"
   ]
  },
  {
   "cell_type": "code",
   "execution_count": 115,
   "id": "level-aside",
   "metadata": {},
   "outputs": [
    {
     "data": {
      "text/plain": [
       "RandomForestClassifier(max_depth=49, max_features='sqrt', min_samples_split=3,\n",
       "                       n_estimators=1159)"
      ]
     },
     "execution_count": 115,
     "metadata": {},
     "output_type": "execute_result"
    }
   ],
   "source": [
    "RandoForest = RandomForestClassifier(n_estimators=int(rf_params['n_estimators']), \n",
    "                                     max_features='sqrt',\n",
    "                                     max_depth=int(rf_params['max_depth']),\n",
    "                                     min_samples_split=int(rf_params['min_samples_split']),\n",
    "                                     min_samples_leaf=int(rf_params['min_samples_leaf']))\n",
    "RandoForest.fit(X_train, np.ravel(y_train))"
   ]
  },
  {
   "cell_type": "code",
   "execution_count": 118,
   "id": "judicial-letter",
   "metadata": {},
   "outputs": [
    {
     "name": "stdout",
     "output_type": "stream",
     "text": [
      "age                                            0.066842\n",
      "height                                         0.047286\n",
      "drugs_sometimes                                0.043614\n",
      "drugs_never                                    0.037397\n",
      "multifluent_score                              0.024847\n",
      "num_spoken                                     0.018609\n",
      "drinks_often                                   0.017205\n",
      "spanish                                        0.015333\n",
      "ethnicity_multiplicity                         0.015150\n",
      "white                                          0.011833\n",
      "diet_anything                                  0.011819\n",
      "religion_unspecified                           0.011673\n",
      "drugs_unspecified                              0.011413\n",
      "education_graduated from college/university    0.011335\n",
      "pets_unspecified                               0.010891\n",
      "dtype: float64\n"
     ]
    },
    {
     "data": {
      "image/png": "[encoded data removed]",
      "text/plain": [
       "<Figure size 720x360 with 1 Axes>"
      ]
     },
     "metadata": {
      "needs_background": "light"
     },
     "output_type": "display_data"
    }
   ],
   "source": [
    "plt.subplots(figsize=(10, 5))\n",
    "imps =RandoForest.feature_importances_\n",
    "rf_feat_imps = pd.Series(imps, index=X_train.columns).sort_values(ascending=False)\n",
    "rf_feat_imps.head(15).plot(kind='bar')\n",
    "plt.xlabel('features')\n",
    "plt.ylabel('importance')\n",
    "plt.title('Best random forest regressor feature importances');\n",
    "print(rf_feat_imps.head(15))"
   ]
  }
 ],
 "metadata": {
  "kernelspec": {
   "display_name": "Python 3",
   "language": "python",
   "name": "python3"
  },
  "language_info": {
   "codemirror_mode": {
    "name": "ipython",
    "version": 3
   },
   "file_extension": ".py",
   "mimetype": "text/x-python",
   "name": "python",
   "nbconvert_exporter": "python",
   "pygments_lexer": "ipython3",
   "version": "3.9.1"
  }
 },
 "nbformat": 4,
 "nbformat_minor": 5
}
