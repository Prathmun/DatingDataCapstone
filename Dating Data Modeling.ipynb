{
 "cells": [
  {
   "cell_type": "code",
   "execution_count": 25,
   "id": "natural-mortality",
   "metadata": {},
   "outputs": [],
   "source": [
    "import pandas as pd\n",
    "import numpy as np\n",
    "from sklearn.svm import SVC\n",
    "from sklearn.linear_model import SGDClassifier\n",
    "from sklearn.ensemble import BaggingClassifier, RandomForestClassifier, AdaBoostClassifier, GradientBoostingClassifier\n",
    "from sklearn.experimental import enable_hist_gradient_boosting\n",
    "from sklearn.ensemble import HistGradientBoostingClassifier\n",
    "from sklearn.metrics import confusion_matrix, roc_auc_score\n",
    "from sklearn.dummy import DummyClassifier\n",
    "from sklearn.utils import resample\n",
    "from bayes_opt import BayesianOptimization\n",
    "import time\n"
   ]
  },
  {
   "cell_type": "code",
   "execution_count": 102,
   "id": "suburban-honey",
   "metadata": {},
   "outputs": [],
   "source": [
    "X_train = pd.read_csv('C:/Users/Prathmun/Documents/Springboard Jupyter/Capstone 2/DataDataCapstone/derived_data/X_train_TS25_RS3.csv')\n",
    "X_test = pd.read_csv('C:/Users/Prathmun/Documents/Springboard Jupyter/Capstone 2/DataDataCapstone/derived_data/X_test_TS25_RS3.csv')\n",
    "y_train = pd.read_csv('C:/Users/Prathmun/Documents/Springboard Jupyter/Capstone 2/DataDataCapstone/derived_data/y_train_TS25_RS3.csv')\n",
    "y_test = pd.read_csv('C:/Users/Prathmun/Documents/Springboard Jupyter/Capstone 2/DataDataCapstone/derived_data/y_test_TS25_RS3.csv')"
   ]
  },
  {
   "cell_type": "code",
   "execution_count": 103,
   "id": "nasty-youth",
   "metadata": {},
   "outputs": [],
   "source": [
    "Narrow_X_train = pd.read_csv('C:/Users/Prathmun/Documents/Springboard Jupyter/Capstone 2/DataDataCapstone/derived_data/Narrow_X_train_TS25_RS3.csv')\n",
    "Narrow_X_test = pd.read_csv('C:/Users/Prathmun/Documents/Springboard Jupyter/Capstone 2/DataDataCapstone/derived_data/Narrow_X_test_TS25_RS3.csv')\n",
    "Narrow_y_train = pd.read_csv('C:/Users/Prathmun/Documents/Springboard Jupyter/Capstone 2/DataDataCapstone/derived_data/Narrow_y_train_TS25_RS3.csv')\n",
    "Narrow_y_test = pd.read_csv('C:/Users/Prathmun/Documents/Springboard Jupyter/Capstone 2/DataDataCapstone/derived_data/Narrow_y_test_TS25_RS3.csv')"
   ]
  },
  {
   "cell_type": "code",
   "execution_count": 28,
   "id": "sized-lloyd",
   "metadata": {
    "scrolled": false
   },
   "outputs": [
    {
     "name": "stdout",
     "output_type": "stream",
     "text": [
      "problemtype: medical : Catch all isntances of event, false positives are less of a problem. Maximize: Sensitivity, and Precision\n",
      "problemtype: spam: Catch many instances of event, but minimize FP\n",
      "problem type: Artisinal, run time less important than accuracy\n",
      "problem type: Enterprise, run time is a priority\n"
     ]
    }
   ],
   "source": [
    "print('problemtype: medical : Catch all isntances of event, false positives are less of a problem. Maximize: Sensitivity, and Precision')\n",
    "print('problemtype: spam: Catch many instances of event, but minimize FP')\n",
    "print('problem type: Artisinal, run time less important than accuracy')\n",
    "print('problem type: Enterprise, run time is a priority')"
   ]
  },
  {
   "cell_type": "code",
   "execution_count": 104,
   "id": "close-stuart",
   "metadata": {},
   "outputs": [],
   "source": [
    "def timing_buddy(model_to_fit, dictionary_string, dicto):\n",
    "    funky_time_start = time.time()\n",
    "    model_to_fit.fit(X_train, np.ravel(y_train))\n",
    "    funky_time_stop = time.time()\n",
    "    funky_train_time = funky_time_stop - funky_time_start\n",
    "    dicto[dictionary_string]['training_time'] = funky_train_time\n",
    "    "
   ]
  },
  {
   "cell_type": "code",
   "execution_count": 105,
   "id": "standing-entrepreneur",
   "metadata": {},
   "outputs": [],
   "source": [
    "def confused_buddy(model_to_confuse, dictionary_string,dicto):\n",
    "    confuse = confusion_matrix(y_test, model_to_confuse.predict(X_test))\n",
    "    dicto[dictionary_string]['confuse'] = confuse"
   ]
  },
  {
   "cell_type": "code",
   "execution_count": null,
   "id": "impossible-monitor",
   "metadata": {},
   "outputs": [],
   "source": [
    "def recall_calculator(confuse)\n",
    "    recall = 0\n",
    "    tp = confuse[1][1]\n",
    "    fn = confuse[1][0]\n",
    "        if tp > 0 or tp ==1:\n",
    "            recall = tp / (tp+fn)\n",
    "    return recall"
   ]
  },
  {
   "cell_type": "markdown",
   "id": "improving-cherry",
   "metadata": {},
   "source": [
    "## Dummy"
   ]
  },
  {
   "cell_type": "code",
   "execution_count": 106,
   "id": "harmful-samuel",
   "metadata": {},
   "outputs": [],
   "source": [
    "def classy_dummy(dicto):\n",
    "    dummy_clf = DummyClassifier(strategy=\"most_frequent\")\n",
    "    timing_buddy(dummy_clf, 'dummy', dicto)\n",
    "    confused_buddy(dummy_clf, 'dummy', dicto)\n",
    "    confused_buddy(dummy_clf, 'dummy', dicto)\n",
    "    dicto['dummy']['ROC_AUC_Score'] = roc_auc_score(y_test, dummy_clf.predict_proba(X_test)[:, 1])\n",
    "    "
   ]
  },
  {
   "cell_type": "markdown",
   "id": "interior-extension",
   "metadata": {},
   "source": [
    "## SVC"
   ]
  },
  {
   "cell_type": "code",
   "execution_count": 107,
   "id": "opposed-celtic",
   "metadata": {},
   "outputs": [],
   "source": [
    "def SVCmodeler(dicto):\n",
    "    SupportVectorClassifier = SVC()\n",
    "    timing_buddy(SupportVectorClassifier, 'SVC', dicto)\n",
    "    confused_buddy(SupportVectorClassifier, 'SVC', dicto)\n",
    "    dicto['SVC']['ROC_AUC_Score'] = roc_auc_score(y_test, SupportVectorClassifier.decision_function(X_test))\n"
   ]
  },
  {
   "cell_type": "markdown",
   "id": "allied-solid",
   "metadata": {},
   "source": [
    "## SGD Hyper Parameter optimization"
   ]
  },
  {
   "cell_type": "code",
   "execution_count": null,
   "id": "addressed-alexander",
   "metadata": {},
   "outputs": [],
   "source": [
    "def SGDHyperParameterer(loss_penalty_list):\n",
    "    SGD_clf = SGDClassifier(loss = loss_penalty_list[0], penalty=loss_penalty_list[1])\n",
    "    SGD_clf.fit(X_train, np.ravel(y_train))\n",
    "    confuse = confusion_matrix(y_test, SGD_clf.predict(X_test))\n",
    "    recall = recall_calculatorconfuse(confuse)\n",
    "    return recall\n",
    "    \n",
    "    "
   ]
  },
  {
   "cell_type": "code",
   "execution_count": null,
   "id": "suitable-tribute",
   "metadata": {},
   "outputs": [],
   "source": [
    "losses= ['modified_huber', 'log']\n",
    "penalties = ['l2', 'l1', 'elasticnet']\n",
    "param_grid = {}\n",
    "count = 0\n",
    "for each_loss in losses:\n",
    "    for each_penalty in penalties:\n",
    "        param_grid[str(each_loss) + '-' + str(each_penalty)] = [each_loss, each_penalty]\n",
    "        count+=1"
   ]
  },
  {
   "cell_type": "code",
   "execution_count": null,
   "id": "random-employee",
   "metadata": {
    "scrolled": true
   },
   "outputs": [],
   "source": [
    "SGD_Hyper_param_recall_scores = {}\n",
    "optimization_start = time.time()\n",
    "for key, value in param_grid.items():\n",
    "    SGD_Hyper_param_recall_scores[key] = SGDHyperParameterer(value)\n",
    "optimization_end = time.time()\n",
    "optimization_time = (optimization_end - optimization_start)/60\n",
    "\n",
    "\n",
    "    \n",
    "    "
   ]
  },
  {
   "cell_type": "code",
   "execution_count": null,
   "id": "general-waters",
   "metadata": {},
   "outputs": [],
   "source": [
    "print('total optimization time: ' +str(optimization_time))\n",
    "for key, value in SGD_Hyper_param_recall_scores.items():\n",
    "    print(key + ' : ' +str(value))"
   ]
  },
  {
   "cell_type": "markdown",
   "id": "reduced-freeze",
   "metadata": {},
   "source": [
    "## Stochastic Gradiant Descent "
   ]
  },
  {
   "cell_type": "code",
   "execution_count": 38,
   "id": "distinct-canadian",
   "metadata": {},
   "outputs": [],
   "source": [
    "def SGDModeler(dicto):\n",
    "    SGD_clf = SGDClassifier(loss = 'modified_huber', penalty= 'l1\"')\n",
    "    timing_buddy(SGD_clf, 'SGDClassfier', dicto)\n",
    "    confused_buddy(SGD_clf, 'SGDClassfier', dicto)\n",
    "    dicto['SGDClassfier']['ROC_AUC_Score'] = roc_auc_score(y_test, SGD_clf.decision_function(X_test))"
   ]
  },
  {
   "cell_type": "code",
   "execution_count": 125,
   "id": "timely-national",
   "metadata": {},
   "outputs": [],
   "source": [
    "def grid_sgd_model(dicto):\n",
    "    \n",
    "    def SGDHyperParameterer(loss_penalty_list):\n",
    "        SGD_clf = SGDClassifier(loss = loss_penalty_list[0], penalty=loss_penalty_list[1])\n",
    "        SGD_clf.fit(X_train, np.ravel(y_train))\n",
    "        confuse = confusion_matrix(y_test, SGD_clf.predict(X_test))\n",
    "        tp = confuse[1][1]\n",
    "        fn = confuse[0][0]\n",
    "        recall = tp / (tp+fn)\n",
    "        return recall\n",
    "    \n",
    "    \n",
    "    losses= ['modified_huber', 'log']\n",
    "    penalties = ['l2', 'l1', 'elasticnet']\n",
    "    param_grid = {}\n",
    "    count = 0\n",
    "    for each_loss in losses:\n",
    "        for each_penalty in penalties:\n",
    "            param_grid[str(each_loss) + '-' + str(each_penalty)] = [each_loss, each_penalty]\n",
    "            count+=1\n",
    "\n",
    "    \n",
    "    ###\n",
    "    SGD_Hyper_param_recall_scores = {}\n",
    "    for key, value in param_grid.items():\n",
    "        SGD_Hyper_param_recall_scores[key] = SGDHyperParameterer(value)\n",
    "\n",
    "    ###\n",
    "    best_recall = 0\n",
    "    penalty = ''\n",
    "    loss = ''\n",
    "    for key, value in SGD_Hyper_param_recall_scores.items():\n",
    "        if value > best_recall:\n",
    "            best_recall = value\n",
    "            loss, penalty = key.split('-')\n",
    "            \n",
    "        \n",
    "                                                                 \n",
    "    \n",
    "    ###\n",
    "    SGD_clf = SGDClassifier(loss = loss, penalty= penalty)\n",
    "    timing_buddy(SGD_clf, 'SGDClassfier', dicto)\n",
    "    confused_buddy(SGD_clf, 'SGDClassfier', dicto)\n",
    "    dicto['SGDClassfier']['ROC_AUC_Score'] = roc_auc_score(y_test, SGD_clf.decision_function(X_test))"
   ]
  },
  {
   "cell_type": "markdown",
   "id": "dying-columbia",
   "metadata": {},
   "source": [
    "## bagging hyper parameter exploration"
   ]
  },
  {
   "cell_type": "code",
   "execution_count": 39,
   "id": "brazilian-stupid",
   "metadata": {},
   "outputs": [],
   "source": [
    "def bagginses_hyper(max_samples,max_features,n_estimators):\n",
    "    Classy_Baggins_DT = BaggingClassifier(max_samples= max_samples,max_features = max_features, n_estimators=int(n_estimators))\n",
    "    Classy_Baggins_DT.fit(X_train, np.ravel(y_train))\n",
    "    confuse = confusion_matrix(y_test, Classy_Baggins_DT.predict(X_test))\n",
    "    tp = confuse[1][1]\n",
    "    fn = confuse[0][0]\n",
    "    recall = tp / (tp+fn)\n",
    "    return recall\n",
    "    "
   ]
  },
  {
   "cell_type": "code",
   "execution_count": 40,
   "id": "wired-panic",
   "metadata": {},
   "outputs": [],
   "source": [
    "pparams ={ 'max_samples': (.1,.9),\n",
    "       'max_features' : (.1,.9),\n",
    "       'n_estimators': (10,500)}\n",
    "\n"
   ]
  },
  {
   "cell_type": "code",
   "execution_count": 41,
   "id": "american-monday",
   "metadata": {},
   "outputs": [],
   "source": [
    "optimizer = BayesianOptimization(\n",
    "    bagginses_hyper,\n",
    "    pbounds=pparams\n",
    ")"
   ]
  },
  {
   "cell_type": "code",
   "execution_count": 42,
   "id": "remarkable-layer",
   "metadata": {},
   "outputs": [
    {
     "name": "stdout",
     "output_type": "stream",
     "text": [
      "|   iter    |  target   | max_fe... | max_sa... | n_esti... |\n",
      "-------------------------------------------------------------\n",
      "| \u001b[0m 1       \u001b[0m | \u001b[0m 0.000274\u001b[0m | \u001b[0m 0.1161  \u001b[0m | \u001b[0m 0.4642  \u001b[0m | \u001b[0m 17.76   \u001b[0m |\n",
      "| \u001b[95m 2       \u001b[0m | \u001b[95m 0.005107\u001b[0m | \u001b[95m 0.2683  \u001b[0m | \u001b[95m 0.4594  \u001b[0m | \u001b[95m 53.77   \u001b[0m |\n",
      "| \u001b[95m 3       \u001b[0m | \u001b[95m 0.05671 \u001b[0m | \u001b[95m 0.837   \u001b[0m | \u001b[95m 0.7867  \u001b[0m | \u001b[95m 117.4   \u001b[0m |\n",
      "| \u001b[0m 4       \u001b[0m | \u001b[0m 0.0383  \u001b[0m | \u001b[0m 0.5987  \u001b[0m | \u001b[0m 0.3097  \u001b[0m | \u001b[0m 368.6   \u001b[0m |\n",
      "| \u001b[0m 5       \u001b[0m | \u001b[0m 0.04584 \u001b[0m | \u001b[0m 0.6814  \u001b[0m | \u001b[0m 0.5042  \u001b[0m | \u001b[0m 427.2   \u001b[0m |\n",
      "| \u001b[0m 6       \u001b[0m | \u001b[0m 0.02734 \u001b[0m | \u001b[0m 0.4747  \u001b[0m | \u001b[0m 0.854   \u001b[0m | \u001b[0m 261.7   \u001b[0m |\n",
      "| \u001b[0m 7       \u001b[0m | \u001b[0m 0.04349 \u001b[0m | \u001b[0m 0.6602  \u001b[0m | \u001b[0m 0.4341  \u001b[0m | \u001b[0m 216.7   \u001b[0m |\n",
      "| \u001b[0m 8       \u001b[0m | \u001b[0m 0.0     \u001b[0m | \u001b[0m 0.1332  \u001b[0m | \u001b[0m 0.1136  \u001b[0m | \u001b[0m 305.4   \u001b[0m |\n",
      "| \u001b[0m 9       \u001b[0m | \u001b[0m 0.000182\u001b[0m | \u001b[0m 0.1936  \u001b[0m | \u001b[0m 0.8871  \u001b[0m | \u001b[0m 265.5   \u001b[0m |\n",
      "| \u001b[0m 10      \u001b[0m | \u001b[0m 0.05073 \u001b[0m | \u001b[0m 0.7833  \u001b[0m | \u001b[0m 0.1699  \u001b[0m | \u001b[0m 180.9   \u001b[0m |\n",
      "| \u001b[0m 11      \u001b[0m | \u001b[0m 0.0     \u001b[0m | \u001b[0m 0.1082  \u001b[0m | \u001b[0m 0.3144  \u001b[0m | \u001b[0m 202.1   \u001b[0m |\n",
      "| \u001b[0m 12      \u001b[0m | \u001b[0m 0.0     \u001b[0m | \u001b[0m 0.107   \u001b[0m | \u001b[0m 0.7576  \u001b[0m | \u001b[0m 428.5   \u001b[0m |\n",
      "| \u001b[0m 13      \u001b[0m | \u001b[0m 0.04313 \u001b[0m | \u001b[0m 0.6184  \u001b[0m | \u001b[0m 0.8662  \u001b[0m | \u001b[0m 326.0   \u001b[0m |\n",
      "| \u001b[0m 14      \u001b[0m | \u001b[0m 0.001826\u001b[0m | \u001b[0m 0.2528  \u001b[0m | \u001b[0m 0.6588  \u001b[0m | \u001b[0m 178.9   \u001b[0m |\n",
      "| \u001b[0m 15      \u001b[0m | \u001b[0m 0.01565 \u001b[0m | \u001b[0m 0.3822  \u001b[0m | \u001b[0m 0.7846  \u001b[0m | \u001b[0m 418.4   \u001b[0m |\n",
      "| \u001b[0m 16      \u001b[0m | \u001b[0m 0.04696 \u001b[0m | \u001b[0m 0.7248  \u001b[0m | \u001b[0m 0.4268  \u001b[0m | \u001b[0m 344.1   \u001b[0m |\n",
      "| \u001b[0m 17      \u001b[0m | \u001b[0m 0.05312 \u001b[0m | \u001b[0m 0.8723  \u001b[0m | \u001b[0m 0.1641  \u001b[0m | \u001b[0m 180.9   \u001b[0m |\n",
      "| \u001b[0m 18      \u001b[0m | \u001b[0m 9.142e-0\u001b[0m | \u001b[0m 0.168   \u001b[0m | \u001b[0m 0.6508  \u001b[0m | \u001b[0m 117.1   \u001b[0m |\n",
      "| \u001b[0m 19      \u001b[0m | \u001b[0m 0.0558  \u001b[0m | \u001b[0m 0.853   \u001b[0m | \u001b[0m 0.4625  \u001b[0m | \u001b[0m 117.8   \u001b[0m |\n",
      "| \u001b[0m 20      \u001b[0m | \u001b[0m 0.04478 \u001b[0m | \u001b[0m 0.6759  \u001b[0m | \u001b[0m 0.833   \u001b[0m | \u001b[0m 118.2   \u001b[0m |\n",
      "| \u001b[0m 21      \u001b[0m | \u001b[0m 0.05608 \u001b[0m | \u001b[0m 0.8702  \u001b[0m | \u001b[0m 0.3776  \u001b[0m | \u001b[0m 181.6   \u001b[0m |\n",
      "| \u001b[0m 22      \u001b[0m | \u001b[0m 0.05562 \u001b[0m | \u001b[0m 0.7943  \u001b[0m | \u001b[0m 0.8071  \u001b[0m | \u001b[0m 181.3   \u001b[0m |\n",
      "| \u001b[0m 23      \u001b[0m | \u001b[0m 0.0     \u001b[0m | \u001b[0m 0.123   \u001b[0m | \u001b[0m 0.6765  \u001b[0m | \u001b[0m 181.8   \u001b[0m |\n",
      "| \u001b[0m 24      \u001b[0m | \u001b[0m 0.05019 \u001b[0m | \u001b[0m 0.7394  \u001b[0m | \u001b[0m 0.8992  \u001b[0m | \u001b[0m 180.4   \u001b[0m |\n",
      "| \u001b[0m 25      \u001b[0m | \u001b[0m 0.05445 \u001b[0m | \u001b[0m 0.8712  \u001b[0m | \u001b[0m 0.4696  \u001b[0m | \u001b[0m 426.4   \u001b[0m |\n",
      "=============================================================\n"
     ]
    }
   ],
   "source": [
    "bayes_sampling_time_start= time.time()\n",
    "optimizer.maximize(init_points=15, n_iter=10)\n",
    "bayes_sampling_time_stop= time.time()"
   ]
  },
  {
   "cell_type": "code",
   "execution_count": 43,
   "id": "smaller-ladder",
   "metadata": {},
   "outputs": [
    {
     "name": "stdout",
     "output_type": "stream",
     "text": [
      "3100.323912858963\n"
     ]
    }
   ],
   "source": [
    "print(bayes_sampling_time_stop- bayes_sampling_time_start)"
   ]
  },
  {
   "cell_type": "markdown",
   "id": "sticky-adelaide",
   "metadata": {},
   "source": [
    "## BaggingClassifier"
   ]
  },
  {
   "cell_type": "code",
   "execution_count": 44,
   "id": "worst-canyon",
   "metadata": {},
   "outputs": [],
   "source": [
    "def BagginsesModeler(dicto):\n",
    "    Classy_Baggins_DT = BaggingClassifier(n_estimators=12, max_features=0.7115, max_samples =0.689 )\n",
    "    timing_buddy(Classy_Baggins_DT, 'BaggingClassifier', dicto)\n",
    "    confused_buddy(Classy_Baggins_DT, 'BaggingClassifier', dicto)\n",
    "    dicto['BaggingClassifier']['ROC_AUC_Score'] = roc_auc_score(y_test, Classy_Baggins_DT.predict_proba(X_test)[:, 1])"
   ]
  },
  {
   "cell_type": "code",
   "execution_count": 130,
   "id": "formed-soccer",
   "metadata": {},
   "outputs": [],
   "source": [
    "def bayes_bagging_model(dicto):\n",
    "    \n",
    "    def bagginses_hyper(max_samples,max_features,n_estimators):\n",
    "        Classy_Baggins_DT = BaggingClassifier(max_samples= max_samples,max_features = max_features, n_estimators=int(n_estimators))\n",
    "        Classy_Baggins_DT.fit(X_train, np.ravel(y_train))\n",
    "        confuse = confusion_matrix(y_test, Classy_Baggins_DT.predict(X_test))\n",
    "        tp = confuse[1][1]\n",
    "        fn = confuse[0][0]\n",
    "        recall = tp / (tp+fn)\n",
    "        return recall\n",
    "\n",
    "\n",
    "    \n",
    "    ###\n",
    "    pparams ={ 'max_samples': (.1,.9),\n",
    "       'max_features' : (.1,.9),\n",
    "       'n_estimators': (10,500)}\n",
    "\n",
    "    ###\n",
    "    \n",
    "    optimizer = BayesianOptimization(\n",
    "    bagginses_hyper,\n",
    "    pbounds=pparams)\n",
    "    \n",
    "    ######\n",
    "    optimizer.maximize(init_points=15, n_iter=10)\n",
    "    bagginses_params= optimizer.max\n",
    "    bagginses_params = bagginses_params['params']\n",
    "    \n",
    "    ###\n",
    "    Classy_Baggins_DT = BaggingClassifier(n_estimators=int(bagginses_params['n_estimators']), \n",
    "                                          max_features=bagginses_params['max_features'],\n",
    "                                          max_samples =bagginses_params['max_samples'] )\n",
    "    timing_buddy(Classy_Baggins_DT, 'BaggingClassifier', dicto)\n",
    "    confused_buddy(Classy_Baggins_DT, 'BaggingClassifier', dicto)\n",
    "    dicto['BaggingClassifier']['ROC_AUC_Score'] = roc_auc_score(y_test, Classy_Baggins_DT.predict_proba(X_test)[:, 1])"
   ]
  },
  {
   "cell_type": "markdown",
   "id": "possible-diameter",
   "metadata": {},
   "source": [
    "## random forest bayes hyper parameter tuning"
   ]
  },
  {
   "cell_type": "code",
   "execution_count": 45,
   "id": "australian-cemetery",
   "metadata": {},
   "outputs": [],
   "source": [
    "model_set = ['dummy','SVC', 'SGDClassfier', 'BaggingClassifier', 'RandomForestClassifier', 'AdaBoostClassifier', 'GradientBoostingClassifier', 'HistGradientBoostingClassifier']\n",
    "dicto = {}\n",
    "for each in model_set:\n",
    "    dicto[each] =a{'confuse' : [], 'training_time' : 0, 'ROC_AUC_Score': 0}"
   ]
  },
  {
   "cell_type": "code",
   "execution_count": 46,
   "id": "israeli-conference",
   "metadata": {},
   "outputs": [],
   "source": [
    "def bayes_RFModeler_auto(n_estimators, max_depth, min_samples_split, min_samples_leaf):\n",
    "    RandoForest = RandomForestClassifier(n_estimators=int(n_estimators), max_features='auto', max_depth=int(max_depth),\n",
    "                                         min_samples_split=int(min_samples_split), min_samples_leaf=int(min_samples_leaf))\n",
    "    RandoForest.fit(X_train, np.ravel(y_train))\n",
    "    confuse = confusion_matrix(y_test, RandoForest.predict(X_test))\n",
    "    \n",
    "    tp = confuse[1][1]\n",
    "    fn = confuse[0][0]\n",
    "    recall = tp / (tp+fn)\n",
    "    \n",
    "    return recall"
   ]
  },
  {
   "cell_type": "code",
   "execution_count": 47,
   "id": "substantial-moment",
   "metadata": {},
   "outputs": [],
   "source": [
    "def bayes_RFModeler_sqrt(n_estimators, max_depth, min_samples_split, min_samples_leaf):\n",
    "    RandoForest = RandomForestClassifier(n_estimators=int(n_estimators), max_features='sqrt', max_depth=int(max_depth),\n",
    "                                         min_samples_split=int(min_samples_split), min_samples_leaf=int(min_samples_leaf))\n",
    "    RandoForest.fit(X_train, np.ravel(y_train))\n",
    "    confuse = confusion_matrix(y_test, RandoForest.predict(X_test))\n",
    "    tp = confuse[1][1]\n",
    "    fn = confuse[0][0]\n",
    "    recall = tp / (tp+fn)\n",
    "\n",
    "    return recall"
   ]
  },
  {
   "cell_type": "code",
   "execution_count": 48,
   "id": "dramatic-johns",
   "metadata": {
    "scrolled": true
   },
   "outputs": [
    {
     "name": "stdout",
     "output_type": "stream",
     "text": [
      "{'n_estimators': (100, 2000), 'max_depth': (10, 110), 'min_samples_split': (2, 10), 'min_samples_leaf': (1, 5)}\n"
     ]
    }
   ],
   "source": [
    "# Number of trees in random forest\n",
    "param_dicts = { 'n_estimators' : (100, 2000),\n",
    "              'max_depth' : (10,110),\n",
    "              'min_samples_split': (2,10),\n",
    "              'min_samples_leaf' : (1,5),\n",
    "              }\n",
    "#'max_features' : ('auto', 'sqrt'),\n",
    "\n",
    "\n",
    "print(param_dicts)"
   ]
  },
  {
   "cell_type": "code",
   "execution_count": 49,
   "id": "agricultural-hands",
   "metadata": {},
   "outputs": [],
   "source": [
    "optimizer_auto = BayesianOptimization(\n",
    "    bayes_RFModeler_auto,\n",
    "    pbounds=param_dicts\n",
    ")"
   ]
  },
  {
   "cell_type": "code",
   "execution_count": 50,
   "id": "conservative-providence",
   "metadata": {
    "scrolled": false
   },
   "outputs": [
    {
     "name": "stdout",
     "output_type": "stream",
     "text": [
      "|   iter    |  target   | max_depth | min_sa... | min_sa... | n_esti... |\n",
      "-------------------------------------------------------------------------\n",
      "| \u001b[0m 1       \u001b[0m | \u001b[0m 0.0453  \u001b[0m | \u001b[0m 92.06   \u001b[0m | \u001b[0m 2.685   \u001b[0m | \u001b[0m 9.067   \u001b[0m | \u001b[0m 1.044e+0\u001b[0m |\n",
      "| \u001b[0m 2       \u001b[0m | \u001b[0m 0.04135 \u001b[0m | \u001b[0m 39.33   \u001b[0m | \u001b[0m 4.551   \u001b[0m | \u001b[0m 9.342   \u001b[0m | \u001b[0m 1.902e+0\u001b[0m |\n",
      "| \u001b[0m 3       \u001b[0m | \u001b[0m 0.02957 \u001b[0m | \u001b[0m 15.4    \u001b[0m | \u001b[0m 2.447   \u001b[0m | \u001b[0m 6.976   \u001b[0m | \u001b[0m 776.5   \u001b[0m |\n",
      "| \u001b[0m 4       \u001b[0m | \u001b[0m 0.04479 \u001b[0m | \u001b[0m 86.65   \u001b[0m | \u001b[0m 2.896   \u001b[0m | \u001b[0m 5.125   \u001b[0m | \u001b[0m 559.6   \u001b[0m |\n",
      "| \u001b[0m 5       \u001b[0m | \u001b[0m 0.04125 \u001b[0m | \u001b[0m 67.27   \u001b[0m | \u001b[0m 4.932   \u001b[0m | \u001b[0m 6.715   \u001b[0m | \u001b[0m 1.824e+0\u001b[0m |\n",
      "| \u001b[0m 6       \u001b[0m | \u001b[0m 0.04486 \u001b[0m | \u001b[0m 88.27   \u001b[0m | \u001b[0m 2.49    \u001b[0m | \u001b[0m 6.158   \u001b[0m | \u001b[0m 865.9   \u001b[0m |\n",
      "| \u001b[0m 7       \u001b[0m | \u001b[0m 0.04245 \u001b[0m | \u001b[0m 25.01   \u001b[0m | \u001b[0m 1.685   \u001b[0m | \u001b[0m 6.961   \u001b[0m | \u001b[0m 351.1   \u001b[0m |\n",
      "| \u001b[0m 8       \u001b[0m | \u001b[0m 0.04417 \u001b[0m | \u001b[0m 71.17   \u001b[0m | \u001b[0m 2.401   \u001b[0m | \u001b[0m 9.247   \u001b[0m | \u001b[0m 135.4   \u001b[0m |\n",
      "| \u001b[0m 9       \u001b[0m | \u001b[0m 0.01664 \u001b[0m | \u001b[0m 12.41   \u001b[0m | \u001b[0m 3.334   \u001b[0m | \u001b[0m 4.688   \u001b[0m | \u001b[0m 1.906e+0\u001b[0m |\n",
      "| \u001b[95m 10      \u001b[0m | \u001b[95m 0.04708 \u001b[0m | \u001b[95m 81.93   \u001b[0m | \u001b[95m 1.254   \u001b[0m | \u001b[95m 4.309   \u001b[0m | \u001b[95m 1.824e+0\u001b[0m |\n",
      "| \u001b[95m 11      \u001b[0m | \u001b[95m 0.04739 \u001b[0m | \u001b[95m 104.3   \u001b[0m | \u001b[95m 1.221   \u001b[0m | \u001b[95m 7.019   \u001b[0m | \u001b[95m 1.102e+0\u001b[0m |\n",
      "| \u001b[0m 12      \u001b[0m | \u001b[0m 0.04091 \u001b[0m | \u001b[0m 31.47   \u001b[0m | \u001b[0m 4.639   \u001b[0m | \u001b[0m 7.263   \u001b[0m | \u001b[0m 1.266e+0\u001b[0m |\n",
      "| \u001b[0m 13      \u001b[0m | \u001b[0m 0.04159 \u001b[0m | \u001b[0m 42.07   \u001b[0m | \u001b[0m 4.633   \u001b[0m | \u001b[0m 7.358   \u001b[0m | \u001b[0m 1.866e+0\u001b[0m |\n",
      "| \u001b[0m 14      \u001b[0m | \u001b[0m 0.04108 \u001b[0m | \u001b[0m 80.58   \u001b[0m | \u001b[0m 4.37    \u001b[0m | \u001b[0m 5.815   \u001b[0m | \u001b[0m 1.883e+0\u001b[0m |\n",
      "| \u001b[0m 15      \u001b[0m | \u001b[0m 0.04296 \u001b[0m | \u001b[0m 109.6   \u001b[0m | \u001b[0m 3.736   \u001b[0m | \u001b[0m 8.799   \u001b[0m | \u001b[0m 1.692e+0\u001b[0m |\n",
      "| \u001b[0m 16      \u001b[0m | \u001b[0m 0.04673 \u001b[0m | \u001b[0m 104.5   \u001b[0m | \u001b[0m 1.337   \u001b[0m | \u001b[0m 5.399   \u001b[0m | \u001b[0m 1.105e+0\u001b[0m |\n",
      "| \u001b[0m 17      \u001b[0m | \u001b[0m 0.04677 \u001b[0m | \u001b[0m 100.0   \u001b[0m | \u001b[0m 1.67    \u001b[0m | \u001b[0m 5.08    \u001b[0m | \u001b[0m 1.075e+0\u001b[0m |\n",
      "| \u001b[95m 18      \u001b[0m | \u001b[95m 0.04755 \u001b[0m | \u001b[95m 80.43   \u001b[0m | \u001b[95m 1.972   \u001b[0m | \u001b[95m 7.469   \u001b[0m | \u001b[95m 1.091e+0\u001b[0m |\n",
      "| \u001b[0m 19      \u001b[0m | \u001b[0m 0.04574 \u001b[0m | \u001b[0m 108.1   \u001b[0m | \u001b[0m 2.921   \u001b[0m | \u001b[0m 3.435   \u001b[0m | \u001b[0m 1.825e+0\u001b[0m |\n",
      "| \u001b[0m 20      \u001b[0m | \u001b[0m 0.04468 \u001b[0m | \u001b[0m 93.33   \u001b[0m | \u001b[0m 2.659   \u001b[0m | \u001b[0m 6.533   \u001b[0m | \u001b[0m 1.796e+0\u001b[0m |\n",
      "| \u001b[0m 21      \u001b[0m | \u001b[0m 0.04152 \u001b[0m | \u001b[0m 65.15   \u001b[0m | \u001b[0m 4.037   \u001b[0m | \u001b[0m 5.405   \u001b[0m | \u001b[0m 1.063e+0\u001b[0m |\n",
      "| \u001b[0m 22      \u001b[0m | \u001b[0m 0.04056 \u001b[0m | \u001b[0m 74.07   \u001b[0m | \u001b[0m 4.865   \u001b[0m | \u001b[0m 9.865   \u001b[0m | \u001b[0m 1.121e+0\u001b[0m |\n",
      "| \u001b[0m 23      \u001b[0m | \u001b[0m 0.04729 \u001b[0m | \u001b[0m 93.73   \u001b[0m | \u001b[0m 1.0     \u001b[0m | \u001b[0m 2.0     \u001b[0m | \u001b[0m 1.847e+0\u001b[0m |\n",
      "| \u001b[95m 24      \u001b[0m | \u001b[95m 0.0478  \u001b[0m | \u001b[95m 106.6   \u001b[0m | \u001b[95m 1.71    \u001b[0m | \u001b[95m 6.325   \u001b[0m | \u001b[95m 1.011e+0\u001b[0m |\n",
      "| \u001b[0m 25      \u001b[0m | \u001b[0m 0.04268 \u001b[0m | \u001b[0m 78.82   \u001b[0m | \u001b[0m 3.289   \u001b[0m | \u001b[0m 9.912   \u001b[0m | \u001b[0m 1.004e+0\u001b[0m |\n",
      "=========================================================================\n"
     ]
    }
   ],
   "source": [
    "bayes_sampling_time_start= time.time()\n",
    "optimizer_auto.maximize(init_points=15, n_iter=10)\n",
    "bayes_sampling_time_stop= time.time()"
   ]
  },
  {
   "cell_type": "code",
   "execution_count": 51,
   "id": "expressed-revelation",
   "metadata": {},
   "outputs": [
    {
     "name": "stdout",
     "output_type": "stream",
     "text": [
      "4045.3972730636597\n"
     ]
    }
   ],
   "source": [
    "print(bayes_sampling_time_stop - bayes_sampling_time_start)"
   ]
  },
  {
   "cell_type": "code",
   "execution_count": 52,
   "id": "joint-speaking",
   "metadata": {},
   "outputs": [],
   "source": [
    "optimizer_sqrt = BayesianOptimization(\n",
    "    bayes_RFModeler_sqrt,\n",
    "    pbounds=param_dicts\n",
    ")"
   ]
  },
  {
   "cell_type": "code",
   "execution_count": 53,
   "id": "supreme-black",
   "metadata": {
    "scrolled": true
   },
   "outputs": [
    {
     "name": "stdout",
     "output_type": "stream",
     "text": [
      "|   iter    |  target   | max_depth | min_sa... | min_sa... | n_esti... |\n",
      "-------------------------------------------------------------------------\n",
      "| \u001b[0m 1       \u001b[0m | \u001b[0m 0.04111 \u001b[0m | \u001b[0m 109.1   \u001b[0m | \u001b[0m 4.063   \u001b[0m | \u001b[0m 2.341   \u001b[0m | \u001b[0m 1.327e+0\u001b[0m |\n",
      "| \u001b[95m 2       \u001b[0m | \u001b[95m 0.04291 \u001b[0m | \u001b[95m 102.1   \u001b[0m | \u001b[95m 3.482   \u001b[0m | \u001b[95m 5.554   \u001b[0m | \u001b[95m 1.091e+0\u001b[0m |\n",
      "| \u001b[95m 3       \u001b[0m | \u001b[95m 0.04316 \u001b[0m | \u001b[95m 54.09   \u001b[0m | \u001b[95m 3.781   \u001b[0m | \u001b[95m 2.746   \u001b[0m | \u001b[95m 737.0   \u001b[0m |\n",
      "| \u001b[95m 4       \u001b[0m | \u001b[95m 0.04416 \u001b[0m | \u001b[95m 74.41   \u001b[0m | \u001b[95m 2.658   \u001b[0m | \u001b[95m 5.963   \u001b[0m | \u001b[95m 123.0   \u001b[0m |\n",
      "| \u001b[0m 5       \u001b[0m | \u001b[0m 0.0417  \u001b[0m | \u001b[0m 81.43   \u001b[0m | \u001b[0m 4.987   \u001b[0m | \u001b[0m 5.447   \u001b[0m | \u001b[0m 225.1   \u001b[0m |\n",
      "| \u001b[0m 6       \u001b[0m | \u001b[0m 0.0428  \u001b[0m | \u001b[0m 75.48   \u001b[0m | \u001b[0m 3.223   \u001b[0m | \u001b[0m 4.374   \u001b[0m | \u001b[0m 850.1   \u001b[0m |\n",
      "| \u001b[0m 7       \u001b[0m | \u001b[0m 0.04082 \u001b[0m | \u001b[0m 93.69   \u001b[0m | \u001b[0m 4.212   \u001b[0m | \u001b[0m 4.672   \u001b[0m | \u001b[0m 1.068e+0\u001b[0m |\n",
      "| \u001b[0m 8       \u001b[0m | \u001b[0m 0.04175 \u001b[0m | \u001b[0m 95.66   \u001b[0m | \u001b[0m 4.587   \u001b[0m | \u001b[0m 5.097   \u001b[0m | \u001b[0m 185.9   \u001b[0m |\n",
      "| \u001b[0m 9       \u001b[0m | \u001b[0m 0.04362 \u001b[0m | \u001b[0m 26.51   \u001b[0m | \u001b[0m 1.449   \u001b[0m | \u001b[0m 3.275   \u001b[0m | \u001b[0m 1.229e+0\u001b[0m |\n",
      "| \u001b[95m 10      \u001b[0m | \u001b[95m 0.04706 \u001b[0m | \u001b[95m 75.83   \u001b[0m | \u001b[95m 1.808   \u001b[0m | \u001b[95m 4.042   \u001b[0m | \u001b[95m 1.319e+0\u001b[0m |\n",
      "| \u001b[0m 11      \u001b[0m | \u001b[0m 0.04092 \u001b[0m | \u001b[0m 67.94   \u001b[0m | \u001b[0m 4.068   \u001b[0m | \u001b[0m 4.104   \u001b[0m | \u001b[0m 1.822e+0\u001b[0m |\n",
      "| \u001b[0m 12      \u001b[0m | \u001b[0m 0.02011 \u001b[0m | \u001b[0m 13.79   \u001b[0m | \u001b[0m 2.642   \u001b[0m | \u001b[0m 2.557   \u001b[0m | \u001b[0m 248.9   \u001b[0m |\n",
      "| \u001b[0m 13      \u001b[0m | \u001b[0m 0.01645 \u001b[0m | \u001b[0m 12.48   \u001b[0m | \u001b[0m 2.59    \u001b[0m | \u001b[0m 6.66    \u001b[0m | \u001b[0m 296.3   \u001b[0m |\n",
      "| \u001b[0m 14      \u001b[0m | \u001b[0m 0.04143 \u001b[0m | \u001b[0m 82.01   \u001b[0m | \u001b[0m 4.071   \u001b[0m | \u001b[0m 7.026   \u001b[0m | \u001b[0m 1.462e+0\u001b[0m |\n",
      "| \u001b[95m 15      \u001b[0m | \u001b[95m 0.04722 \u001b[0m | \u001b[95m 64.53   \u001b[0m | \u001b[95m 1.339   \u001b[0m | \u001b[95m 9.602   \u001b[0m | \u001b[95m 858.3   \u001b[0m |\n",
      "| \u001b[0m 16      \u001b[0m | \u001b[0m 0.009356\u001b[0m | \u001b[0m 10.0    \u001b[0m | \u001b[0m 2.666   \u001b[0m | \u001b[0m 10.0    \u001b[0m | \u001b[0m 898.4   \u001b[0m |\n",
      "| \u001b[0m 17      \u001b[0m | \u001b[0m 0.04646 \u001b[0m | \u001b[0m 64.24   \u001b[0m | \u001b[0m 1.524   \u001b[0m | \u001b[0m 8.428   \u001b[0m | \u001b[0m 858.8   \u001b[0m |\n",
      "| \u001b[0m 18      \u001b[0m | \u001b[0m 0.04264 \u001b[0m | \u001b[0m 27.87   \u001b[0m | \u001b[0m 2.968   \u001b[0m | \u001b[0m 4.903   \u001b[0m | \u001b[0m 1.295e+0\u001b[0m |\n",
      "| \u001b[0m 19      \u001b[0m | \u001b[0m 0.04506 \u001b[0m | \u001b[0m 86.09   \u001b[0m | \u001b[0m 2.498   \u001b[0m | \u001b[0m 3.61    \u001b[0m | \u001b[0m 1.263e+0\u001b[0m |\n",
      "| \u001b[0m 20      \u001b[0m | \u001b[0m 0.04163 \u001b[0m | \u001b[0m 50.35   \u001b[0m | \u001b[0m 4.329   \u001b[0m | \u001b[0m 6.581   \u001b[0m | \u001b[0m 1.372e+0\u001b[0m |\n",
      "| \u001b[0m 21      \u001b[0m | \u001b[0m 0.04402 \u001b[0m | \u001b[0m 41.55   \u001b[0m | \u001b[0m 2.045   \u001b[0m | \u001b[0m 8.89    \u001b[0m | \u001b[0m 806.8   \u001b[0m |\n",
      "| \u001b[0m 22      \u001b[0m | \u001b[0m 0.04169 \u001b[0m | \u001b[0m 86.28   \u001b[0m | \u001b[0m 4.04    \u001b[0m | \u001b[0m 5.69    \u001b[0m | \u001b[0m 1.19e+03\u001b[0m |\n",
      "| \u001b[0m 23      \u001b[0m | \u001b[0m 0.01672 \u001b[0m | \u001b[0m 12.02   \u001b[0m | \u001b[0m 4.593   \u001b[0m | \u001b[0m 9.699   \u001b[0m | \u001b[0m 107.2   \u001b[0m |\n",
      "| \u001b[95m 24      \u001b[0m | \u001b[95m 0.04737 \u001b[0m | \u001b[95m 110.0   \u001b[0m | \u001b[95m 1.0     \u001b[0m | \u001b[95m 10.0    \u001b[0m | \u001b[95m 100.0   \u001b[0m |\n",
      "| \u001b[0m 25      \u001b[0m | \u001b[0m 0.04375 \u001b[0m | \u001b[0m 34.29   \u001b[0m | \u001b[0m 2.187   \u001b[0m | \u001b[0m 5.484   \u001b[0m | \u001b[0m 1.132e+0\u001b[0m |\n",
      "=========================================================================\n"
     ]
    }
   ],
   "source": [
    "bayes_sampling_time_start= time.time()\n",
    "optimizer_sqrt.maximize(init_points=15, n_iter=10)\n",
    "bayes_sampling_time_stop= time.time()"
   ]
  },
  {
   "cell_type": "code",
   "execution_count": 54,
   "id": "desirable-elizabeth",
   "metadata": {
    "scrolled": true
   },
   "outputs": [
    {
     "name": "stdout",
     "output_type": "stream",
     "text": [
      "44.400212434927624\n"
     ]
    }
   ],
   "source": [
    "print((bayes_sampling_time_stop - bayes_sampling_time_start)/60)"
   ]
  },
  {
   "cell_type": "code",
   "execution_count": null,
   "id": "developmental-justice",
   "metadata": {},
   "outputs": [],
   "source": [
    "## RandomForestClassifier"
   ]
  },
  {
   "cell_type": "code",
   "execution_count": null,
   "id": "sharp-camel",
   "metadata": {},
   "outputs": [],
   "source": [
    "def RFModeler(dicto):\n",
    "    RandoForest = RandomForestClassifier(max_depth=82, min_samples_split = 2, min_samples_leaf=3, max_features='auto', n_estimators=228)\n",
    "    \n",
    "    timing_buddy(RandoForest, 'RandomForestClassifier', dicto)\n",
    "    confused_buddy(RandoForest, 'RandomForestClassifier', dicto)\n",
    "    dicto['RandomForestClassifier']['ROC_AUC_Score'] = roc_auc_score(y_test, RandoForest.predict_proba(X_test)[:, 1])"
   ]
  },
  {
   "cell_type": "code",
   "execution_count": 143,
   "id": "intense-parameter",
   "metadata": {},
   "outputs": [],
   "source": [
    "def bayes_rf_model(dicto):\n",
    "    \n",
    "    def bayes_RFModeler_sqrt(n_estimators, \n",
    "                             max_depth,\n",
    "                             min_samples_split,\n",
    "                             min_samples_leaf):\n",
    "        RandoForest = RandomForestClassifier(n_estimators=int(n_estimators), max_features='sqrt', max_depth=int(max_depth),\n",
    "                                             min_samples_split=int(min_samples_split), min_samples_leaf=int(min_samples_leaf))\n",
    "        RandoForest.fit(X_train, np.ravel(y_train))\n",
    "        confuse = confusion_matrix(y_test, RandoForest.predict(X_test))\n",
    "        tp = confuse[1][1]\n",
    "        fn = confuse[0][0]\n",
    "        recall = tp / (tp+fn)\n",
    "\n",
    "        return recall\n",
    "\n",
    "    \n",
    "    ###\n",
    "    param_dicts = { 'n_estimators' : (100, 2000),\n",
    "              'max_depth' : (10,60),\n",
    "              'min_samples_split': (2,10),\n",
    "              'min_samples_leaf' : (1,5),\n",
    "              }\n",
    "    ###\n",
    "    \n",
    "    optimizer = BayesianOptimization(\n",
    "    bayes_RFModeler_sqrt,\n",
    "    pbounds=param_dicts)\n",
    "    \n",
    "    ######\n",
    "    optimizer.maximize(init_points=15, n_iter=10)\n",
    "    rf_params= optimizer.max\n",
    "    rf_params = rf_params['params']\n",
    "    \n",
    "    ###\n",
    "    RandoForest = RandomForestClassifier(n_estimators=int(rf_params['n_estimators']), \n",
    "                                         max_features='sqrt',\n",
    "                                         max_depth=int(rf_params['max_depth']),\n",
    "                                         min_samples_split=int(rf_params['min_samples_split']),\n",
    "                                         min_samples_leaf=int(rf_params['min_samples_leaf']))\n",
    "    \n",
    "    timing_buddy(RandoForest, 'RandomForestClassifier', dicto)\n",
    "    confused_buddy(RandoForest, 'RandomForestClassifier', dicto)\n",
    "    dicto['RandomForestClassifier']['ROC_AUC_Score'] = roc_auc_score(y_test, RandoForest.predict_proba(X_test)[:, 1])"
   ]
  },
  {
   "cell_type": "markdown",
   "id": "sunrise-toddler",
   "metadata": {},
   "source": [
    "## AdaBoost Hyper Parameter Tuning"
   ]
  },
  {
   "cell_type": "code",
   "execution_count": 56,
   "id": "advance-package",
   "metadata": {},
   "outputs": [],
   "source": [
    "def AdaBoost_hyper(n_estimators, learning_rate):\n",
    "    adaira_the_classifier = AdaBoostClassifier(learning_rate=learning_rate,  n_estimators=int(n_estimators))\n",
    "    adaira_the_classifier.fit(X_train, np.ravel(y_train))\n",
    "    confuse = confusion_matrix(y_test, adaira_the_classifier.predict(X_test))\n",
    "    tp = confuse[1][1]\n",
    "    fn = confuse[0][0]\n",
    "    recall = tp / (tp+fn)\n",
    "    return recall\n",
    "    "
   ]
  },
  {
   "cell_type": "code",
   "execution_count": 57,
   "id": "urban-colonial",
   "metadata": {},
   "outputs": [],
   "source": [
    "ada_params = {'learning_rate' : (.1,2),\n",
    "              'n_estimators':(10,500),}"
   ]
  },
  {
   "cell_type": "code",
   "execution_count": 58,
   "id": "arctic-objective",
   "metadata": {},
   "outputs": [],
   "source": [
    "optimizer = BayesianOptimization(\n",
    "    AdaBoost_hyper,\n",
    "    pbounds=ada_params\n",
    ")"
   ]
  },
  {
   "cell_type": "code",
   "execution_count": 59,
   "id": "liable-verification",
   "metadata": {},
   "outputs": [
    {
     "name": "stdout",
     "output_type": "stream",
     "text": [
      "|   iter    |  target   | learni... | n_esti... |\n",
      "-------------------------------------------------\n",
      "| \u001b[0m 1       \u001b[0m | \u001b[0m 0.05732 \u001b[0m | \u001b[0m 1.877   \u001b[0m | \u001b[0m 134.1   \u001b[0m |\n",
      "| \u001b[0m 2       \u001b[0m | \u001b[0m 0.05019 \u001b[0m | \u001b[0m 0.1287  \u001b[0m | \u001b[0m 306.0   \u001b[0m |\n",
      "| \u001b[0m 3       \u001b[0m | \u001b[0m 0.006461\u001b[0m | \u001b[0m 0.2626  \u001b[0m | \u001b[0m 15.28   \u001b[0m |\n",
      "| \u001b[95m 4       \u001b[0m | \u001b[95m 0.05967 \u001b[0m | \u001b[95m 0.513   \u001b[0m | \u001b[95m 457.3   \u001b[0m |\n",
      "| \u001b[0m 5       \u001b[0m | \u001b[0m 0.04827 \u001b[0m | \u001b[0m 1.947   \u001b[0m | \u001b[0m 109.4   \u001b[0m |\n",
      "| \u001b[95m 6       \u001b[0m | \u001b[95m 0.0635  \u001b[0m | \u001b[95m 1.335   \u001b[0m | \u001b[95m 270.7   \u001b[0m |\n",
      "| \u001b[0m 7       \u001b[0m | \u001b[0m 0.06133 \u001b[0m | \u001b[0m 1.018   \u001b[0m | \u001b[0m 194.7   \u001b[0m |\n",
      "| \u001b[0m 8       \u001b[0m | \u001b[0m 0.05779 \u001b[0m | \u001b[0m 0.4215  \u001b[0m | \u001b[0m 357.8   \u001b[0m |\n",
      "| \u001b[0m 9       \u001b[0m | \u001b[0m 0.06134 \u001b[0m | \u001b[0m 1.778   \u001b[0m | \u001b[0m 165.6   \u001b[0m |\n",
      "| \u001b[0m 10      \u001b[0m | \u001b[0m 0.052   \u001b[0m | \u001b[0m 1.626   \u001b[0m | \u001b[0m 21.98   \u001b[0m |\n",
      "| \u001b[0m 11      \u001b[0m | \u001b[0m 0.05301 \u001b[0m | \u001b[0m 0.2238  \u001b[0m | \u001b[0m 259.5   \u001b[0m |\n",
      "| \u001b[0m 12      \u001b[0m | \u001b[0m 0.06245 \u001b[0m | \u001b[0m 1.61    \u001b[0m | \u001b[0m 291.1   \u001b[0m |\n",
      "| \u001b[0m 13      \u001b[0m | \u001b[0m 0.06232 \u001b[0m | \u001b[0m 1.734   \u001b[0m | \u001b[0m 415.9   \u001b[0m |\n",
      "| \u001b[0m 14      \u001b[0m | \u001b[0m 0.03671 \u001b[0m | \u001b[0m 0.141   \u001b[0m | \u001b[0m 98.62   \u001b[0m |\n",
      "| \u001b[0m 15      \u001b[0m | \u001b[0m 0.06252 \u001b[0m | \u001b[0m 1.517   \u001b[0m | \u001b[0m 403.9   \u001b[0m |\n",
      "| \u001b[0m 16      \u001b[0m | \u001b[0m 0.06241 \u001b[0m | \u001b[0m 1.211   \u001b[0m | \u001b[0m 269.2   \u001b[0m |\n",
      "| \u001b[0m 17      \u001b[0m | \u001b[0m 0.05029 \u001b[0m | \u001b[0m 0.1     \u001b[0m | \u001b[0m 409.9   \u001b[0m |\n",
      "| \u001b[0m 18      \u001b[0m | \u001b[0m 0.0629  \u001b[0m | \u001b[0m 1.502   \u001b[0m | \u001b[0m 398.2   \u001b[0m |\n",
      "| \u001b[95m 19      \u001b[0m | \u001b[95m 1.0     \u001b[0m | \u001b[95m 2.0     \u001b[0m | \u001b[95m 422.3   \u001b[0m |\n",
      "| \u001b[0m 20      \u001b[0m | \u001b[0m 0.0     \u001b[0m | \u001b[0m 2.0     \u001b[0m | \u001b[0m 423.7   \u001b[0m |\n",
      "| \u001b[0m 21      \u001b[0m | \u001b[0m 0.06308 \u001b[0m | \u001b[0m 1.536   \u001b[0m | \u001b[0m 317.9   \u001b[0m |\n",
      "| \u001b[0m 22      \u001b[0m | \u001b[0m 0.06181 \u001b[0m | \u001b[0m 0.9832  \u001b[0m | \u001b[0m 410.0   \u001b[0m |\n",
      "| \u001b[0m 23      \u001b[0m | \u001b[0m 0.04949 \u001b[0m | \u001b[0m 0.8427  \u001b[0m | \u001b[0m 17.11   \u001b[0m |\n",
      "| \u001b[0m 24      \u001b[0m | \u001b[0m 0.05933 \u001b[0m | \u001b[0m 1.971   \u001b[0m | \u001b[0m 422.1   \u001b[0m |\n",
      "| \u001b[0m 25      \u001b[0m | \u001b[0m 0.0626  \u001b[0m | \u001b[0m 1.152   \u001b[0m | \u001b[0m 355.2   \u001b[0m |\n",
      "=================================================\n"
     ]
    }
   ],
   "source": [
    "bayes_sampling_time_start= time.time()\n",
    "optimizer.maximize(init_points=15, n_iter=10)\n",
    "bayes_sampling_time_stop= time.time()"
   ]
  },
  {
   "cell_type": "code",
   "execution_count": 60,
   "id": "present-pressing",
   "metadata": {},
   "outputs": [
    {
     "name": "stdout",
     "output_type": "stream",
     "text": [
      "1305.37842130661\n"
     ]
    }
   ],
   "source": [
    "print(bayes_sampling_time_stop- bayes_sampling_time_start)"
   ]
  },
  {
   "cell_type": "markdown",
   "id": "abandoned-performer",
   "metadata": {},
   "source": [
    "## AdaBooastClassifier"
   ]
  },
  {
   "cell_type": "code",
   "execution_count": 61,
   "id": "iraqi-toyota",
   "metadata": {},
   "outputs": [],
   "source": [
    "def AdaBoostModeler(dicto):\n",
    "    adaira_the_classifier = AdaBoostClassifier(n_estimators=48, learning_rate=1.278)\n",
    "    timing_buddy(adaira_the_classifier, 'AdaBoostClassifier', dicto)\n",
    "    confused_buddy(adaira_the_classifier, 'AdaBoostClassifier', dicto)\n",
    "    dicto['AdaBoostClassifier']['ROC_AUC_Score'] = roc_auc_score(y_test, adaira_the_classifier.predict_proba(X_test)[:, 1])"
   ]
  },
  {
   "cell_type": "code",
   "execution_count": 95,
   "id": "sustainable-virtue",
   "metadata": {},
   "outputs": [],
   "source": [
    "def bayes_hyper_ada_boost_model(dicto):\n",
    "    \n",
    "    def AdaBoost_hyper(n_estimators, learning_rate):\n",
    "        adaira_the_classifier = AdaBoostClassifier(learning_rate=learning_rate,  n_estimators=int(n_estimators))\n",
    "        adaira_the_classifier.fit(X_train, np.ravel(y_train))\n",
    "        confuse = confusion_matrix(y_test, adaira_the_classifier.predict(X_test))\n",
    "        tp = confuse[1][1]\n",
    "        fn = confuse[0][0]\n",
    "        recall = tp / (tp+fn)\n",
    "        return recall\n",
    "\n",
    "    \n",
    "    ###\n",
    "    ada_params = {'learning_rate' : (.1,2),\n",
    "              'n_estimators':(10,500),}\n",
    "    ###\n",
    "    \n",
    "    optimizer = BayesianOptimization(\n",
    "    AdaBoost_hyper,\n",
    "    pbounds=ada_params)\n",
    "    \n",
    "    ######\n",
    "    optimizer.maximize(init_points=15, n_iter=10)\n",
    "    ada_boost_params= optimizer.max\n",
    "    ada_boost_params = ada_boost_params['params']\n",
    "    \n",
    "    ###\n",
    "    adaira_the_classifier = AdaBoostClassifier(learning_rate=ada_boost_params['learning_rate'],  n_estimators=int(ada_boost_params['n_estimators']))\n",
    "    timing_buddy(adaira_the_classifier, 'AdaBoostClassifier', dicto)\n",
    "    confused_buddy(adaira_the_classifier, 'AdaBoostClassifier', dicto)\n",
    "    dicto['AdaBoostClassifier']['ROC_AUC_Score'] = roc_auc_score(y_test, adaira_the_classifier.predict_proba(X_test)[:, 1])"
   ]
  },
  {
   "cell_type": "markdown",
   "id": "annual-short",
   "metadata": {},
   "source": [
    "## Gradiant Boosting Hyper Parameter Tuning"
   ]
  },
  {
   "cell_type": "code",
   "execution_count": 62,
   "id": "attempted-participation",
   "metadata": {},
   "outputs": [],
   "source": [
    "def GradBoost_hyper(n_estimators, learning_rate, max_leaf_nodes):\n",
    "    grady_the_boosted = GradientBoostingClassifier(learning_rate=learning_rate,  n_estimators=int(n_estimators),\n",
    "                                                  max_leaf_nodes=int(max_leaf_nodes))\n",
    "    grady_the_boosted.fit(X_train, np.ravel(y_train))\n",
    "    confuse = confusion_matrix(y_test, grady_the_boosted.predict(X_test))\n",
    "    tp = confuse[1][1]\n",
    "    fn = confuse[0][0]\n",
    "    recall = tp / (tp+fn)\n",
    "    return recall\n",
    "    "
   ]
  },
  {
   "cell_type": "code",
   "execution_count": 63,
   "id": "filled-update",
   "metadata": {},
   "outputs": [],
   "source": [
    "GradBoost_params = {'learning_rate' : (.1,2),\n",
    "                    'n_estimators':(10,500),\n",
    "                    'max_leaf_nodes':(3,50)}\n",
    "\n",
    "#max features - strings, to be translated\n",
    "#min_impurity - float\n"
   ]
  },
  {
   "cell_type": "code",
   "execution_count": 64,
   "id": "traditional-person",
   "metadata": {},
   "outputs": [],
   "source": [
    "optimizer = BayesianOptimization(\n",
    "    GradBoost_hyper,\n",
    "    pbounds=GradBoost_params\n",
    ")"
   ]
  },
  {
   "cell_type": "code",
   "execution_count": 65,
   "id": "outdoor-indicator",
   "metadata": {},
   "outputs": [
    {
     "name": "stdout",
     "output_type": "stream",
     "text": [
      "|   iter    |  target   | learni... | max_le... | n_esti... |\n",
      "-------------------------------------------------------------\n",
      "| \u001b[0m 1       \u001b[0m | \u001b[0m 0.06318 \u001b[0m | \u001b[0m 0.107   \u001b[0m | \u001b[0m 37.72   \u001b[0m | \u001b[0m 469.2   \u001b[0m |\n",
      "| \u001b[95m 2       \u001b[0m | \u001b[95m 0.06662 \u001b[0m | \u001b[95m 1.06    \u001b[0m | \u001b[95m 40.7    \u001b[0m | \u001b[95m 71.06   \u001b[0m |\n",
      "| \u001b[95m 3       \u001b[0m | \u001b[95m 0.0729  \u001b[0m | \u001b[95m 1.261   \u001b[0m | \u001b[95m 24.68   \u001b[0m | \u001b[95m 361.0   \u001b[0m |\n",
      "| \u001b[0m 4       \u001b[0m | \u001b[0m 0.0719  \u001b[0m | \u001b[0m 0.5334  \u001b[0m | \u001b[0m 32.09   \u001b[0m | \u001b[0m 384.6   \u001b[0m |\n",
      "| \u001b[0m 5       \u001b[0m | \u001b[0m 0.07009 \u001b[0m | \u001b[0m 1.472   \u001b[0m | \u001b[0m 45.35   \u001b[0m | \u001b[0m 373.5   \u001b[0m |\n",
      "| \u001b[0m 6       \u001b[0m | \u001b[0m 0.06832 \u001b[0m | \u001b[0m 1.468   \u001b[0m | \u001b[0m 48.36   \u001b[0m | \u001b[0m 328.0   \u001b[0m |\n",
      "| \u001b[0m 7       \u001b[0m | \u001b[0m 0.07203 \u001b[0m | \u001b[0m 1.02    \u001b[0m | \u001b[0m 18.99   \u001b[0m | \u001b[0m 230.8   \u001b[0m |\n",
      "| \u001b[0m 8       \u001b[0m | \u001b[0m 0.07184 \u001b[0m | \u001b[0m 0.7948  \u001b[0m | \u001b[0m 42.6    \u001b[0m | \u001b[0m 238.1   \u001b[0m |\n",
      "| \u001b[0m 9       \u001b[0m | \u001b[0m 0.06912 \u001b[0m | \u001b[0m 0.3871  \u001b[0m | \u001b[0m 29.58   \u001b[0m | \u001b[0m 356.8   \u001b[0m |\n",
      "| \u001b[0m 10      \u001b[0m | \u001b[0m 0.06704 \u001b[0m | \u001b[0m 0.8176  \u001b[0m | \u001b[0m 23.21   \u001b[0m | \u001b[0m 46.39   \u001b[0m |\n",
      "| \u001b[0m 11      \u001b[0m | \u001b[0m 0.06609 \u001b[0m | \u001b[0m 0.8764  \u001b[0m | \u001b[0m 4.852   \u001b[0m | \u001b[0m 178.6   \u001b[0m |\n",
      "| \u001b[0m 12      \u001b[0m | \u001b[0m 0.06781 \u001b[0m | \u001b[0m 0.7167  \u001b[0m | \u001b[0m 8.559   \u001b[0m | \u001b[0m 86.48   \u001b[0m |\n",
      "| \u001b[0m 13      \u001b[0m | \u001b[0m 0.06825 \u001b[0m | \u001b[0m 1.504   \u001b[0m | \u001b[0m 9.206   \u001b[0m | \u001b[0m 36.38   \u001b[0m |\n",
      "| \u001b[0m 14      \u001b[0m | \u001b[0m 0.07048 \u001b[0m | \u001b[0m 0.6056  \u001b[0m | \u001b[0m 21.72   \u001b[0m | \u001b[0m 252.0   \u001b[0m |\n",
      "| \u001b[95m 15      \u001b[0m | \u001b[95m 0.07348 \u001b[0m | \u001b[95m 0.9265  \u001b[0m | \u001b[95m 24.54   \u001b[0m | \u001b[95m 263.8   \u001b[0m |\n",
      "| \u001b[95m 16      \u001b[0m | \u001b[95m 0.07414 \u001b[0m | \u001b[95m 1.036   \u001b[0m | \u001b[95m 17.87   \u001b[0m | \u001b[95m 431.3   \u001b[0m |\n",
      "| \u001b[0m 17      \u001b[0m | \u001b[0m 0.07012 \u001b[0m | \u001b[0m 0.4647  \u001b[0m | \u001b[0m 14.42   \u001b[0m | \u001b[0m 370.7   \u001b[0m |\n",
      "| \u001b[95m 18      \u001b[0m | \u001b[95m 0.1052  \u001b[0m | \u001b[95m 1.908   \u001b[0m | \u001b[95m 24.36   \u001b[0m | \u001b[95m 286.6   \u001b[0m |\n",
      "| \u001b[95m 19      \u001b[0m | \u001b[95m 0.2152  \u001b[0m | \u001b[95m 2.0     \u001b[0m | \u001b[95m 21.54   \u001b[0m | \u001b[95m 293.7   \u001b[0m |\n",
      "| \u001b[0m 20      \u001b[0m | \u001b[0m 0.06959 \u001b[0m | \u001b[0m 0.4466  \u001b[0m | \u001b[0m 21.7    \u001b[0m | \u001b[0m 292.6   \u001b[0m |\n",
      "| \u001b[0m 21      \u001b[0m | \u001b[0m 0.06841 \u001b[0m | \u001b[0m 1.382   \u001b[0m | \u001b[0m 20.53   \u001b[0m | \u001b[0m 171.5   \u001b[0m |\n",
      "| \u001b[0m 22      \u001b[0m | \u001b[0m 0.07447 \u001b[0m | \u001b[0m 1.257   \u001b[0m | \u001b[0m 34.6    \u001b[0m | \u001b[0m 492.0   \u001b[0m |\n",
      "| \u001b[0m 23      \u001b[0m | \u001b[0m 0.01372 \u001b[0m | \u001b[0m 1.675   \u001b[0m | \u001b[0m 42.16   \u001b[0m | \u001b[0m 480.7   \u001b[0m |\n",
      "| \u001b[0m 24      \u001b[0m | \u001b[0m 0.07418 \u001b[0m | \u001b[0m 1.175   \u001b[0m | \u001b[0m 17.36   \u001b[0m | \u001b[0m 239.6   \u001b[0m |\n",
      "| \u001b[0m 25      \u001b[0m | \u001b[0m 0.05855 \u001b[0m | \u001b[0m 1.468   \u001b[0m | \u001b[0m 43.54   \u001b[0m | \u001b[0m 18.5    \u001b[0m |\n",
      "=============================================================\n"
     ]
    }
   ],
   "source": [
    "bayes_sampling_time_start= time.time()\n",
    "optimizer.maximize(init_points=15, n_iter=10)\n",
    "bayes_sampling_time_stop= time.time()"
   ]
  },
  {
   "cell_type": "code",
   "execution_count": 66,
   "id": "tight-fruit",
   "metadata": {},
   "outputs": [
    {
     "name": "stdout",
     "output_type": "stream",
     "text": [
      "1440.5923175811768\n"
     ]
    }
   ],
   "source": [
    "print(bayes_sampling_time_stop- bayes_sampling_time_start)"
   ]
  },
  {
   "cell_type": "code",
   "execution_count": 98,
   "id": "civilian-console",
   "metadata": {},
   "outputs": [],
   "source": [
    "def bayes_hyper_grad_boosting_model(dicto):\n",
    "    \n",
    "    def GradBoost_hyper(n_estimators, learning_rate, max_leaf_nodes):\n",
    "        grady_the_boosted = GradientBoostingClassifier(learning_rate=learning_rate,  n_estimators=int(n_estimators),\n",
    "                                                      max_leaf_nodes=int(max_leaf_nodes))\n",
    "        grady_the_boosted.fit(X_train, np.ravel(y_train))\n",
    "        confuse = confusion_matrix(y_test, grady_the_boosted.predict(X_test))\n",
    "        tp = confuse[1][1]\n",
    "        fn = confuse[0][0]\n",
    "        recall = tp / (tp+fn)\n",
    "        return recall\n",
    "    \n",
    "    ###\n",
    "    GradBoost_params = {'learning_rate' : (.1,2),\n",
    "                    'n_estimators':(10,500),\n",
    "                    'max_leaf_nodes':(3,50)}\n",
    "    ###\n",
    "    \n",
    "    optimizer = BayesianOptimization(\n",
    "    GradBoost_hyper,\n",
    "    pbounds=GradBoost_params)\n",
    "    \n",
    "    ######\n",
    "    optimizer.maximize(init_points=15, n_iter=10)\n",
    "    grad_boost_params= optimizer.max\n",
    "    grad_boost_params = grad_boost_params['params']\n",
    "    \n",
    "    ###\n",
    "    grady_the_boosted = GradientBoostingClassifier(learning_rate=grad_boost_params['learning_rate'],\n",
    "                                                   n_estimators=int(grad_boost_params['n_estimators']),\n",
    "                                                   max_leaf_nodes=int(grad_boost_params['max_leaf_nodes']))\n",
    "    timing_buddy(grady_the_boosted, 'GradientBoostingClassifier', dicto)\n",
    "    confused_buddy(grady_the_boosted, 'GradientBoostingClassifier', dicto)\n",
    "    dicto['GradientBoostingClassifier']['ROC_AUC_Score'] = roc_auc_score(y_test, grady_the_boosted.predict_proba(X_test)[:, 1])\n",
    "    ###"
   ]
  },
  {
   "cell_type": "markdown",
   "id": "elder-costa",
   "metadata": {},
   "source": [
    "## GradientBoostingClassifier"
   ]
  },
  {
   "cell_type": "markdown",
   "id": "broken-ridge",
   "metadata": {},
   "source": [
    "def GradBoostModeler(dicto):\n",
    "    grady_the_boosted = GradientBoostingClassifier(n_estimators=100)\n",
    "    timing_buddy(grady_the_boosted, 'GradientBoostingClassifier', dicto)\n",
    "    confused_buddy(grady_the_boosted, 'GradientBoostingClassifier', dicto)\n",
    "    dicto['GradientBoostingClassifier']['ROC_AUC_Score'] = roc_auc_score(y_test, grady_the_boosted.predict_proba(X_test)[:, 1])"
   ]
  },
  {
   "cell_type": "markdown",
   "id": "industrial-cooperation",
   "metadata": {},
   "source": [
    "## HistGradient Hyper Parameter Tuning"
   ]
  },
  {
   "cell_type": "code",
   "execution_count": 76,
   "id": "foster-celebrity",
   "metadata": {},
   "outputs": [],
   "source": [
    "def histBoost_hyper(learning_rate, max_leaf_nodes):\n",
    "    histamine_reaction = HistGradientBoostingClassifier(learning_rate=learning_rate,\n",
    "                                                  max_leaf_nodes=int(max_leaf_nodes))\n",
    "    histamine_reaction.fit(X_train, np.ravel(y_train))\n",
    "    confuse = confusion_matrix(y_test, histamine_reaction.predict(X_test))\n",
    "    tp = confuse[1][1]\n",
    "    fn = confuse[0][0]\n",
    "    recall = tp / (tp+fn)\n",
    "    return recall\n",
    "    "
   ]
  },
  {
   "cell_type": "code",
   "execution_count": 77,
   "id": "random-cream",
   "metadata": {},
   "outputs": [],
   "source": [
    "HistBoost_params = {'learning_rate' : (.1,2),\n",
    "                    'max_leaf_nodes':(3,50)}\n",
    "\n",
    "#max features - strings, to be translated\n",
    "#min_impurity - float\n"
   ]
  },
  {
   "cell_type": "code",
   "execution_count": 78,
   "id": "smoking-software",
   "metadata": {},
   "outputs": [],
   "source": [
    "optimizer = BayesianOptimization(\n",
    "    histBoost_hyper,\n",
    "    pbounds=HistBoost_params\n",
    ")"
   ]
  },
  {
   "cell_type": "code",
   "execution_count": 79,
   "id": "charged-facility",
   "metadata": {},
   "outputs": [
    {
     "name": "stdout",
     "output_type": "stream",
     "text": [
      "|   iter    |  target   | learni... | max_le... |\n",
      "-------------------------------------------------\n",
      "| \u001b[0m 1       \u001b[0m | \u001b[0m 0.06285 \u001b[0m | \u001b[0m 1.307   \u001b[0m | \u001b[0m 27.81   \u001b[0m |\n",
      "| \u001b[0m 2       \u001b[0m | \u001b[0m 0.03947 \u001b[0m | \u001b[0m 1.516   \u001b[0m | \u001b[0m 16.55   \u001b[0m |\n",
      "| \u001b[95m 3       \u001b[0m | \u001b[95m 0.07139 \u001b[0m | \u001b[95m 0.9505  \u001b[0m | \u001b[95m 44.23   \u001b[0m |\n",
      "| \u001b[0m 4       \u001b[0m | \u001b[0m 0.06378 \u001b[0m | \u001b[0m 0.5472  \u001b[0m | \u001b[0m 15.57   \u001b[0m |\n",
      "| \u001b[0m 5       \u001b[0m | \u001b[0m 0.06183 \u001b[0m | \u001b[0m 0.4077  \u001b[0m | \u001b[0m 46.66   \u001b[0m |\n",
      "| \u001b[95m 6       \u001b[0m | \u001b[95m 0.0725  \u001b[0m | \u001b[95m 1.448   \u001b[0m | \u001b[95m 35.79   \u001b[0m |\n",
      "| \u001b[0m 7       \u001b[0m | \u001b[0m 0.04512 \u001b[0m | \u001b[0m 0.109   \u001b[0m | \u001b[0m 3.687   \u001b[0m |\n",
      "| \u001b[0m 8       \u001b[0m | \u001b[0m 0.06524 \u001b[0m | \u001b[0m 1.111   \u001b[0m | \u001b[0m 8.274   \u001b[0m |\n",
      "| \u001b[0m 9       \u001b[0m | \u001b[0m 0.06625 \u001b[0m | \u001b[0m 1.507   \u001b[0m | \u001b[0m 10.75   \u001b[0m |\n",
      "| \u001b[95m 10      \u001b[0m | \u001b[95m 0.07251 \u001b[0m | \u001b[95m 0.9713  \u001b[0m | \u001b[95m 47.93   \u001b[0m |\n",
      "| \u001b[0m 11      \u001b[0m | \u001b[0m 0.06677 \u001b[0m | \u001b[0m 1.309   \u001b[0m | \u001b[0m 11.75   \u001b[0m |\n",
      "| \u001b[0m 12      \u001b[0m | \u001b[0m 0.06047 \u001b[0m | \u001b[0m 0.5854  \u001b[0m | \u001b[0m 8.122   \u001b[0m |\n",
      "| \u001b[0m 13      \u001b[0m | \u001b[0m 0.06293 \u001b[0m | \u001b[0m 1.421   \u001b[0m | \u001b[0m 7.635   \u001b[0m |\n",
      "| \u001b[0m 14      \u001b[0m | \u001b[0m 0.06743 \u001b[0m | \u001b[0m 0.9802  \u001b[0m | \u001b[0m 16.32   \u001b[0m |\n",
      "| \u001b[0m 15      \u001b[0m | \u001b[0m 0.06139 \u001b[0m | \u001b[0m 0.3     \u001b[0m | \u001b[0m 16.09   \u001b[0m |\n",
      "| \u001b[0m 16      \u001b[0m | \u001b[0m 0.05874 \u001b[0m | \u001b[0m 1.48    \u001b[0m | \u001b[0m 27.9    \u001b[0m |\n",
      "| \u001b[95m 17      \u001b[0m | \u001b[95m 0.07345 \u001b[0m | \u001b[95m 0.8875  \u001b[0m | \u001b[95m 47.7    \u001b[0m |\n",
      "| \u001b[0m 18      \u001b[0m | \u001b[0m 0.06166 \u001b[0m | \u001b[0m 0.2993  \u001b[0m | \u001b[0m 41.15   \u001b[0m |\n",
      "| \u001b[95m 19      \u001b[0m | \u001b[95m 0.07351 \u001b[0m | \u001b[95m 1.246   \u001b[0m | \u001b[95m 47.66   \u001b[0m |\n",
      "| \u001b[0m 20      \u001b[0m | \u001b[0m 0.0655  \u001b[0m | \u001b[0m 0.7925  \u001b[0m | \u001b[0m 15.68   \u001b[0m |\n",
      "| \u001b[0m 21      \u001b[0m | \u001b[0m 0.05813 \u001b[0m | \u001b[0m 0.6805  \u001b[0m | \u001b[0m 4.194   \u001b[0m |\n",
      "| \u001b[0m 22      \u001b[0m | \u001b[0m 0.06673 \u001b[0m | \u001b[0m 0.8593  \u001b[0m | \u001b[0m 12.74   \u001b[0m |\n",
      "| \u001b[95m 23      \u001b[0m | \u001b[95m 0.07368 \u001b[0m | \u001b[95m 1.095   \u001b[0m | \u001b[95m 37.17   \u001b[0m |\n",
      "| \u001b[0m 24      \u001b[0m | \u001b[0m 0.07065 \u001b[0m | \u001b[0m 1.241   \u001b[0m | \u001b[0m 36.55   \u001b[0m |\n",
      "| \u001b[0m 25      \u001b[0m | \u001b[0m 0.06819 \u001b[0m | \u001b[0m 1.28    \u001b[0m | \u001b[0m 47.67   \u001b[0m |\n",
      "=================================================\n"
     ]
    }
   ],
   "source": [
    "bayes_sampling_time_start= time.time()\n",
    "optimizer.maximize(init_points=15, n_iter=10)\n",
    "bayes_sampling_time_stop= time.time()"
   ]
  },
  {
   "cell_type": "code",
   "execution_count": 80,
   "id": "rolled-fraud",
   "metadata": {},
   "outputs": [
    {
     "name": "stdout",
     "output_type": "stream",
     "text": [
      "48.84417653083801\n"
     ]
    }
   ],
   "source": [
    "print(bayes_sampling_time_stop- bayes_sampling_time_start)"
   ]
  },
  {
   "cell_type": "code",
   "execution_count": 82,
   "id": "another-sperm",
   "metadata": {},
   "outputs": [],
   "source": [
    "hist_grad_params= optimizer.max"
   ]
  },
  {
   "cell_type": "code",
   "execution_count": 84,
   "id": "specific-abuse",
   "metadata": {},
   "outputs": [
    {
     "data": {
      "text/plain": [
       "{'learning_rate': 1.09469075035991, 'max_leaf_nodes': 37.16591160227114}"
      ]
     },
     "execution_count": 84,
     "metadata": {},
     "output_type": "execute_result"
    }
   ],
   "source": [
    "hist_grad_params = hist_grad_params['params']\n",
    "hist_grad_params"
   ]
  },
  {
   "cell_type": "code",
   "execution_count": 86,
   "id": "devoted-monitor",
   "metadata": {},
   "outputs": [
    {
     "data": {
      "text/plain": [
       "37.16591160227114"
      ]
     },
     "execution_count": 86,
     "metadata": {},
     "output_type": "execute_result"
    }
   ],
   "source": [
    "hist_grad_params['learning_rate']"
   ]
  },
  {
   "cell_type": "code",
   "execution_count": 153,
   "id": "thick-hormone",
   "metadata": {},
   "outputs": [],
   "source": [
    "def bayes_hyper_hist_grad_model(dicto):\n",
    "    \n",
    "    def histBoost_hyper(learning_rate, max_leaf_nodes):\n",
    "        histamine_reaction = HistGradientBoostingClassifier(learning_rate=learning_rate,\n",
    "                                                      max_leaf_nodes=int(max_leaf_nodes))\n",
    "        histamine_reaction.fit(X_train, np.ravel(y_train))\n",
    "        confuse = confusion_matrix(y_test, histamine_reaction.predict(X_test))\n",
    "        tp = confuse[1][1]\n",
    "        fn = confuse[0][0]\n",
    "        recall = tp / (tp+fn)\n",
    "        return recall\n",
    "    ###\n",
    "    HistBoost_params = {'learning_rate' : (.1,2),\n",
    "                    'max_leaf_nodes':(3,50)}\n",
    "    ###\n",
    "    optimizer = BayesianOptimization(\n",
    "    histBoost_hyper,\n",
    "    pbounds=HistBoost_params)\n",
    "    ######\n",
    "    optimizer.maximize(init_points=15, n_iter=10)\n",
    "    hist_grad_params= optimizer.max\n",
    "    print(hist_grad_params)\n",
    "    hist_grad_params = hist_grad_params['params']\n",
    "    ###\n",
    "    histamine_reaction = HistGradientBoostingClassifier(learning_rate =hist_grad_params['learning_rate'],\n",
    "                                                        max_leaf_nodes= int(hist_grad_params['max_leaf_nodes']))\n",
    "    hist_time_start = time.time()\n",
    "    histamine_reaction.fit(X_train, np.ravel(y_train))\n",
    "    hist_time_stop = time.time()\n",
    "    hist_train_time = hist_time_stop - hist_time_start\n",
    "    ###\n",
    "    dicto['HistGradientBoostingClassifier']['training_time'] = hist_train_time\n",
    "    confuse = confusion_matrix(y_test, histamine_reaction.predict(X_test))\n",
    "    dicto['HistGradientBoostingClassifier']['confuse'] = confuse\n",
    "    dicto['HistGradientBoostingClassifier']['ROC_AUC_Score'] = roc_auc_score(y_test, histamine_reaction.predict_proba(X_test)[:, 1])    "
   ]
  },
  {
   "cell_type": "markdown",
   "id": "hidden-heaven",
   "metadata": {},
   "source": [
    "## HistGradientBoostingClassifier\n"
   ]
  },
  {
   "cell_type": "code",
   "execution_count": 154,
   "id": "stable-lighter",
   "metadata": {},
   "outputs": [],
   "source": [
    "#for some reason this model didn't like my functions. So long form it is!\n",
    "def HistGrad_modeler(dicto):\n",
    "    histamine_reaction = HistGradientBoostingClassifier()\n",
    "\n",
    "    hist_time_start = time.time()\n",
    "    histamine_reaction.fit(X_train, np.ravel(y_train))\n",
    "    hist_time_stop = time.time()\n",
    "    hist_train_time = hist_time_stop - hist_time_start\n",
    "    dicto['HistGradientBoostingClassifier']['training_time'] = hist_train_time\n",
    "    confuse = confusion_matrix(y_test, histamine_reaction.predict(X_test))\n",
    "    dicto['HistGradientBoostingClassifier']['confuse'] = confuse\n",
    "    dicto['HistGradientBoostingClassifier']['ROC_AUC_Score'] = roc_auc_score(y_test, histamine_reaction.predict_proba(X_test)[:, 1])    \n"
   ]
  },
  {
   "cell_type": "markdown",
   "id": "reported-nashville",
   "metadata": {},
   "source": [
    "## Model Evaluation"
   ]
  },
  {
   "cell_type": "markdown",
   "id": "norwegian-procurement",
   "metadata": {},
   "source": [
    "#precision = tp/(tp+fp)\n",
    "maximize this for spam, don't wanna be hiding real emails\n",
    "\n",
    "#recall= tp/(tp+fn) \n",
    "Maximize this for medical or security scenarios, don't wanna miss actual sicknesses"
   ]
  },
  {
   "cell_type": "code",
   "execution_count": 246,
   "id": "compact-given",
   "metadata": {
    "scrolled": true
   },
   "outputs": [],
   "source": [
    "def medical_evaluator(dicto):\n",
    "    bestmodel = \"\"\n",
    "    training_time= 0\n",
    "    recall = 0\n",
    "    temp_recall = 0\n",
    "    for key, value in dicto.items():\n",
    "        tp = dicto[key]['confuse'][1][1]\n",
    "        fn = dicto[key]['confuse'][1][0]\n",
    "        if tp > 0 or tp ==1:\n",
    "            temp_recall = tp / (tp+fn)\n",
    "\n",
    "        if temp_recall > recall:\n",
    "\n",
    "            recall = temp_recall\n",
    "            bestmodel = key\n",
    "            training_time = dicto[key]['training_time']\n",
    "    return bestmodel, recall, training_time"
   ]
  },
  {
   "cell_type": "code",
   "execution_count": 242,
   "id": "laden-combining",
   "metadata": {
    "scrolled": true
   },
   "outputs": [
    {
     "name": "stdout",
     "output_type": "stream",
     "text": [
      "dummy\n",
      "0\n",
      "2671\n",
      "SVC\n",
      "471\n",
      "2200\n",
      "SGDClassfier\n",
      "701\n",
      "1970\n",
      "BaggingClassifier\n",
      "637\n",
      "2034\n",
      "RandomForestClassifier\n",
      "527\n",
      "2144\n",
      "AdaBoostClassifier\n",
      "706\n",
      "1965\n",
      "GradientBoostingClassifier\n",
      "1859\n",
      "812\n",
      "HistGradientBoostingClassifier\n",
      "1096\n",
      "1575\n",
      "('GradientBoostingClassifier', 0.6959940097341819, 59.56250500679016)\n"
     ]
    }
   ],
   "source": [
    "\n",
    "print(medical_evaluator(wide_data_model_stats))"
   ]
  },
  {
   "cell_type": "code",
   "execution_count": 243,
   "id": "overall-modification",
   "metadata": {},
   "outputs": [
    {
     "name": "stdout",
     "output_type": "stream",
     "text": [
      "dummy\n",
      " \n",
      "0.07002544403076172\n",
      "[[10938     0]\n",
      " [ 2671     0]]\n",
      "SVC\n",
      " \n",
      "397.05378580093384\n",
      "[[10680   258]\n",
      " [ 2200   471]]\n",
      "SGDClassfier\n",
      " \n",
      "1.420055866241455\n",
      "[[10489   449]\n",
      " [ 1970   701]]\n",
      "BaggingClassifier\n",
      " \n",
      "257.0642306804657\n",
      "[[10434   504]\n",
      " [ 2034   637]]\n",
      "RandomForestClassifier\n",
      " \n",
      "133.97812008857727\n",
      "[[10634   304]\n",
      " [ 2144   527]]\n",
      "AdaBoostClassifier\n",
      " \n",
      "21.616897344589233\n",
      "[[10476   462]\n",
      " [ 1965   706]]\n",
      "GradientBoostingClassifier\n",
      " \n",
      "59.56250500679016\n",
      "[[6569 4369]\n",
      " [ 812 1859]]\n",
      "HistGradientBoostingClassifier\n",
      " \n",
      "1.0342340469360352\n",
      "[[9222 1716]\n",
      " [1575 1096]]\n"
     ]
    }
   ],
   "source": [
    "for key, value in wide_data_model_stats.items():\n",
    "    print(key)\n",
    "    print(\" \")\n",
    "    print(value['training_time'])\n",
    "    print(value['confuse'])"
   ]
  },
  {
   "cell_type": "code",
   "execution_count": 244,
   "id": "expired-danger",
   "metadata": {
    "scrolled": true
   },
   "outputs": [],
   "source": [
    "def spam_evaluator(dicto):\n",
    "    bestmodel = \"\"\n",
    "    training_time= 0\n",
    "    precision = 0\n",
    "    temp_precision = 0.00000001\n",
    "    for key, value in dicto.items():\n",
    "\n",
    "        tp = dicto[key]['confuse'][0][1]\n",
    "        fp = dicto[key]['confuse'][0][1]\n",
    "        if tp > 0 or tp == 1:\n",
    "            temp_precision = tp/(tp + fp)\n",
    "\n",
    "        if temp_precision > precision:\n",
    "\n",
    "            precision = temp_precision\n",
    "            bestmodel = key\n",
    "            training_time = dicto[key]['training_time']\n",
    "    return bestmodel, precision, training_time"
   ]
  },
  {
   "cell_type": "code",
   "execution_count": 190,
   "id": "inside-tuning",
   "metadata": {},
   "outputs": [],
   "source": [
    "def chonky_model_aggregator(X_train, y_train, X_test, y_test):\n",
    "    \n",
    "    #Models to explore\n",
    "    model_set = ['dummy','SVC', 'SGDClassfier', 'BaggingClassifier', 'RandomForestClassifier', 'AdaBoostClassifier', 'GradientBoostingClassifier', 'HistGradientBoostingClassifier']\n",
    "    model_stats = {}\n",
    "    for each in model_set:\n",
    "        model_stats[each] ={'confuse' : [], 'training_time' : 0, 'ROC_AUC_Score': 0}\n",
    "    #model running\n",
    "    classy_dummy(model_stats)\n",
    "    SVCmodeler(model_stats)\n",
    "    grid_sgd_model(model_stats)\n",
    "    bayes_bagging_model(model_stats)\n",
    "    bayes_rf_model(model_stats)\n",
    "    bayes_hyper_ada_boost_model(model_stats)\n",
    "    bayes_hyper_grad_boosting_model(model_stats)\n",
    "    bayes_hyper_hist_grad_model(model_stats)\n",
    "\n",
    "\n",
    "    #best_med_model, med_precision, med_time = medical_evaluator(model_stats)\n",
    "    #best_spam_model, spam_recall, spam_time = spam_evaluator(model_stats)\n",
    "    #print(\"The best medical model (Optimizing for precision) is \" + best_med_model + \" It's precision score was\" + str(round(med_precision,3)) + \" and it took \" + str(round(med_time,2)) +\" seconds to run.\")\n",
    "    #print(\"\")\n",
    "    #print(\"The best spam model (Optimizing for recall) is \" + best_spam_model + \" It's recall score was\" +str(round(spam_recall, 3)) +\" and it took \" + str(round(spam_time, 2) +\" seconds to run.\")\n",
    "    return model_stats\n",
    "\n"
   ]
  },
  {
   "cell_type": "markdown",
   "id": "greek-compact",
   "metadata": {},
   "source": [
    "#Wide Data"
   ]
  },
  {
   "cell_type": "code",
   "execution_count": 191,
   "id": "level-clerk",
   "metadata": {
    "scrolled": false
   },
   "outputs": [
    {
     "name": "stdout",
     "output_type": "stream",
     "text": [
      "|   iter    |  target   | max_fe... | max_sa... | n_esti... |\n",
      "-------------------------------------------------------------\n",
      "| \u001b[0m 1       \u001b[0m | \u001b[0m 0.05253 \u001b[0m | \u001b[0m 0.7571  \u001b[0m | \u001b[0m 0.8434  \u001b[0m | \u001b[0m 352.0   \u001b[0m |\n",
      "| \u001b[0m 2       \u001b[0m | \u001b[0m 0.02358 \u001b[0m | \u001b[0m 0.4118  \u001b[0m | \u001b[0m 0.6222  \u001b[0m | \u001b[0m 431.0   \u001b[0m |\n",
      "| \u001b[95m 3       \u001b[0m | \u001b[95m 0.05344 \u001b[0m | \u001b[95m 0.8147  \u001b[0m | \u001b[95m 0.3698  \u001b[0m | \u001b[95m 437.8   \u001b[0m |\n",
      "| \u001b[0m 4       \u001b[0m | \u001b[0m 0.000365\u001b[0m | \u001b[0m 0.2223  \u001b[0m | \u001b[0m 0.6694  \u001b[0m | \u001b[0m 405.1   \u001b[0m |\n",
      "| \u001b[0m 5       \u001b[0m | \u001b[0m 0.03395 \u001b[0m | \u001b[0m 0.5086  \u001b[0m | \u001b[0m 0.694   \u001b[0m | \u001b[0m 128.7   \u001b[0m |\n",
      "| \u001b[95m 6       \u001b[0m | \u001b[95m 0.05784 \u001b[0m | \u001b[95m 0.8993  \u001b[0m | \u001b[95m 0.8989  \u001b[0m | \u001b[95m 180.5   \u001b[0m |\n",
      "| \u001b[0m 7       \u001b[0m | \u001b[0m 0.000274\u001b[0m | \u001b[0m 0.2256  \u001b[0m | \u001b[0m 0.5942  \u001b[0m | \u001b[0m 363.2   \u001b[0m |\n",
      "| \u001b[0m 8       \u001b[0m | \u001b[0m 0.05232 \u001b[0m | \u001b[0m 0.7543  \u001b[0m | \u001b[0m 0.8533  \u001b[0m | \u001b[0m 348.1   \u001b[0m |\n",
      "| \u001b[0m 9       \u001b[0m | \u001b[0m 0.03178 \u001b[0m | \u001b[0m 0.5066  \u001b[0m | \u001b[0m 0.4812  \u001b[0m | \u001b[0m 395.9   \u001b[0m |\n",
      "| \u001b[0m 10      \u001b[0m | \u001b[0m 0.04376 \u001b[0m | \u001b[0m 0.6564  \u001b[0m | \u001b[0m 0.535   \u001b[0m | \u001b[0m 349.6   \u001b[0m |\n",
      "| \u001b[0m 11      \u001b[0m | \u001b[0m 0.03048 \u001b[0m | \u001b[0m 0.4717  \u001b[0m | \u001b[0m 0.7416  \u001b[0m | \u001b[0m 93.96   \u001b[0m |\n",
      "| \u001b[0m 12      \u001b[0m | \u001b[0m 0.04016 \u001b[0m | \u001b[0m 0.6014  \u001b[0m | \u001b[0m 0.4327  \u001b[0m | \u001b[0m 324.4   \u001b[0m |\n",
      "| \u001b[0m 13      \u001b[0m | \u001b[0m 0.03321 \u001b[0m | \u001b[0m 0.543   \u001b[0m | \u001b[0m 0.4172  \u001b[0m | \u001b[0m 450.3   \u001b[0m |\n",
      "| \u001b[0m 14      \u001b[0m | \u001b[0m 0.03889 \u001b[0m | \u001b[0m 0.5515  \u001b[0m | \u001b[0m 0.2542  \u001b[0m | \u001b[0m 117.4   \u001b[0m |\n",
      "| \u001b[0m 15      \u001b[0m | \u001b[0m 0.0     \u001b[0m | \u001b[0m 0.1336  \u001b[0m | \u001b[0m 0.4105  \u001b[0m | \u001b[0m 78.05   \u001b[0m |\n",
      "| \u001b[0m 16      \u001b[0m | \u001b[0m 0.05248 \u001b[0m | \u001b[0m 0.8874  \u001b[0m | \u001b[0m 0.1169  \u001b[0m | \u001b[0m 183.3   \u001b[0m |\n",
      "| \u001b[0m 17      \u001b[0m | \u001b[0m 0.04037 \u001b[0m | \u001b[0m 0.5688  \u001b[0m | \u001b[0m 0.8716  \u001b[0m | \u001b[0m 344.0   \u001b[0m |\n",
      "| \u001b[0m 18      \u001b[0m | \u001b[0m 0.05355 \u001b[0m | \u001b[0m 0.8688  \u001b[0m | \u001b[0m 0.1697  \u001b[0m | \u001b[0m 176.8   \u001b[0m |\n",
      "| \u001b[0m 19      \u001b[0m | \u001b[0m 0.05577 \u001b[0m | \u001b[0m 0.8316  \u001b[0m | \u001b[0m 0.8476  \u001b[0m | \u001b[0m 441.9   \u001b[0m |\n",
      "| \u001b[0m 20      \u001b[0m | \u001b[0m 0.04951 \u001b[0m | \u001b[0m 0.7025  \u001b[0m | \u001b[0m 0.8126  \u001b[0m | \u001b[0m 171.1   \u001b[0m |\n",
      "| \u001b[0m 21      \u001b[0m | \u001b[0m 0.04248 \u001b[0m | \u001b[0m 0.6306  \u001b[0m | \u001b[0m 0.2037  \u001b[0m | \u001b[0m 165.1   \u001b[0m |\n",
      "| \u001b[95m 22      \u001b[0m | \u001b[95m 0.05849 \u001b[0m | \u001b[95m 0.9     \u001b[0m | \u001b[95m 0.9     \u001b[0m | \u001b[95m 189.6   \u001b[0m |\n",
      "| \u001b[0m 23      \u001b[0m | \u001b[0m 0.05324 \u001b[0m | \u001b[0m 0.8078  \u001b[0m | \u001b[0m 0.6716  \u001b[0m | \u001b[0m 194.2   \u001b[0m |\n",
      "| \u001b[0m 24      \u001b[0m | \u001b[0m 0.01484 \u001b[0m | \u001b[0m 0.3617  \u001b[0m | \u001b[0m 0.7478  \u001b[0m | \u001b[0m 200.4   \u001b[0m |\n",
      "| \u001b[0m 25      \u001b[0m | \u001b[0m 0.04143 \u001b[0m | \u001b[0m 0.5923  \u001b[0m | \u001b[0m 0.6286  \u001b[0m | \u001b[0m 156.0   \u001b[0m |\n",
      "=============================================================\n",
      "|   iter    |  target   | max_depth | min_sa... | min_sa... | n_esti... |\n",
      "-------------------------------------------------------------------------\n",
      "| \u001b[0m 1       \u001b[0m | \u001b[0m 0.04085 \u001b[0m | \u001b[0m 57.26   \u001b[0m | \u001b[0m 4.472   \u001b[0m | \u001b[0m 2.054   \u001b[0m | \u001b[0m 1.308e+0\u001b[0m |\n",
      "| \u001b[95m 2       \u001b[0m | \u001b[95m 0.04512 \u001b[0m | \u001b[95m 40.11   \u001b[0m | \u001b[95m 2.62    \u001b[0m | \u001b[95m 4.339   \u001b[0m | \u001b[95m 930.1   \u001b[0m |\n",
      "| \u001b[0m 3       \u001b[0m | \u001b[0m 0.04326 \u001b[0m | \u001b[0m 32.74   \u001b[0m | \u001b[0m 2.376   \u001b[0m | \u001b[0m 9.338   \u001b[0m | \u001b[0m 1.34e+03\u001b[0m |\n",
      "| \u001b[0m 4       \u001b[0m | \u001b[0m 0.01502 \u001b[0m | \u001b[0m 12.99   \u001b[0m | \u001b[0m 4.795   \u001b[0m | \u001b[0m 5.837   \u001b[0m | \u001b[0m 998.3   \u001b[0m |\n",
      "| \u001b[0m 5       \u001b[0m | \u001b[0m 0.03835 \u001b[0m | \u001b[0m 20.46   \u001b[0m | \u001b[0m 2.453   \u001b[0m | \u001b[0m 9.954   \u001b[0m | \u001b[0m 550.7   \u001b[0m |\n",
      "| \u001b[0m 6       \u001b[0m | \u001b[0m 0.04451 \u001b[0m | \u001b[0m 34.35   \u001b[0m | \u001b[0m 2.149   \u001b[0m | \u001b[0m 3.168   \u001b[0m | \u001b[0m 1.719e+0\u001b[0m |\n",
      "| \u001b[95m 7       \u001b[0m | \u001b[95m 0.0463  \u001b[0m | \u001b[95m 44.97   \u001b[0m | \u001b[95m 1.002   \u001b[0m | \u001b[95m 4.532   \u001b[0m | \u001b[95m 705.8   \u001b[0m |\n",
      "| \u001b[0m 8       \u001b[0m | \u001b[0m 0.01413 \u001b[0m | \u001b[0m 12.18   \u001b[0m | \u001b[0m 4.382   \u001b[0m | \u001b[0m 5.77    \u001b[0m | \u001b[0m 1.028e+0\u001b[0m |\n",
      "| \u001b[0m 9       \u001b[0m | \u001b[0m 0.04064 \u001b[0m | \u001b[0m 26.99   \u001b[0m | \u001b[0m 3.319   \u001b[0m | \u001b[0m 5.119   \u001b[0m | \u001b[0m 1.666e+0\u001b[0m |\n",
      "| \u001b[0m 10      \u001b[0m | \u001b[0m 0.01206 \u001b[0m | \u001b[0m 11.39   \u001b[0m | \u001b[0m 2.214   \u001b[0m | \u001b[0m 5.99    \u001b[0m | \u001b[0m 928.3   \u001b[0m |\n",
      "| \u001b[0m 11      \u001b[0m | \u001b[0m 0.0446  \u001b[0m | \u001b[0m 48.62   \u001b[0m | \u001b[0m 2.11    \u001b[0m | \u001b[0m 9.178   \u001b[0m | \u001b[0m 1.249e+0\u001b[0m |\n",
      "| \u001b[0m 12      \u001b[0m | \u001b[0m 0.04119 \u001b[0m | \u001b[0m 49.43   \u001b[0m | \u001b[0m 4.462   \u001b[0m | \u001b[0m 6.492   \u001b[0m | \u001b[0m 1.222e+0\u001b[0m |\n",
      "| \u001b[0m 13      \u001b[0m | \u001b[0m 0.04506 \u001b[0m | \u001b[0m 59.54   \u001b[0m | \u001b[0m 2.443   \u001b[0m | \u001b[0m 5.09    \u001b[0m | \u001b[0m 271.2   \u001b[0m |\n",
      "| \u001b[0m 14      \u001b[0m | \u001b[0m 0.01215 \u001b[0m | \u001b[0m 11.89   \u001b[0m | \u001b[0m 4.803   \u001b[0m | \u001b[0m 5.851   \u001b[0m | \u001b[0m 1.374e+0\u001b[0m |\n",
      "| \u001b[0m 15      \u001b[0m | \u001b[0m 0.04278 \u001b[0m | \u001b[0m 49.83   \u001b[0m | \u001b[0m 3.655   \u001b[0m | \u001b[0m 5.953   \u001b[0m | \u001b[0m 399.6   \u001b[0m |\n",
      "| \u001b[95m 16      \u001b[0m | \u001b[95m 0.04707 \u001b[0m | \u001b[95m 59.52   \u001b[0m | \u001b[95m 1.001   \u001b[0m | \u001b[95m 9.237   \u001b[0m | \u001b[95m 933.4   \u001b[0m |\n",
      "| \u001b[0m 17      \u001b[0m | \u001b[0m 0.04706 \u001b[0m | \u001b[0m 58.35   \u001b[0m | \u001b[0m 1.131   \u001b[0m | \u001b[0m 5.589   \u001b[0m | \u001b[0m 907.2   \u001b[0m |\n",
      "| \u001b[0m 18      \u001b[0m | \u001b[0m 0.04475 \u001b[0m | \u001b[0m 59.57   \u001b[0m | \u001b[0m 2.712   \u001b[0m | \u001b[0m 5.221   \u001b[0m | \u001b[0m 273.2   \u001b[0m |\n",
      "| \u001b[0m 19      \u001b[0m | \u001b[0m 0.01601 \u001b[0m | \u001b[0m 12.29   \u001b[0m | \u001b[0m 1.0     \u001b[0m | \u001b[0m 10.0    \u001b[0m | \u001b[0m 1.293e+0\u001b[0m |\n",
      "| \u001b[0m 20      \u001b[0m | \u001b[0m 0.04574 \u001b[0m | \u001b[0m 38.5    \u001b[0m | \u001b[0m 1.589   \u001b[0m | \u001b[0m 7.936   \u001b[0m | \u001b[0m 671.0   \u001b[0m |\n",
      "| \u001b[0m 21      \u001b[0m | \u001b[0m 0.008993\u001b[0m | \u001b[0m 10.37   \u001b[0m | \u001b[0m 3.157   \u001b[0m | \u001b[0m 2.709   \u001b[0m | \u001b[0m 694.9   \u001b[0m |\n",
      "| \u001b[0m 22      \u001b[0m | \u001b[0m 0.04674 \u001b[0m | \u001b[0m 58.7    \u001b[0m | \u001b[0m 1.465   \u001b[0m | \u001b[0m 9.471   \u001b[0m | \u001b[0m 685.7   \u001b[0m |\n",
      "| \u001b[0m 23      \u001b[0m | \u001b[0m 0.04119 \u001b[0m | \u001b[0m 59.83   \u001b[0m | \u001b[0m 4.882   \u001b[0m | \u001b[0m 2.545   \u001b[0m | \u001b[0m 647.9   \u001b[0m |\n",
      "| \u001b[0m 24      \u001b[0m | \u001b[0m 0.04639 \u001b[0m | \u001b[0m 60.0    \u001b[0m | \u001b[0m 1.0     \u001b[0m | \u001b[0m 10.0    \u001b[0m | \u001b[0m 731.0   \u001b[0m |\n",
      "| \u001b[0m 25      \u001b[0m | \u001b[0m 0.03897 \u001b[0m | \u001b[0m 24.1    \u001b[0m | \u001b[0m 4.382   \u001b[0m | \u001b[0m 5.536   \u001b[0m | \u001b[0m 259.6   \u001b[0m |\n",
      "=========================================================================\n",
      "|   iter    |  target   | learni... | n_esti... |\n",
      "-------------------------------------------------\n",
      "| \u001b[0m 1       \u001b[0m | \u001b[0m 0.03258 \u001b[0m | \u001b[0m 0.307   \u001b[0m | \u001b[0m 33.06   \u001b[0m |\n",
      "| \u001b[95m 2       \u001b[0m | \u001b[95m 0.05156 \u001b[0m | \u001b[95m 0.1411  \u001b[0m | \u001b[95m 343.2   \u001b[0m |\n",
      "| \u001b[95m 3       \u001b[0m | \u001b[95m 0.05743 \u001b[0m | \u001b[95m 0.375   \u001b[0m | \u001b[95m 330.2   \u001b[0m |\n",
      "| \u001b[95m 4       \u001b[0m | \u001b[95m 0.05959 \u001b[0m | \u001b[95m 0.7599  \u001b[0m | \u001b[95m 209.3   \u001b[0m |\n",
      "| \u001b[95m 5       \u001b[0m | \u001b[95m 0.06023 \u001b[0m | \u001b[95m 0.7418  \u001b[0m | \u001b[95m 399.7   \u001b[0m |\n",
      "| \u001b[95m 6       \u001b[0m | \u001b[95m 0.06224 \u001b[0m | \u001b[95m 1.237   \u001b[0m | \u001b[95m 451.8   \u001b[0m |\n",
      "| \u001b[0m 7       \u001b[0m | \u001b[0m 0.05997 \u001b[0m | \u001b[0m 0.6115  \u001b[0m | \u001b[0m 428.8   \u001b[0m |\n",
      "| \u001b[0m 8       \u001b[0m | \u001b[0m 0.04758 \u001b[0m | \u001b[0m 1.894   \u001b[0m | \u001b[0m 51.89   \u001b[0m |\n",
      "| \u001b[0m 9       \u001b[0m | \u001b[0m 0.06198 \u001b[0m | \u001b[0m 1.136   \u001b[0m | \u001b[0m 494.7   \u001b[0m |\n",
      "| \u001b[95m 10      \u001b[0m | \u001b[95m 0.06308 \u001b[0m | \u001b[95m 1.518   \u001b[0m | \u001b[95m 388.6   \u001b[0m |\n",
      "| \u001b[0m 11      \u001b[0m | \u001b[0m 0.05033 \u001b[0m | \u001b[0m 0.6561  \u001b[0m | \u001b[0m 20.35   \u001b[0m |\n",
      "| \u001b[0m 12      \u001b[0m | \u001b[0m 0.04122 \u001b[0m | \u001b[0m 1.922   \u001b[0m | \u001b[0m 76.58   \u001b[0m |\n",
      "| \u001b[0m 13      \u001b[0m | \u001b[0m 0.06201 \u001b[0m | \u001b[0m 1.233   \u001b[0m | \u001b[0m 45.11   \u001b[0m |\n",
      "| \u001b[0m 14      \u001b[0m | \u001b[0m 0.06145 \u001b[0m | \u001b[0m 0.9106  \u001b[0m | \u001b[0m 336.6   \u001b[0m |\n",
      "| \u001b[0m 15      \u001b[0m | \u001b[0m 0.06166 \u001b[0m | \u001b[0m 1.814   \u001b[0m | \u001b[0m 343.2   \u001b[0m |\n",
      "| \u001b[0m 16      \u001b[0m | \u001b[0m 0.06276 \u001b[0m | \u001b[0m 1.478   \u001b[0m | \u001b[0m 127.8   \u001b[0m |\n",
      "| \u001b[0m 17      \u001b[0m | \u001b[0m 0.05997 \u001b[0m | \u001b[0m 0.7941  \u001b[0m | \u001b[0m 65.53   \u001b[0m |\n",
      "| \u001b[0m 18      \u001b[0m | \u001b[0m 0.06047 \u001b[0m | \u001b[0m 0.8795  \u001b[0m | \u001b[0m 218.3   \u001b[0m |\n",
      "| \u001b[0m 19      \u001b[0m | \u001b[0m 0.05647 \u001b[0m | \u001b[0m 0.3286  \u001b[0m | \u001b[0m 301.4   \u001b[0m |\n",
      "| \u001b[0m 20      \u001b[0m | \u001b[0m 0.0523  \u001b[0m | \u001b[0m 0.4385  \u001b[0m | \u001b[0m 85.15   \u001b[0m |\n",
      "| \u001b[95m 21      \u001b[0m | \u001b[95m 0.06314 \u001b[0m | \u001b[95m 1.48    \u001b[0m | \u001b[95m 127.9   \u001b[0m |\n",
      "| \u001b[0m 22      \u001b[0m | \u001b[0m 0.06241 \u001b[0m | \u001b[0m 1.306   \u001b[0m | \u001b[0m 129.1   \u001b[0m |\n",
      "| \u001b[0m 23      \u001b[0m | \u001b[0m 0.06086 \u001b[0m | \u001b[0m 0.8406  \u001b[0m | \u001b[0m 387.2   \u001b[0m |\n",
      "| \u001b[0m 24      \u001b[0m | \u001b[0m 0.05012 \u001b[0m | \u001b[0m 0.1     \u001b[0m | \u001b[0m 389.2   \u001b[0m |\n",
      "| \u001b[0m 25      \u001b[0m | \u001b[0m 0.04166 \u001b[0m | \u001b[0m 0.1495  \u001b[0m | \u001b[0m 128.6   \u001b[0m |\n",
      "=================================================\n"
     ]
    },
    {
     "name": "stdout",
     "output_type": "stream",
     "text": [
      "|   iter    |  target   | learni... | max_le... | n_esti... |\n",
      "-------------------------------------------------------------\n",
      "| \u001b[0m 1       \u001b[0m | \u001b[0m 0.06565 \u001b[0m | \u001b[0m 0.3196  \u001b[0m | \u001b[0m 12.35   \u001b[0m | \u001b[0m 254.5   \u001b[0m |\n",
      "| \u001b[0m 2       \u001b[0m | \u001b[0m 0.06561 \u001b[0m | \u001b[0m 0.4406  \u001b[0m | \u001b[0m 30.11   \u001b[0m | \u001b[0m 150.6   \u001b[0m |\n",
      "| \u001b[95m 3       \u001b[0m | \u001b[95m 0.08534 \u001b[0m | \u001b[95m 1.578   \u001b[0m | \u001b[95m 11.81   \u001b[0m | \u001b[95m 264.3   \u001b[0m |\n",
      "| \u001b[0m 4       \u001b[0m | \u001b[0m 0.07635 \u001b[0m | \u001b[0m 0.9605  \u001b[0m | \u001b[0m 33.04   \u001b[0m | \u001b[0m 468.7   \u001b[0m |\n",
      "| \u001b[0m 5       \u001b[0m | \u001b[0m 0.03974 \u001b[0m | \u001b[0m 1.882   \u001b[0m | \u001b[0m 28.31   \u001b[0m | \u001b[0m 220.8   \u001b[0m |\n",
      "| \u001b[0m 6       \u001b[0m | \u001b[0m 0.0677  \u001b[0m | \u001b[0m 1.428   \u001b[0m | \u001b[0m 24.34   \u001b[0m | \u001b[0m 101.4   \u001b[0m |\n",
      "| \u001b[0m 7       \u001b[0m | \u001b[0m 0.06188 \u001b[0m | \u001b[0m 0.4754  \u001b[0m | \u001b[0m 47.46   \u001b[0m | \u001b[0m 63.89   \u001b[0m |\n",
      "| \u001b[0m 8       \u001b[0m | \u001b[0m 0.06277 \u001b[0m | \u001b[0m 0.123   \u001b[0m | \u001b[0m 25.17   \u001b[0m | \u001b[0m 424.1   \u001b[0m |\n",
      "| \u001b[0m 9       \u001b[0m | \u001b[0m 0.06852 \u001b[0m | \u001b[0m 0.3763  \u001b[0m | \u001b[0m 48.99   \u001b[0m | \u001b[0m 346.1   \u001b[0m |\n",
      "| \u001b[0m 10      \u001b[0m | \u001b[0m 0.06476 \u001b[0m | \u001b[0m 0.2305  \u001b[0m | \u001b[0m 27.49   \u001b[0m | \u001b[0m 389.3   \u001b[0m |\n",
      "| \u001b[0m 11      \u001b[0m | \u001b[0m 0.06976 \u001b[0m | \u001b[0m 1.44    \u001b[0m | \u001b[0m 47.2    \u001b[0m | \u001b[0m 428.9   \u001b[0m |\n",
      "| \u001b[0m 12      \u001b[0m | \u001b[0m 0.06388 \u001b[0m | \u001b[0m 1.348   \u001b[0m | \u001b[0m 27.93   \u001b[0m | \u001b[0m 266.5   \u001b[0m |\n",
      "| \u001b[0m 13      \u001b[0m | \u001b[0m 0.07112 \u001b[0m | \u001b[0m 1.454   \u001b[0m | \u001b[0m 23.54   \u001b[0m | \u001b[0m 328.8   \u001b[0m |\n",
      "| \u001b[0m 14      \u001b[0m | \u001b[0m 0.0631  \u001b[0m | \u001b[0m 0.1389  \u001b[0m | \u001b[0m 11.44   \u001b[0m | \u001b[0m 499.2   \u001b[0m |\n",
      "| \u001b[95m 15      \u001b[0m | \u001b[95m 0.2206  \u001b[0m | \u001b[95m 1.995   \u001b[0m | \u001b[95m 17.72   \u001b[0m | \u001b[95m 298.6   \u001b[0m |\n",
      "| \u001b[0m 16      \u001b[0m | \u001b[0m 0.06554 \u001b[0m | \u001b[0m 0.2424  \u001b[0m | \u001b[0m 9.867   \u001b[0m | \u001b[0m 296.3   \u001b[0m |\n",
      "| \u001b[0m 17      \u001b[0m | \u001b[0m 0.06768 \u001b[0m | \u001b[0m 1.466   \u001b[0m | \u001b[0m 40.35   \u001b[0m | \u001b[0m 328.9   \u001b[0m |\n",
      "| \u001b[0m 18      \u001b[0m | \u001b[0m 0.01545 \u001b[0m | \u001b[0m 1.775   \u001b[0m | \u001b[0m 42.49   \u001b[0m | \u001b[0m 453.2   \u001b[0m |\n",
      "| \u001b[0m 19      \u001b[0m | \u001b[0m 0.0733  \u001b[0m | \u001b[0m 1.146   \u001b[0m | \u001b[0m 18.56   \u001b[0m | \u001b[0m 368.2   \u001b[0m |\n",
      "| \u001b[0m 20      \u001b[0m | \u001b[0m 0.06775 \u001b[0m | \u001b[0m 0.4989  \u001b[0m | \u001b[0m 7.427   \u001b[0m | \u001b[0m 147.5   \u001b[0m |\n",
      "| \u001b[0m 21      \u001b[0m | \u001b[0m 0.07532 \u001b[0m | \u001b[0m 0.7076  \u001b[0m | \u001b[0m 35.0    \u001b[0m | \u001b[0m 439.9   \u001b[0m |\n",
      "| \u001b[0m 22      \u001b[0m | \u001b[0m 0.1191  \u001b[0m | \u001b[0m 1.983   \u001b[0m | \u001b[0m 42.2    \u001b[0m | \u001b[0m 449.0   \u001b[0m |\n",
      "| \u001b[0m 23      \u001b[0m | \u001b[0m 0.05964 \u001b[0m | \u001b[0m 0.3082  \u001b[0m | \u001b[0m 11.16   \u001b[0m | \u001b[0m 109.9   \u001b[0m |\n",
      "| \u001b[0m 24      \u001b[0m | \u001b[0m 0.007916\u001b[0m | \u001b[0m 1.792   \u001b[0m | \u001b[0m 4.307   \u001b[0m | \u001b[0m 490.0   \u001b[0m |\n",
      "| \u001b[0m 25      \u001b[0m | \u001b[0m 0.1002  \u001b[0m | \u001b[0m 1.967   \u001b[0m | \u001b[0m 13.54   \u001b[0m | \u001b[0m 75.67   \u001b[0m |\n",
      "=============================================================\n",
      "|   iter    |  target   | learni... | max_le... |\n",
      "-------------------------------------------------\n",
      "| \u001b[0m 1       \u001b[0m | \u001b[0m 0.1087  \u001b[0m | \u001b[0m 1.751   \u001b[0m | \u001b[0m 24.23   \u001b[0m |\n",
      "| \u001b[0m 2       \u001b[0m | \u001b[0m 0.06611 \u001b[0m | \u001b[0m 0.7683  \u001b[0m | \u001b[0m 23.41   \u001b[0m |\n",
      "| \u001b[0m 3       \u001b[0m | \u001b[0m 0.06938 \u001b[0m | \u001b[0m 1.117   \u001b[0m | \u001b[0m 19.5    \u001b[0m |\n",
      "| \u001b[0m 4       \u001b[0m | \u001b[0m 0.06728 \u001b[0m | \u001b[0m 1.183   \u001b[0m | \u001b[0m 17.47   \u001b[0m |\n",
      "| \u001b[0m 5       \u001b[0m | \u001b[0m 0.06101 \u001b[0m | \u001b[0m 0.8978  \u001b[0m | \u001b[0m 6.618   \u001b[0m |\n",
      "| \u001b[0m 6       \u001b[0m | \u001b[0m 0.06051 \u001b[0m | \u001b[0m 0.1328  \u001b[0m | \u001b[0m 28.14   \u001b[0m |\n",
      "| \u001b[0m 7       \u001b[0m | \u001b[0m 0.06876 \u001b[0m | \u001b[0m 0.8398  \u001b[0m | \u001b[0m 43.31   \u001b[0m |\n",
      "| \u001b[0m 8       \u001b[0m | \u001b[0m 0.06506 \u001b[0m | \u001b[0m 0.701   \u001b[0m | \u001b[0m 20.89   \u001b[0m |\n",
      "| \u001b[0m 9       \u001b[0m | \u001b[0m 0.05874 \u001b[0m | \u001b[0m 1.523   \u001b[0m | \u001b[0m 44.2    \u001b[0m |\n",
      "| \u001b[0m 10      \u001b[0m | \u001b[0m 0.06904 \u001b[0m | \u001b[0m 0.894   \u001b[0m | \u001b[0m 40.47   \u001b[0m |\n",
      "| \u001b[0m 11      \u001b[0m | \u001b[0m 0.06683 \u001b[0m | \u001b[0m 0.4268  \u001b[0m | \u001b[0m 44.79   \u001b[0m |\n",
      "| \u001b[0m 12      \u001b[0m | \u001b[0m 0.07995 \u001b[0m | \u001b[0m 1.643   \u001b[0m | \u001b[0m 19.61   \u001b[0m |\n",
      "| \u001b[0m 13      \u001b[0m | \u001b[0m 0.06613 \u001b[0m | \u001b[0m 0.7053  \u001b[0m | \u001b[0m 30.9    \u001b[0m |\n",
      "| \u001b[0m 14      \u001b[0m | \u001b[0m 0.07222 \u001b[0m | \u001b[0m 1.084   \u001b[0m | \u001b[0m 42.45   \u001b[0m |\n",
      "| \u001b[95m 15      \u001b[0m | \u001b[95m 0.1109  \u001b[0m | \u001b[95m 1.981   \u001b[0m | \u001b[95m 31.13   \u001b[0m |\n",
      "| \u001b[0m 16      \u001b[0m | \u001b[0m 0.1081  \u001b[0m | \u001b[0m 1.791   \u001b[0m | \u001b[0m 24.24   \u001b[0m |\n",
      "| \u001b[0m 17      \u001b[0m | \u001b[0m 0.06707 \u001b[0m | \u001b[0m 2.0     \u001b[0m | \u001b[0m 31.69   \u001b[0m |\n",
      "| \u001b[0m 18      \u001b[0m | \u001b[0m 0.03816 \u001b[0m | \u001b[0m 1.887   \u001b[0m | \u001b[0m 30.93   \u001b[0m |\n",
      "| \u001b[0m 19      \u001b[0m | \u001b[0m 0.07063 \u001b[0m | \u001b[0m 1.182   \u001b[0m | \u001b[0m 36.48   \u001b[0m |\n",
      "| \u001b[0m 20      \u001b[0m | \u001b[0m 0.05832 \u001b[0m | \u001b[0m 1.552   \u001b[0m | \u001b[0m 40.38   \u001b[0m |\n",
      "| \u001b[0m 21      \u001b[0m | \u001b[0m 0.04871 \u001b[0m | \u001b[0m 1.552   \u001b[0m | \u001b[0m 14.51   \u001b[0m |\n",
      "| \u001b[0m 22      \u001b[0m | \u001b[0m 0.06061 \u001b[0m | \u001b[0m 1.248   \u001b[0m | \u001b[0m 5.209   \u001b[0m |\n",
      "| \u001b[95m 23      \u001b[0m | \u001b[95m 0.1306  \u001b[0m | \u001b[95m 1.78    \u001b[0m | \u001b[95m 24.19   \u001b[0m |\n",
      "| \u001b[0m 24      \u001b[0m | \u001b[0m 0.03969 \u001b[0m | \u001b[0m 1.982   \u001b[0m | \u001b[0m 31.21   \u001b[0m |\n",
      "| \u001b[0m 25      \u001b[0m | \u001b[0m 0.06596 \u001b[0m | \u001b[0m 0.9253  \u001b[0m | \u001b[0m 25.05   \u001b[0m |\n",
      "=================================================\n",
      "{'target': 0.1306198166739415, 'params': {'learning_rate': 1.7796790797887962, 'max_leaf_nodes': 24.18790850285103}}\n"
     ]
    }
   ],
   "source": [
    "wide_data_model_stats = chonky_model_aggregator(X_train, y_train, X_test, y_test)"
   ]
  },
  {
   "cell_type": "code",
   "execution_count": 248,
   "id": "extra-knight",
   "metadata": {
    "scrolled": true
   },
   "outputs": [
    {
     "name": "stdout",
     "output_type": "stream",
     "text": [
      "('GradientBoostingClassifier', 0.6959940097341819, 59.56250500679016)\n"
     ]
    }
   ],
   "source": [
    "print(medical_evaluator(wide_data_model_stats))"
   ]
  },
  {
   "cell_type": "code",
   "execution_count": null,
   "id": "continued-solomon",
   "metadata": {},
   "outputs": [],
   "source": [
    "best_med_model, med_recall, med_time = medical_evaluator(wide_data_model_stats)\n",
    "best_spam_model, spam_precision, spam_time = spam_evaluator(wide_data_model_stats)\n",
    "print(\"The best medical model (Optimizing for recall) is \" + best_med_model + \" It's recall score was\" + str(round(med_precision,3)) + \" and it took \" + str(round(med_time,2)) +\" seconds to run.\")\n",
    "print(\"\")\n",
    "print(\"The best spam model (Optimizing for precision) is \" + best_spam_model +\n",
    "      \" It's precision score was\" +str(round(spam_precision, 3)) +\" and it took \" + str(round(spam_time, 2) ) +\" seconds to run.\")"
   ]
  },
  {
   "cell_type": "code",
   "execution_count": 200,
   "id": "rising-latin",
   "metadata": {},
   "outputs": [
    {
     "name": "stdout",
     "output_type": "stream",
     "text": [
      "dummy\n",
      "[[10938     0]\n",
      " [ 2671     0]]\n",
      "SVC\n",
      "[[10680   258]\n",
      " [ 2200   471]]\n",
      "SGDClassfier\n",
      "[[10489   449]\n",
      " [ 1970   701]]\n",
      "BaggingClassifier\n",
      "[[10434   504]\n",
      " [ 2034   637]]\n",
      "RandomForestClassifier\n",
      "[[10634   304]\n",
      " [ 2144   527]]\n",
      "AdaBoostClassifier\n",
      "[[10476   462]\n",
      " [ 1965   706]]\n",
      "GradientBoostingClassifier\n",
      "[[6569 4369]\n",
      " [ 812 1859]]\n",
      "HistGradientBoostingClassifier\n",
      "[[9222 1716]\n",
      " [1575 1096]]\n"
     ]
    }
   ],
   "source": [
    "for key, value in wide_data_model_stats.items():\n",
    "    print(key)\n",
    "    print(value['confuse'])"
   ]
  },
  {
   "cell_type": "markdown",
   "id": "direct-israeli",
   "metadata": {},
   "source": [
    "#Narrow Data"
   ]
  },
  {
   "cell_type": "code",
   "execution_count": null,
   "id": "viral-extraction",
   "metadata": {},
   "outputs": [
    {
     "name": "stdout",
     "output_type": "stream",
     "text": [
      "|   iter    |  target   | max_fe... | max_sa... | n_esti... |\n",
      "-------------------------------------------------------------\n",
      "| \u001b[0m 1       \u001b[0m | \u001b[0m 0.02732 \u001b[0m | \u001b[0m 0.4621  \u001b[0m | \u001b[0m 0.6021  \u001b[0m | \u001b[0m 178.9   \u001b[0m |\n",
      "| \u001b[0m 2       \u001b[0m | \u001b[0m 0.008906\u001b[0m | \u001b[0m 0.3411  \u001b[0m | \u001b[0m 0.4708  \u001b[0m | \u001b[0m 295.2   \u001b[0m |\n",
      "| \u001b[95m 3       \u001b[0m | \u001b[95m 0.05588 \u001b[0m | \u001b[95m 0.884   \u001b[0m | \u001b[95m 0.5601  \u001b[0m | \u001b[95m 479.6   \u001b[0m |\n",
      "| \u001b[0m 4       \u001b[0m | \u001b[0m 0.02948 \u001b[0m | \u001b[0m 0.4732  \u001b[0m | \u001b[0m 0.7141  \u001b[0m | \u001b[0m 170.7   \u001b[0m |\n",
      "| \u001b[0m 5       \u001b[0m | \u001b[0m 0.01485 \u001b[0m | \u001b[0m 0.3601  \u001b[0m | \u001b[0m 0.1567  \u001b[0m | \u001b[0m 112.9   \u001b[0m |\n",
      "| \u001b[0m 6       \u001b[0m | \u001b[0m 0.0329  \u001b[0m | \u001b[0m 0.5054  \u001b[0m | \u001b[0m 0.2649  \u001b[0m | \u001b[0m 127.1   \u001b[0m |\n",
      "| \u001b[0m 7       \u001b[0m | \u001b[0m 0.04665 \u001b[0m | \u001b[0m 0.6872  \u001b[0m | \u001b[0m 0.6116  \u001b[0m | \u001b[0m 440.6   \u001b[0m |\n",
      "| \u001b[0m 8       \u001b[0m | \u001b[0m 0.049   \u001b[0m | \u001b[0m 0.7011  \u001b[0m | \u001b[0m 0.8998  \u001b[0m | \u001b[0m 253.5   \u001b[0m |\n",
      "| \u001b[0m 9       \u001b[0m | \u001b[0m 0.007547\u001b[0m | \u001b[0m 0.3128  \u001b[0m | \u001b[0m 0.2174  \u001b[0m | \u001b[0m 294.3   \u001b[0m |\n",
      "| \u001b[0m 10      \u001b[0m | \u001b[0m 0.03092 \u001b[0m | \u001b[0m 0.4635  \u001b[0m | \u001b[0m 0.6925  \u001b[0m | \u001b[0m 76.73   \u001b[0m |\n",
      "| \u001b[0m 11      \u001b[0m | \u001b[0m 0.03131 \u001b[0m | \u001b[0m 0.5173  \u001b[0m | \u001b[0m 0.2153  \u001b[0m | \u001b[0m 36.98   \u001b[0m |\n",
      "| \u001b[0m 12      \u001b[0m | \u001b[0m 0.05339 \u001b[0m | \u001b[0m 0.8115  \u001b[0m | \u001b[0m 0.4941  \u001b[0m | \u001b[0m 414.8   \u001b[0m |\n",
      "| \u001b[0m 13      \u001b[0m | \u001b[0m 0.01107 \u001b[0m | \u001b[0m 0.3462  \u001b[0m | \u001b[0m 0.5768  \u001b[0m | \u001b[0m 384.0   \u001b[0m |\n",
      "| \u001b[0m 14      \u001b[0m | \u001b[0m 0.0     \u001b[0m | \u001b[0m 0.1605  \u001b[0m | \u001b[0m 0.3561  \u001b[0m | \u001b[0m 327.0   \u001b[0m |\n",
      "| \u001b[0m 15      \u001b[0m | \u001b[0m 0.0     \u001b[0m | \u001b[0m 0.1139  \u001b[0m | \u001b[0m 0.3503  \u001b[0m | \u001b[0m 431.5   \u001b[0m |\n",
      "| \u001b[0m 16      \u001b[0m | \u001b[0m 9.142e-0\u001b[0m | \u001b[0m 0.1878  \u001b[0m | \u001b[0m 0.8882  \u001b[0m | \u001b[0m 475.2   \u001b[0m |\n",
      "| \u001b[0m 17      \u001b[0m | \u001b[0m 0.0519  \u001b[0m | \u001b[0m 0.8074  \u001b[0m | \u001b[0m 0.3496  \u001b[0m | \u001b[0m 481.5   \u001b[0m |\n",
      "| \u001b[0m 18      \u001b[0m | \u001b[0m 0.007548\u001b[0m | \u001b[0m 0.3177  \u001b[0m | \u001b[0m 0.5972  \u001b[0m | \u001b[0m 411.9   \u001b[0m |\n",
      "| \u001b[95m 19      \u001b[0m | \u001b[95m 0.05623 \u001b[0m | \u001b[95m 0.8766  \u001b[0m | \u001b[95m 0.7467  \u001b[0m | \u001b[95m 416.6   \u001b[0m |\n",
      "| \u001b[0m 20      \u001b[0m | \u001b[0m 0.0     \u001b[0m | \u001b[0m 0.1     \u001b[0m | \u001b[0m 0.1     \u001b[0m | \u001b[0m 250.8   \u001b[0m |\n",
      "| \u001b[0m 21      \u001b[0m | \u001b[0m 0.0     \u001b[0m | \u001b[0m 0.1965  \u001b[0m | \u001b[0m 0.7986  \u001b[0m | \u001b[0m 255.6   \u001b[0m |\n",
      "| \u001b[0m 22      \u001b[0m | \u001b[0m 0.0     \u001b[0m | \u001b[0m 0.1094  \u001b[0m | \u001b[0m 0.8887  \u001b[0m | \u001b[0m 415.7   \u001b[0m |\n",
      "| \u001b[0m 23      \u001b[0m | \u001b[0m 0.03721 \u001b[0m | \u001b[0m 0.5737  \u001b[0m | \u001b[0m 0.5949  \u001b[0m | \u001b[0m 416.8   \u001b[0m |\n",
      "| \u001b[0m 24      \u001b[0m | \u001b[0m 0.01744 \u001b[0m | \u001b[0m 0.3818  \u001b[0m | \u001b[0m 0.4451  \u001b[0m | \u001b[0m 392.5   \u001b[0m |\n",
      "| \u001b[0m 25      \u001b[0m | \u001b[0m 0.04235 \u001b[0m | \u001b[0m 0.6295  \u001b[0m | \u001b[0m 0.5123  \u001b[0m | \u001b[0m 479.9   \u001b[0m |\n",
      "=============================================================\n",
      "|   iter    |  target   | max_depth | min_sa... | min_sa... | n_esti... |\n",
      "-------------------------------------------------------------------------\n",
      "| \u001b[0m 1       \u001b[0m | \u001b[0m 0.009354\u001b[0m | \u001b[0m 10.57   \u001b[0m | \u001b[0m 4.465   \u001b[0m | \u001b[0m 4.331   \u001b[0m | \u001b[0m 1.22e+03\u001b[0m |\n",
      "| \u001b[95m 2       \u001b[0m | \u001b[95m 0.04439 \u001b[0m | \u001b[95m 55.59   \u001b[0m | \u001b[95m 2.454   \u001b[0m | \u001b[95m 6.108   \u001b[0m | \u001b[95m 152.2   \u001b[0m |\n",
      "| \u001b[0m 3       \u001b[0m | \u001b[0m 0.04111 \u001b[0m | \u001b[0m 37.88   \u001b[0m | \u001b[0m 4.832   \u001b[0m | \u001b[0m 6.545   \u001b[0m | \u001b[0m 1.43e+03\u001b[0m |\n",
      "| \u001b[95m 4       \u001b[0m | \u001b[95m 0.04589 \u001b[0m | \u001b[95m 41.68   \u001b[0m | \u001b[95m 1.601   \u001b[0m | \u001b[95m 7.015   \u001b[0m | \u001b[95m 1.642e+0\u001b[0m |\n",
      "| \u001b[0m 5       \u001b[0m | \u001b[0m 0.04573 \u001b[0m | \u001b[0m 35.7    \u001b[0m | \u001b[0m 1.262   \u001b[0m | \u001b[0m 2.485   \u001b[0m | \u001b[0m 827.3   \u001b[0m |\n",
      "| \u001b[95m 6       \u001b[0m | \u001b[95m 0.04646 \u001b[0m | \u001b[95m 53.36   \u001b[0m | \u001b[95m 1.074   \u001b[0m | \u001b[95m 6.107   \u001b[0m | \u001b[95m 703.9   \u001b[0m |\n",
      "| \u001b[0m 7       \u001b[0m | \u001b[0m 0.04121 \u001b[0m | \u001b[0m 53.03   \u001b[0m | \u001b[0m 4.117   \u001b[0m | \u001b[0m 7.744   \u001b[0m | \u001b[0m 1.692e+0\u001b[0m |\n",
      "| \u001b[95m 8       \u001b[0m | \u001b[95m 0.04726 \u001b[0m | \u001b[95m 35.16   \u001b[0m | \u001b[95m 1.974   \u001b[0m | \u001b[95m 4.764   \u001b[0m | \u001b[95m 318.0   \u001b[0m |\n",
      "| \u001b[0m 9       \u001b[0m | \u001b[0m 0.02903 \u001b[0m | \u001b[0m 15.53   \u001b[0m | \u001b[0m 4.113   \u001b[0m | \u001b[0m 9.263   \u001b[0m | \u001b[0m 1.254e+0\u001b[0m |\n",
      "| \u001b[0m 10      \u001b[0m | \u001b[0m 0.009174\u001b[0m | \u001b[0m 10.37   \u001b[0m | \u001b[0m 3.575   \u001b[0m | \u001b[0m 9.641   \u001b[0m | \u001b[0m 1.447e+0\u001b[0m |\n",
      "| \u001b[0m 11      \u001b[0m | \u001b[0m 0.04309 \u001b[0m | \u001b[0m 27.49   \u001b[0m | \u001b[0m 1.434   \u001b[0m | \u001b[0m 9.888   \u001b[0m | \u001b[0m 631.0   \u001b[0m |\n",
      "| \u001b[0m 12      \u001b[0m | \u001b[0m 0.04693 \u001b[0m | \u001b[0m 52.4    \u001b[0m | \u001b[0m 1.198   \u001b[0m | \u001b[0m 9.519   \u001b[0m | \u001b[0m 1.836e+0\u001b[0m |\n",
      "| \u001b[95m 13      \u001b[0m | \u001b[95m 0.04737 \u001b[0m | \u001b[95m 52.8    \u001b[0m | \u001b[95m 1.806   \u001b[0m | \u001b[95m 4.087   \u001b[0m | \u001b[95m 1.68e+03\u001b[0m |\n",
      "| \u001b[0m 14      \u001b[0m | \u001b[0m 0.04272 \u001b[0m | \u001b[0m 59.57   \u001b[0m | \u001b[0m 3.024   \u001b[0m | \u001b[0m 5.009   \u001b[0m | \u001b[0m 109.3   \u001b[0m |\n"
     ]
    }
   ],
   "source": [
    "narrow_data_model_stats = chonky_model_aggregator(Narrow_X_train, Narrow_y_train, Narrow_X_test, Narrow_y_test)"
   ]
  },
  {
   "cell_type": "code",
   "execution_count": null,
   "id": "historical-lingerie",
   "metadata": {},
   "outputs": [],
   "source": [
    "print(medical_evaluator(narrow_data_model_stats))"
   ]
  },
  {
   "cell_type": "code",
   "execution_count": null,
   "id": "preceding-geometry",
   "metadata": {},
   "outputs": [],
   "source": [
    "best_med_model, med_recall, med_time = medical_evaluator(narrow_data_model_stats)\n",
    "best_spam_model, spam_precision, spam_time = spam_evaluator(narrow_data_model_stats)\n",
    "print(\"The best medical model (Optimizing for recall) is \" + best_med_model + \" It's recall score was\" + str(round(med_precision,3)) + \" and it took \" + str(round(med_time,2)) +\" seconds to run.\")\n",
    "print(\"\")\n",
    "print(\"The best spam model (Optimizing for precision) is \" + best_spam_model +\n",
    "      \" It's precision score was\" +str(round(spam_precision, 3)) +\" and it took \" + str(round(spam_time, 2) ) +\" seconds to run.\")"
   ]
  },
  {
   "cell_type": "code",
   "execution_count": null,
   "id": "naked-healthcare",
   "metadata": {},
   "outputs": [],
   "source": [
    "for key, value in narrow_data_model_stats.items():\n",
    "    print(key)\n",
    "    print(value['confuse'])"
   ]
  },
  {
   "cell_type": "code",
   "execution_count": null,
   "id": "waiting-swing",
   "metadata": {},
   "outputs": [],
   "source": [
    "#That didn't go well, so we're going to play with oversampling our smokers in both sets"
   ]
  },
  {
   "cell_type": "code",
   "execution_count": null,
   "id": "directed-northwest",
   "metadata": {},
   "outputs": [],
   "source": [
    "Xy_to_oversample= X_train.join(y_train)"
   ]
  },
  {
   "cell_type": "code",
   "execution_count": null,
   "id": "optional-database",
   "metadata": {},
   "outputs": [],
   "source": [
    "Xy_mask = Xy_to_oversample.smokes == 'yes'\n",
    "Xy_oversampled = resample(Xy_to_oversample[Xy_mask], n_samples=20000, replace=True)"
   ]
  },
  {
   "cell_type": "code",
   "execution_count": null,
   "id": "shared-monroe",
   "metadata": {},
   "outputs": [],
   "source": [
    "oversampled_X_train = Xy_oversampled.drop('smokes', axis=1)    \n",
    "oversampled_y_train = Xy_oversampled.smokes"
   ]
  },
  {
   "cell_type": "markdown",
   "id": "other-draft",
   "metadata": {},
   "source": [
    "# resampled Wide Data"
   ]
  },
  {
   "cell_type": "code",
   "execution_count": null,
   "id": "sunset-laugh",
   "metadata": {
    "scrolled": true
   },
   "outputs": [],
   "source": [
    "wide_data_model_stats = chonky_model_aggregator(oversampled_X_train, oversampled_y_train, X_test, y_test)"
   ]
  },
  {
   "cell_type": "code",
   "execution_count": null,
   "id": "finished-credit",
   "metadata": {},
   "outputs": [],
   "source": [
    "for key, value in wide_data_model_stats.items():\n",
    "    print(key)a\n",
    "    print(value['confuse'])"
   ]
  },
  {
   "cell_type": "markdown",
   "id": "liberal-stroke",
   "metadata": {},
   "source": [
    "# Resampled Narrow Data"
   ]
  },
  {
   "cell_type": "code",
   "execution_count": null,
   "id": "complimentary-bidder",
   "metadata": {},
   "outputs": [],
   "source": [
    "Narrow_Xy_to_oversample= Narrow_X_train.join(Narrow_y_train)"
   ]
  },
  {
   "cell_type": "code",
   "execution_count": null,
   "id": "transsexual-stranger",
   "metadata": {},
   "outputs": [],
   "source": [
    "Narrow_Xy_mask = Narrow_Xy_to_oversample.smokes == 'yes'\n",
    "Narrow_Xy_oversampled = resample(Narrow_Xy_to_oversample[Narrow_Xy_mask], n_samples=20000, replace=True)"
   ]
  },
  {
   "cell_type": "code",
   "execution_count": null,
   "id": "hollywood-jimmy",
   "metadata": {},
   "outputs": [],
   "source": [
    "Narrow_oversampled_X_train = Narrow_Xy_oversampled.drop('smokes', axis=1)    \n",
    "Narrow_oversampled_y_train = Narrow_Xy_oversampled.smokes"
   ]
  },
  {
   "cell_type": "code",
   "execution_count": null,
   "id": "departmental-chancellor",
   "metadata": {},
   "outputs": [],
   "source": [
    "narrow_resampled_data_model_stats = chonky_model_aggregator(Narrow_oversampled_X_train, Narrow_oversampled_y_train, Narrow_X_test, Narrow_y_test)"
   ]
  },
  {
   "cell_type": "code",
   "execution_count": null,
   "id": "prostate-mathematics",
   "metadata": {},
   "outputs": [],
   "source": [
    "for key, value in narrow_resampled_data_model_stats.items():\n",
    "    print(key)\n",
    "    print(value['confuse'])"
   ]
  },
  {
   "cell_type": "markdown",
   "id": "inner-airport",
   "metadata": {},
   "source": [
    "# Bayes Resampling"
   ]
  },
  {
   "cell_type": "code",
   "execution_count": null,
   "id": "official-beads",
   "metadata": {},
   "outputs": [],
   "source": [
    "pbounds = {'samples': (500,50000)}"
   ]
  },
  {
   "cell_type": "code",
   "execution_count": null,
   "id": "fatty-tiger",
   "metadata": {},
   "outputs": [],
   "source": [
    "def precise_sampling_bayes_box(samples):\n",
    "    \n",
    "    Xy_to_oversample= X_train.join(y_train)\n",
    "    Xy_mask = Xy_to_oversample.smokes == 'yes'\n",
    "    Xy_oversampled = resample(Xy_to_oversample[Xy_mask], n_samples=int(samples), replace=True)\n",
    "    oversampled_X_train = Xy_oversampled.drop('smokes', axis=1)    \n",
    "    oversampled_y_train = Xy_oversampled.smokes\n",
    "    \n",
    "    \n",
    "    \n",
    "    \n",
    "    #testing the data\n",
    "    model_stats = chonky_model_aggregator(oversampled_X_train, oversampled_y_train, X_test, y_test)\n",
    "    best_spam_model, spam_precision, spam_time = spam_evaluator(model_stats)\n",
    "    return med_precision\n",
    "    "
   ]
  },
  {
   "cell_type": "code",
   "execution_count": null,
   "id": "material-career",
   "metadata": {},
   "outputs": [],
   "source": [
    "def recall_sampling_bayes_box(samples):\n",
    "    \n",
    "    Xy_to_oversample= X_train.join(y_train)\n",
    "    Xy_mask = Xy_to_oversample.smokes == 'yes'\n",
    "    Xy_oversampled = resample(Xy_to_oversample[Xy_mask], n_samples=int(samples), replace=True)\n",
    "    oversampled_X_train = Xy_oversampled.drop('smokes', axis=1)    \n",
    "    oversampled_y_train = Xy_oversampled.smokes\n",
    "    \n",
    "    \n",
    "    \n",
    "    \n",
    "    #testing the data\n",
    "    model_stats = chonky_model_aggregator(oversampled_X_train, oversampled_y_train, X_test, y_test)\n",
    "    best_med_model, recall, med_time = medical_evaluator(model_stats)\n",
    "    return med_precision\n",
    "    "
   ]
  },
  {
   "cell_type": "code",
   "execution_count": null,
   "id": "material-state",
   "metadata": {},
   "outputs": [],
   "source": [
    "optimizer = BayesianOptimization(\n",
    "    recall_sampling_bayes_box,\n",
    "    pbounds=pbounds\n",
    ")"
   ]
  },
  {
   "cell_type": "code",
   "execution_count": null,
   "id": "alive-diamond",
   "metadata": {},
   "outputs": [],
   "source": [
    "bayes_sampling_time_start= time.time()\n",
    "optimizer.maximize(init_points=15, n_iter=10)\n",
    "bayes_sampling_time_stop= time.time()"
   ]
  },
  {
   "cell_type": "code",
   "execution_count": null,
   "id": "multiple-thread",
   "metadata": {},
   "outputs": [],
   "source": [
    "print(((bayes_sampling_time_stop- bayes_sampling_time_start)/60)/60)"
   ]
  },
  {
   "cell_type": "code",
   "execution_count": null,
   "id": "frank-korean",
   "metadata": {},
   "outputs": [],
   "source": []
  }
 ],
 "metadata": {
  "kernelspec": {
   "display_name": "Python 3",
   "language": "python",
   "name": "python3"
  },
  "language_info": {
   "codemirror_mode": {
    "name": "ipython",
    "version": 3
   },
   "file_extension": ".py",
   "mimetype": "text/x-python",
   "name": "python",
   "nbconvert_exporter": "python",
   "pygments_lexer": "ipython3",
   "version": "3.9.1"
  }
 },
 "nbformat": 4,
 "nbformat_minor": 5
}
